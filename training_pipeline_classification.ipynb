{
 "cells": [
  {
   "cell_type": "code",
   "execution_count": 12,
   "metadata": {},
   "outputs": [],
   "source": [
    "import hopsworks\n",
    "import pandas as pd\n",
    "#from sklearn.neighbors import KNeighborsClassifier\n",
    "from sklearn.metrics import accuracy_score\n",
    "from sklearn.metrics import confusion_matrix\n",
    "from sklearn.metrics import classification_report\n",
    "import matplotlib.pyplot as plt\n",
    "import numpy as np\n",
    "import seaborn as sns\n",
    "from matplotlib import pyplot\n",
    "from hsml.schema import Schema\n",
    "from hsml.model_schema import ModelSchema\n",
    "import joblib\n",
    "import os\n",
    "from sklearn.ensemble import RandomForestClassifier\n",
    "from sklearn.linear_model import LogisticRegression\n",
    "import torch\n",
    "import torch.nn as nn\n",
    "import torch.optim as optim\n",
    "from torch.utils.data import DataLoader, TensorDataset\n",
    "from sklearn.preprocessing import StandardScaler\n",
    "from sklearn.model_selection import train_test_split\n"
   ]
  },
  {
   "cell_type": "code",
   "execution_count": 2,
   "metadata": {},
   "outputs": [
    {
     "name": "stdout",
     "output_type": "stream",
     "text": [
      "Connected. Call `.close()` to terminate connection gracefully.\n",
      "\n",
      "Logged in to project, explore it here https://c.app.hopsworks.ai:443/p/194714\n",
      "Connected. Call `.close()` to terminate connection gracefully.\n"
     ]
    }
   ],
   "source": [
    "# You have to set the environment variable 'HOPSWORKS_API_KEY' for login to succeed\n",
    "project = hopsworks.login()\n",
    "fs = project.get_feature_store()"
   ]
  },
  {
   "cell_type": "markdown",
   "metadata": {},
   "source": [
    "#### Get or Create a new feature view"
   ]
  },
  {
   "cell_type": "code",
   "execution_count": 3,
   "metadata": {},
   "outputs": [],
   "source": [
    "# The feature view is the input set of features for your model. The features can come from different feature groups.    \n",
    "# You can select features from different feature groups and join them together to create a feature view\n",
    "flight_fg = fs.get_feature_group(name=\"flight_data_v2_class\", version=1)\n",
    "query = flight_fg.select_all()\n",
    "feature_view = fs.get_or_create_feature_view(name=\"flight_data_v2_class\",\n",
    "                                  version=1,\n",
    "                                  description=\"Read from Flight Delay dataset\",\n",
    "                                  labels=[\"dep_delay_new\"],\n",
    "                                  query=query)"
   ]
  },
  {
   "cell_type": "markdown",
   "metadata": {},
   "source": [
    "#### Create a new train test split"
   ]
  },
  {
   "cell_type": "code",
   "execution_count": 4,
   "metadata": {},
   "outputs": [
    {
     "name": "stdout",
     "output_type": "stream",
     "text": [
      "Finished: Reading data from Hopsworks, using ArrowFlight (16.90s) \n"
     ]
    },
    {
     "name": "stderr",
     "output_type": "stream",
     "text": [
      "VersionWarning: Incremented version to `4`.\n"
     ]
    }
   ],
   "source": [
    "# You can read training data, randomly split into train/test sets of features (X) and labels (y)        \n",
    "X_train, X_test, y_train, y_test = feature_view.train_test_split(test_size=0.2)"
   ]
  },
  {
   "cell_type": "markdown",
   "metadata": {},
   "source": [
    "#### Read from existing train test split"
   ]
  },
  {
   "cell_type": "code",
   "execution_count": null,
   "metadata": {},
   "outputs": [],
   "source": [
    "#flight_fg = fs.get_feature_group(name=\"flight_data\", version=1)\n",
    "#query = flight_fg.select_all()\n",
    "feature_view = fs.get_feature_view(name=\"flight_data_v2_class\",version=1)\n",
    "# get a training dataset with train and test splits\n",
    "X_train, X_test, y_train, y_test = feature_view.get_train_test_split(training_dataset_version=1)"
   ]
  },
  {
   "cell_type": "code",
   "execution_count": 5,
   "metadata": {},
   "outputs": [
    {
     "data": {
      "text/html": [
       "<div>\n",
       "<style scoped>\n",
       "    .dataframe tbody tr th:only-of-type {\n",
       "        vertical-align: middle;\n",
       "    }\n",
       "\n",
       "    .dataframe tbody tr th {\n",
       "        vertical-align: top;\n",
       "    }\n",
       "\n",
       "    .dataframe thead th {\n",
       "        text-align: right;\n",
       "    }\n",
       "</style>\n",
       "<table border=\"1\" class=\"dataframe\">\n",
       "  <thead>\n",
       "    <tr style=\"text-align: right;\">\n",
       "      <th></th>\n",
       "      <th>year</th>\n",
       "      <th>month</th>\n",
       "      <th>day_of_month</th>\n",
       "      <th>day_of_week</th>\n",
       "      <th>origin_airport_id</th>\n",
       "      <th>origin_wac</th>\n",
       "      <th>dest_airport_id</th>\n",
       "      <th>dest_wac</th>\n",
       "      <th>crs_dep_time</th>\n",
       "      <th>crs_arr_time</th>\n",
       "      <th>hourlydewpointtemperature</th>\n",
       "      <th>hourlydrybulbtemperature</th>\n",
       "      <th>hourlyprecipitation</th>\n",
       "      <th>hourlyrelativehumidity</th>\n",
       "      <th>hourlystationpressure</th>\n",
       "      <th>hourlyvisibility</th>\n",
       "      <th>hourlywinddirection</th>\n",
       "      <th>hourlywindgustspeed</th>\n",
       "      <th>hourlywindspeed</th>\n",
       "    </tr>\n",
       "  </thead>\n",
       "  <tbody>\n",
       "    <tr>\n",
       "      <th>1</th>\n",
       "      <td>2021</td>\n",
       "      <td>3</td>\n",
       "      <td>20</td>\n",
       "      <td>6</td>\n",
       "      <td>10397</td>\n",
       "      <td>34</td>\n",
       "      <td>11697</td>\n",
       "      <td>33</td>\n",
       "      <td>925</td>\n",
       "      <td>1120</td>\n",
       "      <td>-6.7</td>\n",
       "      <td>8.3</td>\n",
       "      <td>0.0</td>\n",
       "      <td>34.0</td>\n",
       "      <td>992.89</td>\n",
       "      <td>16.09</td>\n",
       "      <td>70</td>\n",
       "      <td>13.0</td>\n",
       "      <td>10.0</td>\n",
       "    </tr>\n",
       "    <tr>\n",
       "      <th>2</th>\n",
       "      <td>2021</td>\n",
       "      <td>8</td>\n",
       "      <td>31</td>\n",
       "      <td>2</td>\n",
       "      <td>12264</td>\n",
       "      <td>38</td>\n",
       "      <td>14771</td>\n",
       "      <td>91</td>\n",
       "      <td>715</td>\n",
       "      <td>950</td>\n",
       "      <td>21.1</td>\n",
       "      <td>23.9</td>\n",
       "      <td>0.0</td>\n",
       "      <td>84.0</td>\n",
       "      <td>1000.00</td>\n",
       "      <td>16.00</td>\n",
       "      <td>0</td>\n",
       "      <td>0.0</td>\n",
       "      <td>0.0</td>\n",
       "    </tr>\n",
       "    <tr>\n",
       "      <th>5</th>\n",
       "      <td>2021</td>\n",
       "      <td>7</td>\n",
       "      <td>7</td>\n",
       "      <td>3</td>\n",
       "      <td>12892</td>\n",
       "      <td>91</td>\n",
       "      <td>11057</td>\n",
       "      <td>36</td>\n",
       "      <td>2359</td>\n",
       "      <td>758</td>\n",
       "      <td>15.0</td>\n",
       "      <td>18.3</td>\n",
       "      <td>0.0</td>\n",
       "      <td>81.0</td>\n",
       "      <td>998.31</td>\n",
       "      <td>16.09</td>\n",
       "      <td>330</td>\n",
       "      <td>0.0</td>\n",
       "      <td>2.0</td>\n",
       "    </tr>\n",
       "    <tr>\n",
       "      <th>7</th>\n",
       "      <td>2021</td>\n",
       "      <td>5</td>\n",
       "      <td>31</td>\n",
       "      <td>1</td>\n",
       "      <td>12266</td>\n",
       "      <td>74</td>\n",
       "      <td>14771</td>\n",
       "      <td>91</td>\n",
       "      <td>712</td>\n",
       "      <td>923</td>\n",
       "      <td>20.6</td>\n",
       "      <td>25.0</td>\n",
       "      <td>0.0</td>\n",
       "      <td>77.0</td>\n",
       "      <td>1016.26</td>\n",
       "      <td>16.09</td>\n",
       "      <td>100</td>\n",
       "      <td>0.0</td>\n",
       "      <td>3.0</td>\n",
       "    </tr>\n",
       "    <tr>\n",
       "      <th>8</th>\n",
       "      <td>2022</td>\n",
       "      <td>2</td>\n",
       "      <td>8</td>\n",
       "      <td>2</td>\n",
       "      <td>12889</td>\n",
       "      <td>85</td>\n",
       "      <td>12892</td>\n",
       "      <td>91</td>\n",
       "      <td>1017</td>\n",
       "      <td>1136</td>\n",
       "      <td>-8.9</td>\n",
       "      <td>15.6</td>\n",
       "      <td>0.0</td>\n",
       "      <td>18.0</td>\n",
       "      <td>949.54</td>\n",
       "      <td>16.09</td>\n",
       "      <td>0</td>\n",
       "      <td>0.0</td>\n",
       "      <td>0.0</td>\n",
       "    </tr>\n",
       "    <tr>\n",
       "      <th>...</th>\n",
       "      <td>...</td>\n",
       "      <td>...</td>\n",
       "      <td>...</td>\n",
       "      <td>...</td>\n",
       "      <td>...</td>\n",
       "      <td>...</td>\n",
       "      <td>...</td>\n",
       "      <td>...</td>\n",
       "      <td>...</td>\n",
       "      <td>...</td>\n",
       "      <td>...</td>\n",
       "      <td>...</td>\n",
       "      <td>...</td>\n",
       "      <td>...</td>\n",
       "      <td>...</td>\n",
       "      <td>...</td>\n",
       "      <td>...</td>\n",
       "      <td>...</td>\n",
       "      <td>...</td>\n",
       "    </tr>\n",
       "    <tr>\n",
       "      <th>1662950</th>\n",
       "      <td>2022</td>\n",
       "      <td>5</td>\n",
       "      <td>28</td>\n",
       "      <td>6</td>\n",
       "      <td>14771</td>\n",
       "      <td>91</td>\n",
       "      <td>12889</td>\n",
       "      <td>85</td>\n",
       "      <td>2045</td>\n",
       "      <td>2219</td>\n",
       "      <td>12.2</td>\n",
       "      <td>15.0</td>\n",
       "      <td>0.0</td>\n",
       "      <td>83.0</td>\n",
       "      <td>1014.22</td>\n",
       "      <td>16.09</td>\n",
       "      <td>260</td>\n",
       "      <td>0.0</td>\n",
       "      <td>8.0</td>\n",
       "    </tr>\n",
       "    <tr>\n",
       "      <th>1662952</th>\n",
       "      <td>2021</td>\n",
       "      <td>6</td>\n",
       "      <td>30</td>\n",
       "      <td>3</td>\n",
       "      <td>11057</td>\n",
       "      <td>36</td>\n",
       "      <td>13204</td>\n",
       "      <td>33</td>\n",
       "      <td>1805</td>\n",
       "      <td>1945</td>\n",
       "      <td>20.6</td>\n",
       "      <td>30.0</td>\n",
       "      <td>0.0</td>\n",
       "      <td>57.0</td>\n",
       "      <td>991.53</td>\n",
       "      <td>16.09</td>\n",
       "      <td>220</td>\n",
       "      <td>0.0</td>\n",
       "      <td>4.0</td>\n",
       "    </tr>\n",
       "    <tr>\n",
       "      <th>1662953</th>\n",
       "      <td>2021</td>\n",
       "      <td>12</td>\n",
       "      <td>31</td>\n",
       "      <td>5</td>\n",
       "      <td>13204</td>\n",
       "      <td>33</td>\n",
       "      <td>13930</td>\n",
       "      <td>41</td>\n",
       "      <td>800</td>\n",
       "      <td>1000</td>\n",
       "      <td>20.0</td>\n",
       "      <td>20.6</td>\n",
       "      <td>0.0</td>\n",
       "      <td>96.0</td>\n",
       "      <td>1016.59</td>\n",
       "      <td>3.22</td>\n",
       "      <td>0</td>\n",
       "      <td>0.0</td>\n",
       "      <td>0.0</td>\n",
       "    </tr>\n",
       "    <tr>\n",
       "      <th>1662954</th>\n",
       "      <td>2021</td>\n",
       "      <td>9</td>\n",
       "      <td>29</td>\n",
       "      <td>3</td>\n",
       "      <td>11618</td>\n",
       "      <td>21</td>\n",
       "      <td>12266</td>\n",
       "      <td>74</td>\n",
       "      <td>1530</td>\n",
       "      <td>1820</td>\n",
       "      <td>5.0</td>\n",
       "      <td>21.7</td>\n",
       "      <td>0.0</td>\n",
       "      <td>34.0</td>\n",
       "      <td>1013.88</td>\n",
       "      <td>16.09</td>\n",
       "      <td>310</td>\n",
       "      <td>10.0</td>\n",
       "      <td>7.0</td>\n",
       "    </tr>\n",
       "    <tr>\n",
       "      <th>1662955</th>\n",
       "      <td>2022</td>\n",
       "      <td>2</td>\n",
       "      <td>10</td>\n",
       "      <td>4</td>\n",
       "      <td>11057</td>\n",
       "      <td>36</td>\n",
       "      <td>13204</td>\n",
       "      <td>33</td>\n",
       "      <td>2135</td>\n",
       "      <td>2320</td>\n",
       "      <td>-3.3</td>\n",
       "      <td>11.1</td>\n",
       "      <td>0.0</td>\n",
       "      <td>37.0</td>\n",
       "      <td>989.16</td>\n",
       "      <td>16.09</td>\n",
       "      <td>330</td>\n",
       "      <td>0.0</td>\n",
       "      <td>3.0</td>\n",
       "    </tr>\n",
       "  </tbody>\n",
       "</table>\n",
       "<p>1330364 rows × 19 columns</p>\n",
       "</div>"
      ],
      "text/plain": [
       "         year  month  day_of_month  day_of_week  origin_airport_id  \\\n",
       "1        2021      3            20            6              10397   \n",
       "2        2021      8            31            2              12264   \n",
       "5        2021      7             7            3              12892   \n",
       "7        2021      5            31            1              12266   \n",
       "8        2022      2             8            2              12889   \n",
       "...       ...    ...           ...          ...                ...   \n",
       "1662950  2022      5            28            6              14771   \n",
       "1662952  2021      6            30            3              11057   \n",
       "1662953  2021     12            31            5              13204   \n",
       "1662954  2021      9            29            3              11618   \n",
       "1662955  2022      2            10            4              11057   \n",
       "\n",
       "         origin_wac  dest_airport_id  dest_wac  crs_dep_time  crs_arr_time  \\\n",
       "1                34            11697        33           925          1120   \n",
       "2                38            14771        91           715           950   \n",
       "5                91            11057        36          2359           758   \n",
       "7                74            14771        91           712           923   \n",
       "8                85            12892        91          1017          1136   \n",
       "...             ...              ...       ...           ...           ...   \n",
       "1662950          91            12889        85          2045          2219   \n",
       "1662952          36            13204        33          1805          1945   \n",
       "1662953          33            13930        41           800          1000   \n",
       "1662954          21            12266        74          1530          1820   \n",
       "1662955          36            13204        33          2135          2320   \n",
       "\n",
       "         hourlydewpointtemperature  hourlydrybulbtemperature  \\\n",
       "1                             -6.7                       8.3   \n",
       "2                             21.1                      23.9   \n",
       "5                             15.0                      18.3   \n",
       "7                             20.6                      25.0   \n",
       "8                             -8.9                      15.6   \n",
       "...                            ...                       ...   \n",
       "1662950                       12.2                      15.0   \n",
       "1662952                       20.6                      30.0   \n",
       "1662953                       20.0                      20.6   \n",
       "1662954                        5.0                      21.7   \n",
       "1662955                       -3.3                      11.1   \n",
       "\n",
       "         hourlyprecipitation  hourlyrelativehumidity  hourlystationpressure  \\\n",
       "1                        0.0                    34.0                 992.89   \n",
       "2                        0.0                    84.0                1000.00   \n",
       "5                        0.0                    81.0                 998.31   \n",
       "7                        0.0                    77.0                1016.26   \n",
       "8                        0.0                    18.0                 949.54   \n",
       "...                      ...                     ...                    ...   \n",
       "1662950                  0.0                    83.0                1014.22   \n",
       "1662952                  0.0                    57.0                 991.53   \n",
       "1662953                  0.0                    96.0                1016.59   \n",
       "1662954                  0.0                    34.0                1013.88   \n",
       "1662955                  0.0                    37.0                 989.16   \n",
       "\n",
       "         hourlyvisibility  hourlywinddirection  hourlywindgustspeed  \\\n",
       "1                   16.09                   70                 13.0   \n",
       "2                   16.00                    0                  0.0   \n",
       "5                   16.09                  330                  0.0   \n",
       "7                   16.09                  100                  0.0   \n",
       "8                   16.09                    0                  0.0   \n",
       "...                   ...                  ...                  ...   \n",
       "1662950             16.09                  260                  0.0   \n",
       "1662952             16.09                  220                  0.0   \n",
       "1662953              3.22                    0                  0.0   \n",
       "1662954             16.09                  310                 10.0   \n",
       "1662955             16.09                  330                  0.0   \n",
       "\n",
       "         hourlywindspeed  \n",
       "1                   10.0  \n",
       "2                    0.0  \n",
       "5                    2.0  \n",
       "7                    3.0  \n",
       "8                    0.0  \n",
       "...                  ...  \n",
       "1662950              8.0  \n",
       "1662952              4.0  \n",
       "1662953              0.0  \n",
       "1662954              7.0  \n",
       "1662955              3.0  \n",
       "\n",
       "[1330364 rows x 19 columns]"
      ]
     },
     "execution_count": 5,
     "metadata": {},
     "output_type": "execute_result"
    }
   ],
   "source": [
    "X_train"
   ]
  },
  {
   "cell_type": "code",
   "execution_count": 6,
   "metadata": {},
   "outputs": [
    {
     "name": "stdout",
     "output_type": "stream",
     "text": [
      "<class 'pandas.core.frame.DataFrame'>\n",
      "Index: 1330364 entries, 1 to 1662955\n",
      "Data columns (total 19 columns):\n",
      " #   Column                     Non-Null Count    Dtype  \n",
      "---  ------                     --------------    -----  \n",
      " 0   year                       1330364 non-null  int64  \n",
      " 1   month                      1330364 non-null  int64  \n",
      " 2   day_of_month               1330364 non-null  int64  \n",
      " 3   day_of_week                1330364 non-null  int64  \n",
      " 4   origin_airport_id          1330364 non-null  int64  \n",
      " 5   origin_wac                 1330364 non-null  int64  \n",
      " 6   dest_airport_id            1330364 non-null  int64  \n",
      " 7   dest_wac                   1330364 non-null  int64  \n",
      " 8   crs_dep_time               1330364 non-null  int64  \n",
      " 9   crs_arr_time               1330364 non-null  int64  \n",
      " 10  hourlydewpointtemperature  1330364 non-null  float64\n",
      " 11  hourlydrybulbtemperature   1330364 non-null  float64\n",
      " 12  hourlyprecipitation        1330364 non-null  float64\n",
      " 13  hourlyrelativehumidity     1330364 non-null  float64\n",
      " 14  hourlystationpressure      1330364 non-null  float64\n",
      " 15  hourlyvisibility           1330364 non-null  float64\n",
      " 16  hourlywinddirection        1330364 non-null  int64  \n",
      " 17  hourlywindgustspeed        1330364 non-null  float64\n",
      " 18  hourlywindspeed            1330364 non-null  float64\n",
      "dtypes: float64(8), int64(11)\n",
      "memory usage: 203.0 MB\n"
     ]
    }
   ],
   "source": [
    "X_train.info()"
   ]
  },
  {
   "cell_type": "code",
   "execution_count": 7,
   "metadata": {},
   "outputs": [
    {
     "data": {
      "text/html": [
       "<div>\n",
       "<style scoped>\n",
       "    .dataframe tbody tr th:only-of-type {\n",
       "        vertical-align: middle;\n",
       "    }\n",
       "\n",
       "    .dataframe tbody tr th {\n",
       "        vertical-align: top;\n",
       "    }\n",
       "\n",
       "    .dataframe thead th {\n",
       "        text-align: right;\n",
       "    }\n",
       "</style>\n",
       "<table border=\"1\" class=\"dataframe\">\n",
       "  <thead>\n",
       "    <tr style=\"text-align: right;\">\n",
       "      <th></th>\n",
       "      <th>dep_delay_new</th>\n",
       "    </tr>\n",
       "  </thead>\n",
       "  <tbody>\n",
       "    <tr>\n",
       "      <th>1</th>\n",
       "      <td>0</td>\n",
       "    </tr>\n",
       "    <tr>\n",
       "      <th>2</th>\n",
       "      <td>0</td>\n",
       "    </tr>\n",
       "    <tr>\n",
       "      <th>5</th>\n",
       "      <td>0</td>\n",
       "    </tr>\n",
       "    <tr>\n",
       "      <th>7</th>\n",
       "      <td>0</td>\n",
       "    </tr>\n",
       "    <tr>\n",
       "      <th>8</th>\n",
       "      <td>0</td>\n",
       "    </tr>\n",
       "    <tr>\n",
       "      <th>...</th>\n",
       "      <td>...</td>\n",
       "    </tr>\n",
       "    <tr>\n",
       "      <th>1662950</th>\n",
       "      <td>0</td>\n",
       "    </tr>\n",
       "    <tr>\n",
       "      <th>1662952</th>\n",
       "      <td>3</td>\n",
       "    </tr>\n",
       "    <tr>\n",
       "      <th>1662953</th>\n",
       "      <td>0</td>\n",
       "    </tr>\n",
       "    <tr>\n",
       "      <th>1662954</th>\n",
       "      <td>0</td>\n",
       "    </tr>\n",
       "    <tr>\n",
       "      <th>1662955</th>\n",
       "      <td>0</td>\n",
       "    </tr>\n",
       "  </tbody>\n",
       "</table>\n",
       "<p>1330364 rows × 1 columns</p>\n",
       "</div>"
      ],
      "text/plain": [
       "         dep_delay_new\n",
       "1                    0\n",
       "2                    0\n",
       "5                    0\n",
       "7                    0\n",
       "8                    0\n",
       "...                ...\n",
       "1662950              0\n",
       "1662952              3\n",
       "1662953              0\n",
       "1662954              0\n",
       "1662955              0\n",
       "\n",
       "[1330364 rows x 1 columns]"
      ]
     },
     "execution_count": 7,
     "metadata": {},
     "output_type": "execute_result"
    }
   ],
   "source": [
    "y_train"
   ]
  },
  {
   "cell_type": "code",
   "execution_count": 8,
   "metadata": {},
   "outputs": [
    {
     "data": {
      "text/plain": [
       "array([0, 0, 0, ..., 0, 0, 0])"
      ]
     },
     "execution_count": 8,
     "metadata": {},
     "output_type": "execute_result"
    }
   ],
   "source": [
    "y_train.values.ravel()"
   ]
  },
  {
   "cell_type": "markdown",
   "metadata": {},
   "source": [
    "#### Random Forest classifier Model"
   ]
  },
  {
   "cell_type": "code",
   "execution_count": 9,
   "metadata": {},
   "outputs": [
    {
     "name": "stderr",
     "output_type": "stream",
     "text": [
      "DataConversionWarning: A column-vector y was passed when a 1d array was expected. Please change the shape of y to (n_samples,), for example using ravel().\n"
     ]
    },
    {
     "name": "stdout",
     "output_type": "stream",
     "text": [
      "RMSE: 1.0318696696548948\n",
      "MAE: 0.43032003175061334\n",
      "R-squared: -0.20241427387176603\n",
      "Mean Squared Error (MSE): 1.0647550151537017\n"
     ]
    }
   ],
   "source": [
    "# Initialize the Random Forest classifier\n",
    "# Initialize the Random Forest classifier\n",
    "model_RF = RandomForestClassifier(n_estimators=100,max_depth=10, random_state=1)  # Set appropriate parameters\n",
    "\n",
    "# Train the classifier\n",
    "model_RF.fit(X_train, y_train)  # Use X_train for features and y_train for labels\n",
    "\n",
    "# Predict labels for the test set\n",
    "y_pred = model_RF.predict(X_test)\n",
    "\n",
    "\n",
    "# Calculate accuracy\n",
    "accuracy = accuracy_score(y_test, y_pred)\n",
    "print(f\"Accuracy: {accuracy:.2f}\")\n",
    "\n",
    "# Print classification report\n",
    "report = classification_report(y_test, y_pred)\n",
    "print(\"Classification Report:\")\n",
    "print(report)\n",
    "# Compare predictions (y_pred) with the labels in the test set (y_test)\n",
    "metrics = classification_report(y_test, y_pred,output_dict=True)\n",
    "results = confusion_matrix(y_test, y_pred)"
   ]
  },
  {
   "cell_type": "code",
   "execution_count": 13,
   "metadata": {},
   "outputs": [
    {
     "name": "stdout",
     "output_type": "stream",
     "text": [
      "Accuracy: 0.79\n"
     ]
    },
    {
     "name": "stderr",
     "output_type": "stream",
     "text": [
      "UndefinedMetricWarning: Precision and F-score are ill-defined and being set to 0.0 in labels with no predicted samples. Use `zero_division` parameter to control this behavior.\n",
      "UndefinedMetricWarning: Precision and F-score are ill-defined and being set to 0.0 in labels with no predicted samples. Use `zero_division` parameter to control this behavior.\n",
      "UndefinedMetricWarning: Precision and F-score are ill-defined and being set to 0.0 in labels with no predicted samples. Use `zero_division` parameter to control this behavior.\n"
     ]
    },
    {
     "name": "stdout",
     "output_type": "stream",
     "text": [
      "Classification Report:\n",
      "              precision    recall  f1-score   support\n",
      "\n",
      "           0       0.79      1.00      0.89    263807\n",
      "           1       0.00      0.00      0.00     24699\n",
      "           2       0.00      0.00      0.00     12915\n",
      "           3       0.66      0.01      0.03     31171\n",
      "\n",
      "    accuracy                           0.79    332592\n",
      "   macro avg       0.36      0.25      0.23    332592\n",
      "weighted avg       0.69      0.79      0.70    332592\n",
      "\n"
     ]
    },
    {
     "name": "stderr",
     "output_type": "stream",
     "text": [
      "UndefinedMetricWarning: Precision and F-score are ill-defined and being set to 0.0 in labels with no predicted samples. Use `zero_division` parameter to control this behavior.\n",
      "UndefinedMetricWarning: Precision and F-score are ill-defined and being set to 0.0 in labels with no predicted samples. Use `zero_division` parameter to control this behavior.\n",
      "UndefinedMetricWarning: Precision and F-score are ill-defined and being set to 0.0 in labels with no predicted samples. Use `zero_division` parameter to control this behavior.\n"
     ]
    },
    {
     "data": {
      "image/png": "[encoded data removed]",
      "text/plain": [
       "<Figure size 800x600 with 2 Axes>"
      ]
     },
     "metadata": {},
     "output_type": "display_data"
    }
   ],
   "source": [
    "# Calculate accuracy\n",
    "accuracy = accuracy_score(y_test, y_pred)\n",
    "print(f\"Accuracy: {accuracy:.2f}\")\n",
    "\n",
    "# Print classification report\n",
    "report = classification_report(y_test, y_pred)\n",
    "print(\"Classification Report:\")\n",
    "print(report)\n",
    "# Compare predictions (y_pred) with the labels in the test set (y_test)\n",
    "metrics = classification_report(y_test, y_pred,output_dict=True)\n",
    "results = confusion_matrix(y_test, y_pred)\n",
    "\n",
    "# Create a heatmap\n",
    "plt.figure(figsize=(8, 6))\n",
    "sns.heatmap(results, annot=True, fmt='d', cmap='Blues', \n",
    "            xticklabels=[f\"Class {i}\" for i in range(4)], \n",
    "            yticklabels=[f\"Class {i}\" for i in range(4)])\n",
    "plt.xlabel('Predicted')\n",
    "plt.ylabel('Actual')\n",
    "plt.title('Confusion Matrix')\n",
    "plt.show()"
   ]
  },
  {
   "cell_type": "markdown",
   "metadata": {},
   "source": [
    "#### Multinomial Logistic Regression"
   ]
  },
  {
   "cell_type": "code",
   "execution_count": 15,
   "metadata": {},
   "outputs": [
    {
     "name": "stderr",
     "output_type": "stream",
     "text": [
      "DataConversionWarning: A column-vector y was passed when a 1d array was expected. Please change the shape of y to (n_samples, ), for example using ravel().\n",
      "ConvergenceWarning: lbfgs failed to converge (status=1):\n",
      "STOP: TOTAL NO. of ITERATIONS REACHED LIMIT.\n",
      "\n",
      "Increase the number of iterations (max_iter) or scale the data as shown in:\n",
      "    https://scikit-learn.org/stable/modules/preprocessing.html\n",
      "Please also refer to the documentation for alternative solver options:\n",
      "    https://scikit-learn.org/stable/modules/linear_model.html#logistic-regression\n",
      "UndefinedMetricWarning: Precision and F-score are ill-defined and being set to 0.0 in labels with no predicted samples. Use `zero_division` parameter to control this behavior.\n"
     ]
    },
    {
     "name": "stdout",
     "output_type": "stream",
     "text": [
      "Accuracy: 0.79\n"
     ]
    },
    {
     "name": "stderr",
     "output_type": "stream",
     "text": [
      "UndefinedMetricWarning: Precision and F-score are ill-defined and being set to 0.0 in labels with no predicted samples. Use `zero_division` parameter to control this behavior.\n",
      "UndefinedMetricWarning: Precision and F-score are ill-defined and being set to 0.0 in labels with no predicted samples. Use `zero_division` parameter to control this behavior.\n",
      "UndefinedMetricWarning: Precision and F-score are ill-defined and being set to 0.0 in labels with no predicted samples. Use `zero_division` parameter to control this behavior.\n"
     ]
    },
    {
     "name": "stdout",
     "output_type": "stream",
     "text": [
      "Classification Report:\n",
      "              precision    recall  f1-score   support\n",
      "\n",
      "           0       0.79      1.00      0.88    263807\n",
      "           1       0.00      0.00      0.00     24699\n",
      "           2       0.00      0.00      0.00     12915\n",
      "           3       0.00      0.00      0.00     31171\n",
      "\n",
      "    accuracy                           0.79    332592\n",
      "   macro avg       0.20      0.25      0.22    332592\n",
      "weighted avg       0.63      0.79      0.70    332592\n",
      "\n"
     ]
    },
    {
     "name": "stderr",
     "output_type": "stream",
     "text": [
      "UndefinedMetricWarning: Precision and F-score are ill-defined and being set to 0.0 in labels with no predicted samples. Use `zero_division` parameter to control this behavior.\n",
      "UndefinedMetricWarning: Precision and F-score are ill-defined and being set to 0.0 in labels with no predicted samples. Use `zero_division` parameter to control this behavior.\n"
     ]
    },
    {
     "data": {
      "image/png": "[encoded data removed]",
      "text/plain": [
       "<Figure size 800x600 with 2 Axes>"
      ]
     },
     "metadata": {},
     "output_type": "display_data"
    }
   ],
   "source": [
    "# Initialize the Linear Regression model\n",
    "model_logistic = LogisticRegression(max_iter=1000, random_state=1)  # Set appropriate parameters\n",
    "\n",
    "# Fit the model on the training data\n",
    "model_logistic.fit(X_train, y_train)\n",
    "\n",
    "# Make predictions on the test set\n",
    "y_pred = model_logistic.predict(X_test)\n",
    "\n",
    "# Calculate the Mean Squared Error (MSE) on test set\n",
    "# Calculate accuracy\n",
    "accuracy = accuracy_score(y_test, y_pred)\n",
    "print(f\"Accuracy: {accuracy:.2f}\")\n",
    "\n",
    "# Print classification report\n",
    "report = classification_report(y_test, y_pred)\n",
    "print(\"Classification Report:\")\n",
    "print(report)\n",
    "# Compare predictions (y_pred) with the labels in the test set (y_test)\n",
    "metrics = classification_report(y_test, y_pred,output_dict=True)\n",
    "results = confusion_matrix(y_test, y_pred)\n",
    "\n",
    "# Create a heatmap\n",
    "plt.figure(figsize=(8, 6))\n",
    "sns.heatmap(results, annot=True, fmt='d', cmap='Blues', \n",
    "            xticklabels=[f\"Class {i}\" for i in range(4)], \n",
    "            yticklabels=[f\"Class {i}\" for i in range(4)])\n",
    "plt.xlabel('Predicted')\n",
    "plt.ylabel('Actual')\n",
    "plt.title('Confusion Matrix')\n",
    "plt.show()"
   ]
  },
  {
   "cell_type": "markdown",
   "metadata": {},
   "source": [
    "#### Neural Network"
   ]
  },
  {
   "cell_type": "code",
   "execution_count": 17,
   "metadata": {},
   "outputs": [],
   "source": [
    "# Convert data to PyTorch tensors\n",
    "X_train_tensor = torch.tensor(X_train.values, dtype=torch.float32)\n",
    "X_test_tensor = torch.tensor(X_test.values, dtype=torch.float32)\n",
    "y_train_tensor = torch.tensor(y_train.values, dtype=torch.float32)\n",
    "y_test_tensor = torch.tensor(y_test.values, dtype=torch.float32)"
   ]
  },
  {
   "cell_type": "code",
   "execution_count": 18,
   "metadata": {},
   "outputs": [],
   "source": [
    "# Normalize features (optional but often recommended for neural networks)\n",
    "# outputs np arrays\n",
    "scaler = StandardScaler()\n",
    "X_train_scaled = scaler.fit_transform(X_train_tensor)\n",
    "X_test_scaled = scaler.transform(X_test_tensor)"
   ]
  },
  {
   "cell_type": "code",
   "execution_count": 19,
   "metadata": {},
   "outputs": [],
   "source": [
    "# Convert the scaled NumPy arrays back to PyTorch tensors\n",
    "X_train_tensor = torch.tensor(X_train_scaled, dtype=torch.float32)\n",
    "X_test_tensor = torch.tensor(X_test_scaled, dtype=torch.float32)"
   ]
  },
  {
   "cell_type": "code",
   "execution_count": 20,
   "metadata": {},
   "outputs": [],
   "source": [
    "# Convert to PyTorch Dataset\n",
    "train_dataset = TensorDataset(X_train_tensor, y_train_tensor)\n",
    "val_dataset = TensorDataset(X_test_tensor, y_test_tensor)"
   ]
  },
  {
   "cell_type": "code",
   "execution_count": 21,
   "metadata": {},
   "outputs": [],
   "source": [
    "class NeuralNetwork(nn.Module):\n",
    "    def __init__(self, input_size):\n",
    "        super(NeuralNetwork, self).__init__()\n",
    "        self.fc1 = nn.Linear(input_size, 128)\n",
    "        self.relu = nn.ReLU()\n",
    "        self.dropout = nn.Dropout(0.2)\n",
    "        self.fc2 = nn.Linear(128, 64)\n",
    "        self.output = nn.Linear(64, 1)\n",
    "\n",
    "    def forward(self, x):\n",
    "        x = self.fc1(x)\n",
    "        x = self.relu(x)\n",
    "        x = self.dropout(x)\n",
    "        x = self.fc2(x)\n",
    "        x = self.relu(x)\n",
    "        x = self.output(x)\n",
    "        return x"
   ]
  },
  {
   "cell_type": "code",
   "execution_count": 23,
   "metadata": {},
   "outputs": [
    {
     "name": "stdout",
     "output_type": "stream",
     "text": [
      "Epoch 1/25, Train Loss MSE: 2407.4271894304384, Train Loss RMSE: 49.0655403137207, Val Loss MSE: 2323.6752567610556, Val RMSE: 48.20451736450195\n",
      "Epoch 2/25, Train Loss MSE: 2389.8179003234295, Train Loss RMSE: 48.885765075683594, Val Loss MSE: 2314.1992039749293, Val RMSE: 48.10612487792969\n",
      "Epoch 3/25, Train Loss MSE: 2382.5500641100366, Train Loss RMSE: 48.81137466430664, Val Loss MSE: 2311.9186152615453, Val RMSE: 48.08241653442383\n",
      "Epoch 4/25, Train Loss MSE: 2379.301379003904, Train Loss RMSE: 48.77808380126953, Val Loss MSE: 2303.4545022958237, Val RMSE: 47.99431610107422\n",
      "Epoch 5/25, Train Loss MSE: 2374.979973282908, Train Loss RMSE: 48.733768463134766, Val Loss MSE: 2303.423386651414, Val RMSE: 47.99399185180664\n",
      "Epoch 6/25, Train Loss MSE: 2372.982733050942, Train Loss RMSE: 48.71327209472656, Val Loss MSE: 2304.653378919521, Val RMSE: 48.006805419921875\n",
      "Epoch 7/25, Train Loss MSE: 2371.576577881963, Train Loss RMSE: 48.69883728027344, Val Loss MSE: 2302.475309358369, Val RMSE: 47.98411560058594\n",
      "Epoch 8/25, Train Loss MSE: 2370.2579258653445, Train Loss RMSE: 48.6852912902832, Val Loss MSE: 2299.1047081271113, Val RMSE: 47.94898223876953\n",
      "Epoch 9/25, Train Loss MSE: 2368.762772446387, Train Loss RMSE: 48.66993713378906, Val Loss MSE: 2297.995189502328, Val RMSE: 47.937408447265625\n",
      "Epoch 10/25, Train Loss MSE: 2369.28165621415, Train Loss RMSE: 48.675270080566406, Val Loss MSE: 2297.426866485496, Val RMSE: 47.931480407714844\n",
      "Epoch 11/25, Train Loss MSE: 2367.260085848346, Train Loss RMSE: 48.65449523925781, Val Loss MSE: 2294.403114526575, Val RMSE: 47.899925231933594\n",
      "Epoch 12/25, Train Loss MSE: 2366.1506794405436, Train Loss RMSE: 48.643096923828125, Val Loss MSE: 2298.6223261959626, Val RMSE: 47.94395065307617\n",
      "Epoch 13/25, Train Loss MSE: 2366.5799245742137, Train Loss RMSE: 48.64750671386719, Val Loss MSE: 2296.158810122095, Val RMSE: 47.918251037597656\n",
      "Epoch 14/25, Train Loss MSE: 2365.3461868103354, Train Loss RMSE: 48.634822845458984, Val Loss MSE: 2296.1642169383526, Val RMSE: 47.91830825805664\n",
      "Epoch 15/25, Train Loss MSE: 2365.278002872321, Train Loss RMSE: 48.634124755859375, Val Loss MSE: 2294.450389346779, Val RMSE: 47.900421142578125\n",
      "Epoch 16/25, Train Loss MSE: 2364.415768054322, Train Loss RMSE: 48.62525939941406, Val Loss MSE: 2294.8574058007157, Val RMSE: 47.90467071533203\n",
      "Epoch 17/25, Train Loss MSE: 2363.854423919889, Train Loss RMSE: 48.61948776245117, Val Loss MSE: 2293.0598944861636, Val RMSE: 47.88590621948242\n",
      "Epoch 18/25, Train Loss MSE: 2363.2373095359294, Train Loss RMSE: 48.61314010620117, Val Loss MSE: 2293.8798824917335, Val RMSE: 47.894466400146484\n",
      "Epoch 19/25, Train Loss MSE: 2362.2683708164127, Train Loss RMSE: 48.603172302246094, Val Loss MSE: 2291.0011711546335, Val RMSE: 47.864402770996094\n",
      "Epoch 20/25, Train Loss MSE: 2362.829264367694, Train Loss RMSE: 48.608943939208984, Val Loss MSE: 2291.718923668185, Val RMSE: 47.87190246582031\n",
      "Epoch 21/25, Train Loss MSE: 2362.8594661269826, Train Loss RMSE: 48.6092529296875, Val Loss MSE: 2291.8246121695574, Val RMSE: 47.87300491333008\n",
      "Epoch 22/25, Train Loss MSE: 2362.8698789530767, Train Loss RMSE: 48.60935974121094, Val Loss MSE: 2291.1578690677693, Val RMSE: 47.86604309082031\n",
      "Epoch 23/25, Train Loss MSE: 2362.0947418983646, Train Loss RMSE: 48.60138702392578, Val Loss MSE: 2291.4373618267764, Val RMSE: 47.868961334228516\n",
      "Epoch 24/25, Train Loss MSE: 2361.163420181836, Train Loss RMSE: 48.59180450439453, Val Loss MSE: 2295.0610352971817, Val RMSE: 47.906795501708984\n",
      "Epoch 25/25, Train Loss MSE: 2361.1525759062692, Train Loss RMSE: 48.59169006347656, Val Loss MSE: 2292.8007509548297, Val RMSE: 47.883201599121094\n"
     ]
    }
   ],
   "source": [
    "# Initialize the model\n",
    "input_size = X_train_tensor.shape[1]\n",
    "model = NeuralNetwork(input_size)\n",
    "\n",
    "# Define loss function and optimizer\n",
    "criterion = nn.MSELoss()\n",
    "optimizer = optim.Adam(model.parameters(), lr=0.001)\n",
    "\n",
    "# Define data loaders\n",
    "train_loader = DataLoader(train_dataset, batch_size=32, shuffle=True)\n",
    "val_loader = DataLoader(val_dataset, batch_size=32)\n",
    "\n",
    "# Train the model\n",
    "num_epochs = 25\n",
    "for epoch in range(num_epochs):\n",
    "    model.train()\n",
    "    running_loss = 0.0\n",
    "    for inputs, targets in train_loader:\n",
    "        optimizer.zero_grad()\n",
    "        outputs = model(inputs)\n",
    "        loss = criterion(outputs, targets)\n",
    "        loss.backward()\n",
    "        optimizer.step()\n",
    "        running_loss += loss.item()\n",
    "    \n",
    "    #convert to rmse\n",
    "    train_loss = running_loss / len(train_loader)\n",
    "    train_rmse = torch.sqrt(torch.tensor(train_loss))\n",
    "    \n",
    "    # Calculate validation loss\n",
    "    model.eval()\n",
    "    val_loss = 0.0\n",
    "    with torch.no_grad():\n",
    "        for inputs, targets in val_loader:\n",
    "            outputs = model(inputs)\n",
    "            val_loss += criterion(outputs, targets).item()\n",
    "        val_loss /= len(val_loader)\n",
    "\n",
    "    val_rmse = torch.sqrt(torch.tensor(val_loss))\n",
    "\n",
    "    print(f\"Epoch {epoch+1}/{num_epochs}, Train Loss MSE: {train_loss}, Train Loss RMSE: {train_rmse}, Val Loss MSE: {val_loss}, Val RMSE: {val_rmse}\")"
   ]
  },
  {
   "cell_type": "markdown",
   "metadata": {},
   "source": [
    "#### Save to Hopsworks Model Registry "
   ]
  },
  {
   "cell_type": "code",
   "execution_count": 24,
   "metadata": {},
   "outputs": [
    {
     "name": "stdout",
     "output_type": "stream",
     "text": [
      "Connected. Call `.close()` to terminate connection gracefully.\n"
     ]
    },
    {
     "name": "stderr",
     "output_type": "stream",
     "text": [
      "Uploading: 100.000%|██████████| 46789/46789 elapsed<00:01 remaining<00:001,  3.23it/s]\n",
      "Model export complete: 100%|██████████| 6/6 [00:08<00:00,  1.36s/it]                   "
     ]
    },
    {
     "name": "stdout",
     "output_type": "stream",
     "text": [
      "Model created, explore it at https://c.app.hopsworks.ai:443/p/194714/models/flight_delay_model/1\n"
     ]
    },
    {
     "name": "stderr",
     "output_type": "stream",
     "text": [
      "\n"
     ]
    },
    {
     "data": {
      "text/plain": [
       "Model(name: 'flight_delay_model', version: 1)"
      ]
     },
     "execution_count": 24,
     "metadata": {},
     "output_type": "execute_result"
    }
   ],
   "source": [
    "# We will now upload our model to the Hopsworks Model Registry. First get an object for the model registry.\n",
    "mr = project.get_model_registry()\n",
    "\n",
    "# The contents of the 'iris_model' directory will be saved to the model registry. Create the dir, first.\n",
    "model_dir=\"flight delay model\"\n",
    "if os.path.isdir(model_dir) == False:\n",
    "    os.mkdir(model_dir)\n",
    "\n",
    "# Save both our model and the confusion matrix to 'model_dir', whose contents will be uploaded to the model registry\n",
    "joblib.dump(model, model_dir + \"/flight_delay_model.pkl\")\n",
    "#fig.savefig(model_dir + \"/confusion_matrix.png\")    \n",
    "\n",
    "# Specify the schema of the model's input/output using the features (X_train) and labels (y_train)\n",
    "#input_schema = Schema(X_train_tensor)\n",
    "#output_schema = Schema(y_train_tensor)\n",
    "#model_schema = ModelSchema(input_schema, output_schema)\n",
    "\n",
    "# Create an entry in the model registry that includes the model's name, desc, metrics\n",
    "fligt_delay_model = mr.python.create_model(\n",
    "    name=\"flight_delay_model\", \n",
    "    #metrics={\"accuracy\" : metrics['accuracy']},\n",
    "    metrics={\"val MSE\" : 2252},\n",
    "    #model_schema=model_schema,\n",
    "    description=\"Flight Delay Predictor no schema\"\n",
    ")\n",
    "\n",
    "# Upload the model to the model registry, including all files in 'model_dir'\n",
    "fligt_delay_model.save(model_dir)"
   ]
  },
  {
   "cell_type": "markdown",
   "metadata": {},
   "source": [
    "### Example showing how to load the NN model from Model Registry and how to use it for inference"
   ]
  },
  {
   "cell_type": "markdown",
   "metadata": {},
   "source": [
    "Class definition needed due to how python loads saved pytorch models. The class definition is used to load the pickle model. If the pytorch model was saved as a state dict it could also be loaded using state_dict without defining class definition"
   ]
  },
  {
   "cell_type": "code",
   "execution_count": 26,
   "metadata": {},
   "outputs": [
    {
     "name": "stdout",
     "output_type": "stream",
     "text": [
      "Connected. Call `.close()` to terminate connection gracefully.\n",
      "Downloading model artifact (0 dirs, 1 files)... DONE\r"
     ]
    }
   ],
   "source": [
    "class NeuralNetwork(nn.Module):\n",
    "    def __init__(self, input_size):\n",
    "        super(NeuralNetwork, self).__init__()\n",
    "        self.fc1 = nn.Linear(input_size, 128)\n",
    "        self.relu = nn.ReLU()\n",
    "        self.dropout = nn.Dropout(0.2)\n",
    "        self.fc2 = nn.Linear(128, 64)\n",
    "        self.output = nn.Linear(64, 1)\n",
    "\n",
    "    def forward(self, x):\n",
    "        x = self.fc1(x)\n",
    "        x = self.relu(x)\n",
    "        x = self.dropout(x)\n",
    "        x = self.fc2(x)\n",
    "        x = self.relu(x)\n",
    "        x = self.output(x)\n",
    "        return x\n",
    "\n",
    "mr = project.get_model_registry()\n",
    "model = mr.get_model(\"flight_delay_model\", version=1)\n",
    "model_dir = model.download()\n",
    "model = joblib.load(model_dir + \"/flight_delay_model.pkl\")\n"
   ]
  },
  {
   "cell_type": "code",
   "execution_count": 37,
   "metadata": {},
   "outputs": [
    {
     "name": "stdout",
     "output_type": "stream",
     "text": [
      "[[-1.05282281  1.24782137  0.02323961 -0.99690901  1.18383447 -1.1339801\n",
      "  -0.67183469 -0.77138126 -1.05325297 -0.80630688 -1.06317687 -1.3894594\n",
      "  -0.09987404  0.10331179  0.70543781  0.33138419  0.66613952 -0.35530529\n",
      "  -0.04343485]]\n",
      "tensor([-1.0528,  1.2478,  0.0232, -0.9969,  1.1838, -1.1340, -0.6718, -0.7714,\n",
      "        -1.0533, -0.8063, -1.0632, -1.3895, -0.0999,  0.1033,  0.7054,  0.3314,\n",
      "         0.6661, -0.3553, -0.0434])\n",
      "tensor([[-1.0528,  1.2478,  0.0232, -0.9969,  1.1838, -1.1340, -0.6718, -0.7714,\n",
      "         -1.0533, -0.8063, -1.0632, -1.3895, -0.0999,  0.1033,  0.7054,  0.3314,\n",
      "          0.6661, -0.3553, -0.0434]])\n",
      "tensor([[7.3723]], grad_fn=<AddmmBackward0>)\n",
      "dep_delay_new    0.0\n",
      "Name: 1, dtype: float64\n"
     ]
    }
   ],
   "source": [
    "#Data sample used for inference\n",
    "i_test=0\n",
    "a=X_train.iloc[i_test]\n",
    "a=torch.tensor(a, dtype=torch.float32)\n",
    "\n",
    "#Fit scaler to how it was fitted during training\n",
    "scaler = StandardScaler()\n",
    "X_train_tensor = torch.tensor(X_train.values, dtype=torch.float32)\n",
    "X_train_scaled = scaler.fit_transform(X_train_tensor)\n",
    "X_train_tensor = torch.tensor(X_train_scaled, dtype=torch.float32)\n",
    "\n",
    "#transform data sample\n",
    "a=scaler.transform(a.reshape(1, -1))\n",
    "print(a)\n",
    "print(X_train_tensor[i_test])\n",
    "\n",
    "# transform np array to torch tensor\n",
    "a_tensor=torch.tensor(a, dtype=torch.float32)\n",
    "\n",
    "print(a_tensor)\n",
    "print(model(a_tensor))\n",
    "print(y_train.iloc[i_test])"
   ]
  },
  {
   "cell_type": "code",
   "execution_count": null,
   "metadata": {},
   "outputs": [],
   "source": []
  }
 ],
 "metadata": {
  "kernelspec": {
   "display_name": "Python 3",
   "language": "python",
   "name": "python3"
  },
  "language_info": {
   "codemirror_mode": {
    "name": "ipython",
    "version": 3
   },
   "file_extension": ".py",
   "mimetype": "text/x-python",
   "name": "python",
   "nbconvert_exporter": "python",
   "pygments_lexer": "ipython3",
   "version": "3.10.13"
  }
 },
 "nbformat": 4,
 "nbformat_minor": 2
}
