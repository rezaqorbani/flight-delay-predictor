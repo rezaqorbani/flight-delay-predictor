{
 "cells": [
  {
   "cell_type": "code",
   "execution_count": null,
   "id": "7614b45f",
   "metadata": {},
   "outputs": [],
   "source": [
    "YOUR_ACCESS_KEY="
   ]
  },
  {
   "cell_type": "code",
   "execution_count": 1,
   "id": "acc6b156",
   "metadata": {},
   "outputs": [
    {
     "name": "stdout",
     "output_type": "stream",
     "text": [
      "Requirement already satisfied: requests in /home/yunluk/anaconda3/envs/myenv/lib/python3.8/site-packages (2.31.0)\r\n",
      "Requirement already satisfied: charset-normalizer<4,>=2 in /home/yunluk/anaconda3/envs/myenv/lib/python3.8/site-packages (from requests) (2.0.4)\r\n",
      "Requirement already satisfied: idna<4,>=2.5 in /home/yunluk/anaconda3/envs/myenv/lib/python3.8/site-packages (from requests) (3.4)\r\n",
      "Requirement already satisfied: urllib3<3,>=1.21.1 in /home/yunluk/anaconda3/envs/myenv/lib/python3.8/site-packages (from requests) (1.26.16)\r\n",
      "Requirement already satisfied: certifi>=2017.4.17 in /home/yunluk/anaconda3/envs/myenv/lib/python3.8/site-packages (from requests) (2023.7.22)\r\n"
     ]
    }
   ],
   "source": [
    "!pip install requests"
   ]
  },
  {
   "cell_type": "code",
   "execution_count": 9,
   "id": "72b6c7bc",
   "metadata": {},
   "outputs": [],
   "source": [
    "import requests"
   ]
  },
  {
   "cell_type": "code",
   "execution_count": 10,
   "id": "621f08a1",
   "metadata": {},
   "outputs": [
    {
     "name": "stdout",
     "output_type": "stream",
     "text": [
      "Request failed: 401\n"
     ]
    }
   ],
   "source": [
    "\n",
    "\n",
    "# Replace 'YOUR_ACCESS_KEY' with your actual access key\n",
    "access_key = ''\n",
    "endpoint = 'http://api.aviationstack.com/v1/flights'\n",
    "selected_airports = ['DTW','LAS','PHL','DEN','CLT','SEA','MCO','FLL','IAD','IAH','SFO','EWR','MIA','JFK', 'LAX', 'ORD', 'ATL']  # Replace with your desired airport codes\n",
    "#selected_airports = ['DTW','LAS','PHL','DEN','CLT','SEA','MCO','FLL','IAD','IAH','SFO','EWR','MIA','JFK', 'LAX', 'ORD']  # Replace with your desired airport codes\n",
    "selected_airports_1 = ['IAD','IAH','SFO','EWR','MIA','JFK', 'LAX', 'ORD']  # Replace with your desired airport codes\n",
    "selected_airports_2 = ['DTW','LAS','PHL','DEN','CLT','SEA','MCO','FLL']  # Replace with your desired airport codes\n",
    "\n",
    "# Parameters for the API request\n",
    "params = {\n",
    "    'access_key': access_key,\n",
    "    'dep_iata': selected_airports_1,  # Replace 'SFO' with your desired airport code\n",
    "    #'dep_iata': 'JFK',  # Replace 'SFO' with your desired airport code\n",
    "    #'arr_iata':selected_airports,\n",
    "    'arr_iata':selected_airports_2,\n",
    "    #'flight_status': 'active'  # You can include other parameters as needed\n",
    "}\n",
    "\n",
    "# Making the GET request\n",
    "response = requests.get(endpoint, params=params)\n",
    "\n",
    "# Checking if the request was successful (status code 200)\n",
    "if response.status_code == 200:\n",
    "    data = response.json()  # Parsing the JSON response\n",
    "    # Handle and process 'data' (flight information)\n",
    "    print(data)  # For demonstration, printing the data\n",
    "else:\n",
    "    print('Request failed:', response.status_code)"
   ]
  },
  {
   "cell_type": "code",
   "execution_count": 11,
   "id": "e41dba53",
   "metadata": {},
   "outputs": [
    {
     "ename": "NameError",
     "evalue": "name 'data' is not defined",
     "output_type": "error",
     "traceback": [
      "\u001b[0;31m---------------------------------------------------------------------------\u001b[0m",
      "\u001b[0;31mNameError\u001b[0m                                 Traceback (most recent call last)",
      "Cell \u001b[0;32mIn[11], line 1\u001b[0m\n\u001b[0;32m----> 1\u001b[0m \u001b[38;5;28;01mfor\u001b[39;00m flight \u001b[38;5;129;01min\u001b[39;00m \u001b[43mdata\u001b[49m[\u001b[38;5;124m'\u001b[39m\u001b[38;5;124mdata\u001b[39m\u001b[38;5;124m'\u001b[39m]:\n\u001b[1;32m      2\u001b[0m         \u001b[38;5;28mprint\u001b[39m(\u001b[38;5;124mf\u001b[39m\u001b[38;5;124m\"\u001b[39m\u001b[38;5;124mFlight \u001b[39m\u001b[38;5;132;01m{\u001b[39;00mflight[\u001b[38;5;124m'\u001b[39m\u001b[38;5;124mflight\u001b[39m\u001b[38;5;124m'\u001b[39m][\u001b[38;5;124m'\u001b[39m\u001b[38;5;124miata\u001b[39m\u001b[38;5;124m'\u001b[39m]\u001b[38;5;132;01m}\u001b[39;00m\u001b[38;5;124m by \u001b[39m\u001b[38;5;132;01m{\u001b[39;00mflight[\u001b[38;5;124m'\u001b[39m\u001b[38;5;124mairline\u001b[39m\u001b[38;5;124m'\u001b[39m][\u001b[38;5;124m'\u001b[39m\u001b[38;5;124mname\u001b[39m\u001b[38;5;124m'\u001b[39m]\u001b[38;5;132;01m}\u001b[39;00m\u001b[38;5;124m:\u001b[39m\u001b[38;5;124m\"\u001b[39m)\n\u001b[1;32m      3\u001b[0m         \u001b[38;5;28mprint\u001b[39m(\u001b[38;5;124mf\u001b[39m\u001b[38;5;124m\"\u001b[39m\u001b[38;5;124m   From: \u001b[39m\u001b[38;5;132;01m{\u001b[39;00mflight[\u001b[38;5;124m'\u001b[39m\u001b[38;5;124mdeparture\u001b[39m\u001b[38;5;124m'\u001b[39m][\u001b[38;5;124m'\u001b[39m\u001b[38;5;124mairport\u001b[39m\u001b[38;5;124m'\u001b[39m]\u001b[38;5;132;01m}\u001b[39;00m\u001b[38;5;124m (\u001b[39m\u001b[38;5;132;01m{\u001b[39;00mflight[\u001b[38;5;124m'\u001b[39m\u001b[38;5;124mdeparture\u001b[39m\u001b[38;5;124m'\u001b[39m][\u001b[38;5;124m'\u001b[39m\u001b[38;5;124miata\u001b[39m\u001b[38;5;124m'\u001b[39m]\u001b[38;5;132;01m}\u001b[39;00m\u001b[38;5;124m)\u001b[39m\u001b[38;5;124m\"\u001b[39m)\n",
      "\u001b[0;31mNameError\u001b[0m: name 'data' is not defined"
     ]
    }
   ],
   "source": [
    "for flight in data['data']:\n",
    "        print(f\"Flight {flight['flight']['iata']} by {flight['airline']['name']}:\")\n",
    "        print(f\"   From: {flight['departure']['airport']} ({flight['departure']['iata']})\")\n",
    "        print(f\"   To: {flight['arrival']['airport']} ({flight['arrival']['iata']})\")\n",
    "        print(f\"   Status: {flight['flight_status']}\")\n",
    "        print(f\"   Scheduled Departure: {flight['departure']['scheduled']}\")\n",
    "        print(f\"   Scheduled Arrival: {flight['arrival']['scheduled']}\")\n",
    "        departure_delay = flight['departure']['delay']\n",
    "        if departure_delay is not None:\n",
    "            print(f\"   Departure Delay: {departure_delay} minutes\")\n",
    "        else:\n",
    "            print(\"   Departure on time\")\n",
    "        print(\"-\" * 30)"
   ]
  },
  {
   "cell_type": "markdown",
   "id": "8b21d444",
   "metadata": {},
   "source": [
    "### Strange error when choosing departure and arrival airports from same list of airports"
   ]
  },
  {
   "cell_type": "code",
   "execution_count": 12,
   "id": "f428d04c",
   "metadata": {},
   "outputs": [
    {
     "name": "stdout",
     "output_type": "stream",
     "text": [
      "Request failed: 401\n"
     ]
    }
   ],
   "source": [
    "\n",
    "\n",
    "# Replace 'YOUR_ACCESS_KEY' with your actual access key\n",
    "access_key = ''\n",
    "endpoint = 'http://api.aviationstack.com/v1/flights'\n",
    "selected_airports = ['DTW','LAS','PHL','DEN','CLT','SEA','MCO','FLL','IAD','IAH','SFO','EWR','MIA','JFK', 'LAX', 'ORD','ATL']  # Replace with your desired airport codes\n",
    "#selected_airports = ['DTW','LAS','PHL','DEN','CLT','SEA','MCO','FLL','IAD','IAH','SFO','EWR','MIA','JFK', 'LAX', 'ORD','ATL']  # Replace with your desired airport codes\n",
    "\n",
    "# Parameters for the API request\n",
    "params = {\n",
    "    'access_key': access_key,\n",
    "    #'dep_iata': selected_airports,  # Replace 'SFO' with your desired airport code\n",
    "    'dep_iata': selected_airports,  # Replace 'SFO' with your desired airport code\n",
    "    #'arr_iata':selected_airports,\n",
    "    'arr_iata':selected_airports,\n",
    "    #'flight_status': 'active'  # You can include other parameters as needed\n",
    "}\n",
    "\n",
    "# Making the GET request\n",
    "response = requests.get(endpoint, params=params)\n",
    "\n",
    "# Checking if the request was successful (status code 200)\n",
    "if response.status_code == 200:\n",
    "    data = response.json()  # Parsing the JSON response\n",
    "    # Handle and process 'data' (flight information)\n",
    "    print(data)  # For demonstration, printing the data\n",
    "else:\n",
    "    print('Request failed:', response.status_code)"
   ]
  },
  {
   "cell_type": "code",
   "execution_count": null,
   "id": "4893f39c",
   "metadata": {},
   "outputs": [],
   "source": []
  }
 ],
 "metadata": {
  "kernelspec": {
   "display_name": "Python 3 (ipykernel)",
   "language": "python",
   "name": "python3"
  },
  "language_info": {
   "codemirror_mode": {
    "name": "ipython",
    "version": 3
   },
   "file_extension": ".py",
   "mimetype": "text/x-python",
   "name": "python",
   "nbconvert_exporter": "python",
   "pygments_lexer": "ipython3",
   "version": "3.10.12"
  }
 },
 "nbformat": 4,
 "nbformat_minor": 5
}
