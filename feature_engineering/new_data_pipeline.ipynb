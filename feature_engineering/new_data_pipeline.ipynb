{
 "cells": [
  {
   "cell_type": "code",
   "execution_count": 2,
   "metadata": {},
   "outputs": [
    {
     "name": "stdout",
     "output_type": "stream",
     "text": [
      "{'altimeter': {'repr': 'A3021', 'spoken': 'three zero point two one', 'value': 30.21}, 'clouds': [{'altitude': 45, 'modifier': None, 'repr': 'FEW045', 'type': 'FEW'}], 'density_altitude': 897, 'dewpoint': {'repr': '12', 'spoken': 'one two', 'value': 12}, 'flight_rules': 'VFR', 'meta': {'stations_updated': '2023-10-28', 'timestamp': '2023-12-23T19:49:13.422335Z'}, 'other': [], 'pressure_altitude': -194, 'raw': 'KMCO 231853Z 05012KT 10SM FEW045 24/12 A3021 RMK AO2 SLP227 T02390122', 'relative_humidity': 0.4789032543771187, 'remarks': 'RMK AO2 SLP227 T02390122', 'remarks_info': {'codes': [{'repr': 'AO2', 'value': 'Automated with precipitation sensor'}], 'dewpoint_decimal': {'repr': '0122', 'spoken': 'one two point two', 'value': 12.2}, 'maximum_temperature_24': None, 'maximum_temperature_6': None, 'minimum_temperature_24': None, 'minimum_temperature_6': None, 'precip_24_hours': None, 'precip_36_hours': None, 'precip_hourly': None, 'pressure_tendency': None, 'sea_level_pressure': {'repr': 'SLP227', 'spoken': 'one zero two two point seven', 'value': 1022.7}, 'snow_depth': None, 'sunshine_minutes': None, 'temperature_decimal': {'repr': '0239', 'spoken': 'two three point nine', 'value': 23.9}}, 'runway_visibility': [], 'sanitized': 'KMCO 231853Z 05012KT 10SM FEW045 24/12 A3021 RMK AO2 SLP227 T02390122', 'station': 'KMCO', 'temperature': {'repr': '24', 'spoken': 'two four', 'value': 24}, 'time': {'dt': '2023-12-23T18:53:00Z', 'repr': '231853Z'}, 'units': {'accumulation': 'in', 'altimeter': 'inHg', 'altitude': 'ft', 'temperature': 'C', 'visibility': 'sm', 'wind_speed': 'kt'}, 'visibility': {'repr': '10', 'spoken': 'one zero', 'value': 10}, 'wind_direction': {'repr': '050', 'spoken': 'zero five zero', 'value': 50}, 'wind_gust': None, 'wind_speed': {'repr': '12', 'spoken': 'one two', 'value': 12}, 'wind_variable_direction': [], 'wx_codes': []}\n"
     ]
    }
   ],
   "source": [
    "# install .env pip \n",
    "\n",
    "import os\n",
    "from dotenv import load_dotenv\n",
    "import httpx\n",
    "import pandas as pd\n",
    "import requests\n",
    "import datetime\n",
    "\n",
    "load_dotenv()\n",
    "weather_api_key = os.getenv(\"weather_api_key\")\n",
    "flight_api_key = os.getenv(\"flight_api_key\")\n",
    "icao = \"KMCO\"\n",
    "# Value of Token\n",
    "resp = httpx.get(\"https://avwx.rest/api/metar/\" + icao, headers={\n",
    "    \"Authorization\": \"BEARER \" + weather_api_key\n",
    "})\n",
    "print(resp.json())\n",
    "\n",
    "# today = datetime.datetime.today()\n",
    "# print(today.strftime(\"%Y-%m-%d\"))\n",
    "# api_result = requests.get('http://api.aviationstack.com/v1/flights', params={ 'access_key': flight_api_key})\n",
    "\n",
    "# api_response = api_result.json()\n",
    "# print(api_response)\n",
    "# for flight in api_response['data']:\n",
    "#     if (flight['live']['is_ground'] is False):\n",
    "#         print(u'%s flight %s from %s (%s) to %s (%s) is in the air.' % (\n",
    "#             flight['airline']['name'],\n",
    "#             flight['flight']['iata'],\n",
    "#             flight['departure']['airport'],\n",
    "#             flight['departure']['iata'],\n",
    "#             flight['arrival']['airport'],\n",
    "#             flight['arrival']['iata']))"
   ]
  }
 ],
 "metadata": {
  "kernelspec": {
   "display_name": ".venv",
   "language": "python",
   "name": "python3"
  },
  "language_info": {
   "codemirror_mode": {
    "name": "ipython",
    "version": 3
   },
   "file_extension": ".py",
   "mimetype": "text/x-python",
   "name": "python",
   "nbconvert_exporter": "python",
   "pygments_lexer": "ipython3",
   "version": "3.10.12"
  }
 },
 "nbformat": 4,
 "nbformat_minor": 2
}
