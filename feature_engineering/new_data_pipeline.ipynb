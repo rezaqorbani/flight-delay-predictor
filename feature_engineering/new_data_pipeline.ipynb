{
 "cells": [
  {
   "cell_type": "code",
   "execution_count": 1,
   "metadata": {},
   "outputs": [],
   "source": [
    "# %% [markdown]\n",
    "# ## Imports\n",
    "\n",
    "# %%\n"
   ]
  },
  {
   "cell_type": "code",
   "execution_count": 2,
   "metadata": {},
   "outputs": [],
   "source": [
    "import os\n",
    "from dotenv import load_dotenv\n",
    "import httpx\n",
    "import pandas as pd\n",
    "import requests\n",
    "import datetime\n",
    "import json\n",
    "from urllib.request import Request, urlopen\n",
    "import random\n",
    "import datetime\n",
    "import missingno as msno\n",
    "from sklearn.preprocessing import LabelEncoder\n",
    "load_dotenv()\n",
    "weather_api_key = os.getenv(\"weather_api_key\")\n",
    "pressure_api_key = os.getenv(\"pressure_api_key\")\n",
    "flight_api_key = os.getenv(\"flight_api_key\")\n"
   ]
  },
  {
   "cell_type": "code",
   "execution_count": 3,
   "metadata": {},
   "outputs": [],
   "source": [
    "\n",
    "# %% [markdown]\n",
    "# ## Variables and Maps\n",
    "\n",
    "# %%\n"
   ]
  },
  {
   "cell_type": "code",
   "execution_count": 4,
   "metadata": {},
   "outputs": [
    {
     "name": "stdout",
     "output_type": "stream",
     "text": [
      "{'ATL': 0, 'CLT': 1, 'DEN': 2, 'DTW': 3, 'EWR': 4, 'FLL': 5, 'IAD': 6, 'IAH': 7, 'JFK': 8, 'LAS': 9, 'LAX': 10, 'MCO': 11, 'MIA': 12, 'ORD': 13, 'PHL': 14, 'SEA': 15, 'SFO': 16}\n"
     ]
    }
   ],
   "source": [
    "selected_airports_iata = [\n",
    "    \"DTW\",\n",
    "    \"LAS\",\n",
    "    \"PHL\",\n",
    "    \"DEN\",\n",
    "    \"CLT\",\n",
    "    \"SEA\",\n",
    "    \"MCO\",\n",
    "    \"FLL\",\n",
    "    \"IAD\",\n",
    "    \"IAH\",\n",
    "    \"SFO\",\n",
    "    \"EWR\",\n",
    "    \"MIA\",\n",
    "    \"JFK\",\n",
    "    \"LAX\",\n",
    "    \"ORD\",\n",
    "    \"ATL\",\n",
    "]\n",
    "icao_to_iata_map = {\n",
    "    \"KDTW\": \"DTW\",\n",
    "    \"KLAS\": \"LAS\",\n",
    "    \"KPHL\": \"PHL\",\n",
    "    \"KDEN\": \"DEN\",\n",
    "    \"KCLT\": \"CLT\",\n",
    "    \"KSEA\": \"SEA\",\n",
    "    \"KMCO\": \"MCO\",\n",
    "    \"KFLL\": \"FLL\",\n",
    "    \"KIAD\": \"IAD\",\n",
    "    \"KIAH\": \"IAH\",\n",
    "    \"KSFO\": \"SFO\",\n",
    "    \"KEWR\": \"EWR\",\n",
    "    \"KMIA\": \"MIA\",\n",
    "    \"KJFK\": \"JFK\",\n",
    "    \"KLAX\": \"LAX\",\n",
    "    \"KORD\": \"ORD\",\n",
    "    \"KATL\": \"ATL\",\n",
    "}\n",
    "iata_to_icao_map = {v: k for k, v in icao_to_iata_map.items()}\n",
    "wac_map = {\n",
    "    \"BOS\": 13,\n",
    "    \"CLT\": 36,\n",
    "    \"DEN\": 82,\n",
    "    \"DTW\": 43,\n",
    "    \"EWR\": 21,\n",
    "    \"FLL\": 33,\n",
    "    \"IAD\": 38,\n",
    "    \"IAH\": 74,\n",
    "    \"JFK\": 22,\n",
    "    \"LAS\": 85,\n",
    "    \"LAX\": 91,\n",
    "    \"MCO\": 33,\n",
    "    \"MIA\": 33,\n",
    "    \"ORD\": 41,\n",
    "    \"PHL\": 23,\n",
    "    \"SEA\": 93,\n",
    "    \"SFO\": 91,\n",
    "    \"ATL\": 34,\n",
    "}\n",
    "weather_features = [\n",
    "    (\"dewpoint\", \"value\"),\n",
    "    \"relative_humidity\",\n",
    "    (\"remarks_info\", \"precip_hourly\", \"value\"),\n",
    "    (\"remarks_info\", \"temperature_decimal\", \"value\"),\n",
    "    (\"visibility\", \"value\"),\n",
    "    (\"wind_direction\", \"value\"),\n",
    "    (\"wind_gust\", \"value\"),\n",
    "    (\"wind_speed\", \"value\"),\n",
    "]\n",
    "pressure_features = [(\"pressure\", \"hg\")]\n",
    "flight_features = [\n",
    "    \"flight_date\",\n",
    "    (\"departure\", \"iata\"),\n",
    "    (\"departure\", \"delay\"),\n",
    "    (\"departure\", \"scheduled\"),\n",
    "    (\"arrival\", \"iata\"),\n",
    "    (\"arrival\", \"delay\"),\n",
    "    (\"arrival\", \"scheduled\"),\n",
    "]\n",
    "previous_mapping = {'ATL': 0, 'CLT': 1, 'DEN': 2, 'DTW': 3, 'EWR': 4, 'FLL': 5, 'IAD': 6, 'IAH': 7, 'JFK': 8,\n",
    "                    'LAS': 9, 'LAX': 10, 'MCO': 11, 'MIA': 12, 'ORD': 13, 'PHL': 14, 'SEA': 15, 'SFO': 16}\n",
    "\n",
    "# Create a label encoder\n",
    "label_encoder = LabelEncoder()\n",
    "\n",
    "# Fit the label encoder with the previous mappings\n",
    "label_encoder.fit(list(previous_mapping.keys()))\n",
    "airport_encoding_map = dict(zip(label_encoder.classes_, label_encoder.transform(label_encoder.classes_)))\n",
    "print(airport_encoding_map)\n"
   ]
  },
  {
   "cell_type": "code",
   "execution_count": 5,
   "metadata": {},
   "outputs": [],
   "source": [
    "# %% [markdown]\n",
    "# ## Weather data (no pressure data)\n",
    "\n",
    "# %%\n"
   ]
  },
  {
   "cell_type": "code",
   "execution_count": 6,
   "metadata": {},
   "outputs": [
    {
     "name": "stdout",
     "output_type": "stream",
     "text": [
      "Getting weather for DTW\n"
     ]
    },
    {
     "name": "stdout",
     "output_type": "stream",
     "text": [
      "Getting weather for LAS\n",
      "Getting weather for PHL\n",
      "Getting weather for DEN\n",
      "Getting weather for CLT\n",
      "Getting weather for SEA\n",
      "Getting weather for MCO\n",
      "Getting weather for FLL\n",
      "Getting weather for IAD\n",
      "Getting weather for IAH\n",
      "Getting weather for SFO\n",
      "Getting weather for EWR\n",
      "Getting weather for MIA\n",
      "Getting weather for JFK\n",
      "Getting weather for LAX\n",
      "Getting weather for ORD\n",
      "Getting weather for ATL\n"
     ]
    }
   ],
   "source": [
    "responses = {}\n",
    "for airport in selected_airports_iata:\n",
    "    print(f\"Getting weather for {airport}\")\n",
    "    request = Request(\n",
    "        f\"https://avwx.rest/api/metar/{iata_to_icao_map[airport]}\",\n",
    "        headers={\"Authorization\": weather_api_key},\n",
    "    )\n",
    "    response_body = urlopen(request).read()\n",
    "    response_json = json.loads(response_body)\n",
    "    responses[airport] = response_json\n",
    "\n",
    "weather_data = []\n",
    "\n",
    "for airport in selected_airports_iata:\n",
    "    response_json = responses[airport]\n",
    "    data = {\"airport\": airport}\n",
    "    data[\"HourlyDewPointTemperature\"] = response_json[\"remarks_info\"][\n",
    "        \"dewpoint_decimal\"\n",
    "    ][\"value\"]\n",
    "    data[\"HourlyRelativeHumidity\"] = response_json[\"relative_humidity\"]\n",
    "    if response_json[\"remarks_info\"][\"precip_hourly\"] is not None:\n",
    "        data[\"HourlyPrecipitation\"] = response_json[\"remarks_info\"][\"precip_hourly\"][\n",
    "            \"value\"\n",
    "        ]\n",
    "    else:\n",
    "        data[\"HourlyPrecipitation\"] = 0\n",
    "    data[\"HourlyDryBulbTemperature\"] = response_json[\"remarks_info\"][\n",
    "        \"temperature_decimal\"\n",
    "    ][\"value\"]\n",
    "    data[\"HourlyVisibility\"] = response_json[\"visibility\"][\"value\"]\n",
    "    data[\"HourlyWindDirection\"] = response_json[\"wind_direction\"][\"value\"]\n",
    "    if response_json[\"wind_gust\"] is not None:\n",
    "        data[\"HourlyWindGustSpeed\"] = response_json[\"wind_gust\"][\"value\"]\n",
    "    else:\n",
    "        data[\"HourlyWindGustSpeed\"] = 0\n",
    "    data[\"HourlyWindSpeed\"] = response_json[\"wind_speed\"][\"value\"]\n",
    "    weather_data.append(data)\n",
    "\n",
    "weather_data = pd.DataFrame(weather_data)\n"
   ]
  },
  {
   "cell_type": "code",
   "execution_count": 7,
   "metadata": {},
   "outputs": [],
   "source": [
    "\n",
    "# %% [markdown]\n",
    "# ## Barometric pressure data\n",
    "\n",
    "# %%\n"
   ]
  },
  {
   "cell_type": "code",
   "execution_count": 8,
   "metadata": {},
   "outputs": [
    {
     "name": "stdout",
     "output_type": "stream",
     "text": [
      "Getting pressure for DTW\n",
      "Getting pressure for LAS\n",
      "Getting pressure for PHL\n",
      "Getting pressure for DEN\n",
      "Getting pressure for CLT\n",
      "Getting pressure for SEA\n",
      "Getting pressure for MCO\n",
      "Getting pressure for FLL\n",
      "Getting pressure for IAD\n",
      "Getting pressure for IAH\n",
      "Getting pressure for SFO\n",
      "Getting pressure for EWR\n",
      "Getting pressure for MIA\n",
      "Getting pressure for JFK\n",
      "Getting pressure for LAX\n",
      "Getting pressure for ORD\n",
      "Getting pressure for ATL\n"
     ]
    }
   ],
   "source": [
    "url = \"https://api.checkwx.com/metar/KJFK/decoded\"\n",
    "\n",
    "response = requests.request(\"GET\", url, headers={\"X-API-Key\": pressure_api_key})\n",
    "\n",
    "for airport in selected_airports_iata:\n",
    "    print(f\"Getting pressure for {airport}\")\n",
    "    request = Request(\n",
    "        f\"https://api.checkwx.com/metar/{iata_to_icao_map[airport]}/decoded\",\n",
    "        headers={\"X-API-Key\": pressure_api_key},\n",
    "    )\n",
    "    response_body = urlopen(request).read()\n",
    "    response_json = json.loads(response_body)\n",
    "    responses[airport] = response_json\n",
    "\n",
    "pressure_data = []\n",
    "\n",
    "for airport in selected_airports_iata:\n",
    "    response_json = responses[airport]\n",
    "    data = {\"airport\": airport}\n",
    "    data[\"HourlyStationPressure\"] = response_json[\"data\"][0][\"barometer\"][\"hg\"]\n",
    "    pressure_data.append(data)\n",
    "\n",
    "pressure_data = pd.DataFrame(pressure_data)\n"
   ]
  },
  {
   "cell_type": "code",
   "execution_count": 9,
   "metadata": {},
   "outputs": [],
   "source": [
    "\n",
    "# %% [markdown]\n",
    "# ## Flight data\n",
    "\n",
    "# %%\n"
   ]
  },
  {
   "cell_type": "code",
   "execution_count": 10,
   "metadata": {},
   "outputs": [
    {
     "name": "stdout",
     "output_type": "stream",
     "text": [
      "Getting flights for DTW\n",
      "Getting flights for LAS\n",
      "Getting flights for PHL\n",
      "Getting flights for DEN\n",
      "Getting flights for CLT\n",
      "Getting flights for SEA\n",
      "Getting flights for MCO\n",
      "Getting flights for FLL\n",
      "Getting flights for IAD\n",
      "Getting flights for IAH\n",
      "Getting flights for SFO\n",
      "Getting flights for EWR\n",
      "Getting flights for MIA\n",
      "Getting flights for JFK\n",
      "Getting flights for LAX\n",
      "Getting flights for ORD\n",
      "Getting flights for ATL\n"
     ]
    }
   ],
   "source": [
    "endpoint = \"http://api.aviationstack.com/v1/flights\"\n",
    "flight_data = []\n",
    "\n",
    "\n",
    "for i in range(len(selected_airports_iata)):\n",
    "    print(f\"Getting flights for {selected_airports_iata[i]}\")\n",
    "    # Parameters for the API request\n",
    "    rand_int = random.randint(0, len(selected_airports_iata) - 1)\n",
    "    params = {\n",
    "        \"access_key\": flight_api_key,\n",
    "        \"dep_iata\": selected_airports_iata[\n",
    "            i\n",
    "        ],  # Replace 'SFO' with your desired airport code\n",
    "        \"arr_iata\": selected_airports_iata[rand_int],\n",
    "        \"flight_status\": [\"active\"],\n",
    "    }\n",
    "\n",
    "    # Making the GET request\n",
    "    response = requests.get(endpoint, params=params)\n",
    "    # Checking if the request was successful (status code 200)\n",
    "    if response.status_code == 200:\n",
    "        response = response.json()  # Parsing the JSON response\n",
    "        # Handle and process 'data' (flight information)\n",
    "        data = {\"airport\": selected_airports_iata[i]}\n",
    "        if len(response[\"data\"]) == 0:\n",
    "            continue\n",
    "\n",
    "        rand_int = random.randint(0, len(response[\"data\"]) - 1)\n",
    "\n",
    "        response = response[\"data\"][rand_int]\n",
    "\n",
    "        data[\"FL_DATE\"] = response[\"flight_date\"]\n",
    "        data[\"ORIGIN\"] = response[\"departure\"][\"iata\"]\n",
    "        if response[\"departure\"][\"delay\"] is not None:\n",
    "            data[\"DEP_DELAY_NEW\"] = response[\"departure\"][\"delay\"]\n",
    "        else:\n",
    "            data[\"DEP_DELAY_NEW\"] = 0.0\n",
    "        data[\"DEPARTURE_DATETIME\"] = response[\"departure\"][\"scheduled\"]\n",
    "        data[\"DEST\"] = response[\"arrival\"][\"iata\"]\n",
    "        data[\"CRS_ARR_TIME\"] = response[\"arrival\"][\"scheduled\"]\n",
    "        flight_data.append(data)\n",
    "    else:\n",
    "        print(response.json())\n",
    "        print(\"Request failed:\", response.status_code)\n",
    "\n",
    "flight_data = pd.DataFrame(flight_data)\n"
   ]
  },
  {
   "cell_type": "markdown",
   "metadata": {},
   "source": [
    "\n",
    "## Merging the data\n"
   ]
  },
  {
   "cell_type": "code",
   "execution_count": 11,
   "metadata": {},
   "outputs": [],
   "source": [
    "weather_delay_data = pd.merge(weather_data, flight_data, on=\"airport\")\n",
    "weather_delay_data = pd.merge(weather_delay_data, pressure_data, on=\"airport\")\n"
   ]
  },
  {
   "cell_type": "code",
   "execution_count": 12,
   "metadata": {},
   "outputs": [],
   "source": [
    "\n",
    "# %% [markdown]\n",
    "# ## Transformation\n",
    "\n",
    "# %%\n"
   ]
  },
  {
   "cell_type": "code",
   "execution_count": 13,
   "metadata": {},
   "outputs": [],
   "source": [
    "# drop rows with missing values\n",
    "weather_delay_data = weather_delay_data.dropna()\n",
    "\n",
    "# drop airport column\n",
    "weather_delay_data = weather_delay_data.drop(columns=[\"airport\"])\n",
    "\n",
    "# Transform DEST and ORIGIN to string\n",
    "weather_delay_data[\"DEST\"] = weather_delay_data[\"DEST\"].astype(str)\n",
    "weather_delay_data[\"ORIGIN\"] = weather_delay_data[\"ORIGIN\"].astype(str)\n",
    "\n",
    "# add wac code to weather_delay_data\n",
    "weather_delay_data[\"DEST_WAC\"] = weather_delay_data[\"DEST\"].map(wac_map)\n",
    "weather_delay_data[\"ORIGIN_WAC\"] = weather_delay_data[\"ORIGIN\"].map(wac_map)\n",
    "\n",
    "# Transform date columns to datetime\n",
    "weather_delay_data[\"FL_DATE\"] = pd.to_datetime(weather_delay_data[\"FL_DATE\"])\n",
    "weather_delay_data[\"DEPARTURE_DATETIME\"] = pd.to_datetime(\n",
    "    weather_delay_data[\"DEPARTURE_DATETIME\"]\n",
    ")\n",
    "\n",
    "# Transform hourly wind direction to int\n",
    "weather_delay_data[\"HourlyWindDirection\"] = weather_delay_data[\n",
    "    \"HourlyWindDirection\"\n",
    "].astype(int)\n",
    "\n",
    "weather_delay_data[\"CRS_DEP_TIME\"] = pd.to_datetime(\n",
    "    weather_delay_data[\"DEPARTURE_DATETIME\"]\n",
    ").dt.time\n",
    "\n",
    "# change  CRS_DEP_TIME to the format HHMM\n",
    "weather_delay_data[\"CRS_DEP_TIME\"] = weather_delay_data[\"CRS_DEP_TIME\"].apply(\n",
    "    lambda x: x.strftime(\"%H%M\")\n",
    ")\n",
    "\n",
    "weather_delay_data[\"CRS_ARR_TIME\"] = pd.to_datetime(\n",
    "    weather_delay_data[\"CRS_ARR_TIME\"]\n",
    ").dt.time\n",
    "\n",
    "# change  CRS_ARR_TIME to the format HHMM\n",
    "weather_delay_data[\"CRS_ARR_TIME\"] = weather_delay_data[\"CRS_ARR_TIME\"].apply(\n",
    "    lambda x: x.strftime(\"%H%M\")\n",
    ")\n",
    "\n",
    "# add year, quarter, month, day_of_month, day_of_week\n",
    "# weather_delay_data[\"YEAR\"] = weather_delay_data[\"FL_DATE\"].dt.year\n",
    "# weather_delay_data[\"QUARTER\"] = weather_delay_data[\"FL_DATE\"].dt.quarter\n",
    "weather_delay_data[\"MONTH\"] = weather_delay_data[\"FL_DATE\"].dt.month\n",
    "weather_delay_data[\"DAY_OF_MONTH\"] = weather_delay_data[\"FL_DATE\"].dt.day\n",
    "weather_delay_data[\"DAY_OF_WEEK\"] = weather_delay_data[\"FL_DATE\"].dt.dayofweek\n",
    "\n",
    "\n",
    "# %%\n"
   ]
  },
  {
   "cell_type": "code",
   "execution_count": 14,
   "metadata": {},
   "outputs": [],
   "source": [
    "# remove rows with missing values\n",
    "\n",
    "# %%\n"
   ]
  },
  {
   "cell_type": "code",
   "execution_count": 15,
   "metadata": {},
   "outputs": [],
   "source": [
    "airport_id_map = {\n",
    "    \"CLT\": 11057,\n",
    "    \"DEN\": 11292,\n",
    "    \"DTW\": 11433,\n",
    "    \"EWR\": 11618,\n",
    "    \"FLL\": 11697,\n",
    "    \"IAD\": 12264,\n",
    "    \"IAH\": 12266,\n",
    "    \"JFK\": 12478,\n",
    "    \"LAS\": 12889,\n",
    "    \"LAX\": 12892,\n",
    "    \"MCO\": 13204,\n",
    "    \"MIA\": 13303,\n",
    "    \"ORD\": 13930,\n",
    "    \"PHL\": 14100,\n",
    "    \"SEA\": 14747,\n",
    "    \"SFO\": 14771,\n",
    "    \"ATL\": 10397,\n",
    "}\n",
    "\n",
    "# Mapping IATA codes to airport IDs for 'dest' and 'origin' columns\n",
    "weather_delay_data[\"dest_airport_id\"] = weather_delay_data[\"DEST\"].map(airport_encoding_map)\n",
    "weather_delay_data[\"origin_airport_id\"] = weather_delay_data[\"ORIGIN\"].map(\n",
    "airport_encoding_map)\n",
    "\n",
    "\n",
    "weather_delay_data.drop(\n",
    "    columns=[\"DEST\", \"ORIGIN\", \"FL_DATE\", \"DEPARTURE_DATETIME\"], inplace=True\n",
    ")\n",
    "\n",
    "\n",
    "# %%\n"
   ]
  },
  {
   "cell_type": "code",
   "execution_count": 16,
   "metadata": {},
   "outputs": [],
   "source": [
    "columns_to_int64 = [\n",
    "    \"CRS_ARR_TIME\",\n",
    "    \"CRS_DEP_TIME\",\n",
    "    # \"YEAR\",\n",
    "    \"MONTH\",\n",
    "    \"DAY_OF_MONTH\",\n",
    "    \"DAY_OF_WEEK\",\n",
    "]\n",
    "columns_to_float64 = [\n",
    "    \"HourlyPrecipitation\",\n",
    "    \"HourlyVisibility\",\n",
    "    \"HourlyWindGustSpeed\",\n",
    "    \"HourlyWindSpeed\",\n",
    "    \"DEP_DELAY_NEW\",\n",
    "]\n",
    "\n",
    "for column in columns_to_int64:\n",
    "    # Convert to int64\n",
    "    weather_delay_data[column] = weather_delay_data[column].astype(\"int64\")\n",
    "for column in columns_to_float64:\n",
    "    # Convert to int64\n",
    "    weather_delay_data[column] = weather_delay_data[column].astype(\"float64\")\n",
    "\n"
   ]
  },
  {
   "cell_type": "code",
   "execution_count": 17,
   "metadata": {},
   "outputs": [],
   "source": [
    "\n",
    "# %% [markdown]\n",
    "# ### Insert into hopswork dataset\n",
    "\n",
    "# %%\n"
   ]
  },
  {
   "cell_type": "code",
   "execution_count": 18,
   "metadata": {},
   "outputs": [
    {
     "name": "stdout",
     "output_type": "stream",
     "text": [
      "Connected. Call `.close()` to terminate connection gracefully.\n",
      "\n",
      "Logged in to project, explore it here https://c.app.hopsworks.ai:443/p/197786\n",
      "Connected. Call `.close()` to terminate connection gracefully.\n"
     ]
    },
    {
     "name": "stderr",
     "output_type": "stream",
     "text": [
      "FeatureGroupWarning: The ingested dataframe contains upper case letters in feature names: `['HourlyDewPointTemperature', 'HourlyRelativeHumidity', 'HourlyPrecipitation', 'HourlyDryBulbTemperature', 'HourlyVisibility', 'HourlyWindDirection', 'HourlyWindGustSpeed', 'HourlyWindSpeed', 'DEP_DELAY_NEW', 'CRS_ARR_TIME', 'HourlyStationPressure', 'DEST_WAC', 'ORIGIN_WAC', 'CRS_DEP_TIME', 'MONTH', 'DAY_OF_MONTH', 'DAY_OF_WEEK']`. Feature names are sanitized to lower case in the feature store.\n"
     ]
    },
    {
     "data": {
      "application/vnd.jupyter.widget-view+json": {
       "model_id": "b0d3993592a747f7bd9386fb1faa183b",
       "version_major": 2,
       "version_minor": 0
      },
      "text/plain": [
       "Uploading Dataframe: 0.00% |          | Rows 0/6 | Elapsed Time: 00:00 | Remaining Time: ?"
      ]
     },
     "metadata": {},
     "output_type": "display_data"
    },
    {
     "name": "stdout",
     "output_type": "stream",
     "text": [
      "Launching job: flight_data_v3_1_offline_fg_materialization\n",
      "Job started successfully, you can follow the progress at \n",
      "https://c.app.hopsworks.ai/p/197786/jobs/named/flight_data_v3_1_offline_fg_materialization/executions\n"
     ]
    },
    {
     "data": {
      "text/plain": [
       "(<hsfs.core.job.Job at 0x7fc16875b580>, None)"
      ]
     },
     "execution_count": 18,
     "metadata": {},
     "output_type": "execute_result"
    }
   ],
   "source": [
    "import hopsworks\n",
    "\n",
    "project = hopsworks.login()\n",
    "fs = project.get_feature_store()\n",
    "\n",
    "flight_delay_fg = fs.get_feature_group(name=\"flight_data_v3\", version=1)\n",
    "flight_delay_fg.insert(weather_delay_data)\n",
    "\n",
    "# %%\n"
   ]
  }
 ],
 "metadata": {
  "kernelspec": {
   "display_name": ".venv",
   "language": "python",
   "name": "python3"
  },
  "language_info": {
   "codemirror_mode": {
    "name": "ipython",
    "version": 3
   },
   "file_extension": ".py",
   "mimetype": "text/x-python",
   "name": "python",
   "nbconvert_exporter": "python",
   "pygments_lexer": "ipython3",
   "version": "3.10.12"
  }
 },
 "nbformat": 4,
 "nbformat_minor": 2
}
