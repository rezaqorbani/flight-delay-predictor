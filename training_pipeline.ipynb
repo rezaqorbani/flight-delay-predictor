{
 "cells": [
  {
   "cell_type": "code",
   "execution_count": 1,
   "metadata": {},
   "outputs": [
    {
     "name": "stderr",
     "output_type": "stream",
     "text": [
      "/home/codespace/.python/current/lib/python3.10/site-packages/tqdm/auto.py:21: TqdmWarning: IProgress not found. Please update jupyter and ipywidgets. See https://ipywidgets.readthedocs.io/en/stable/user_install.html\n",
      "  from .autonotebook import tqdm as notebook_tqdm\n"
     ]
    }
   ],
   "source": [
    "import hopsworks\n",
    "import pandas as pd\n",
    "#from sklearn.neighbors import KNeighborsClassifier\n",
    "from sklearn.metrics import r2_score\n",
    "from sklearn.metrics import mean_absolute_error\n",
    "from sklearn.metrics import mean_squared_error\n",
    "from sklearn.linear_model import LinearRegression\n",
    "import numpy as np\n",
    "import seaborn as sns\n",
    "from matplotlib import pyplot\n",
    "from hsml.schema import Schema\n",
    "from hsml.model_schema import ModelSchema\n",
    "import joblib\n",
    "import os\n",
    "from sklearn.ensemble import RandomForestRegressor\n",
    "\n",
    "import torch\n",
    "import torch.nn as nn\n",
    "import torch.optim as optim\n",
    "from torch.utils.data import DataLoader, TensorDataset\n",
    "from sklearn.preprocessing import StandardScaler\n",
    "from sklearn.model_selection import train_test_split\n"
   ]
  },
  {
   "cell_type": "code",
   "execution_count": 2,
   "metadata": {},
   "outputs": [
    {
     "name": "stdout",
     "output_type": "stream",
     "text": [
      "Connected. Call `.close()` to terminate connection gracefully.\n",
      "\n",
      "Logged in to project, explore it here https://c.app.hopsworks.ai:443/p/194714\n",
      "Connected. Call `.close()` to terminate connection gracefully.\n"
     ]
    }
   ],
   "source": [
    "# You have to set the environment variable 'HOPSWORKS_API_KEY' for login to succeed\n",
    "project = hopsworks.login()\n",
    "fs = project.get_feature_store()"
   ]
  },
  {
   "cell_type": "markdown",
   "metadata": {},
   "source": [
    "#### Get or Create a new feature view"
   ]
  },
  {
   "cell_type": "code",
   "execution_count": 3,
   "metadata": {},
   "outputs": [],
   "source": [
    "# The feature view is the input set of features for your model. The features can come from different feature groups.    \n",
    "# You can select features from different feature groups and join them together to create a feature view\n",
    "flight_fg = fs.get_feature_group(name=\"flight_data_v3\", version=1)\n",
    "query = flight_fg.select_all()\n",
    "feature_view = fs.get_or_create_feature_view(name=\"flight_data_v3\",\n",
    "                                  version=1,\n",
    "                                  description=\"Read from Flight Delay dataset\",\n",
    "                                  labels=[\"dep_delay_new\"],\n",
    "                                  query=query)"
   ]
  },
  {
   "cell_type": "markdown",
   "metadata": {},
   "source": [
    "#### Create a new train test split"
   ]
  },
  {
   "cell_type": "code",
   "execution_count": 12,
   "metadata": {},
   "outputs": [
    {
     "name": "stdout",
     "output_type": "stream",
     "text": [
      "Finished: Reading data from Hopsworks, using ArrowFlight (16.91s) \n"
     ]
    },
    {
     "name": "stderr",
     "output_type": "stream",
     "text": [
      "VersionWarning: Incremented version to `6`.\n"
     ]
    }
   ],
   "source": [
    "# You can read training data, randomly split into train/test sets of features (X) and labels (y)        \n",
    "X_train, X_test, y_train, y_test = feature_view.train_test_split(test_size=0.2)"
   ]
  },
  {
   "cell_type": "markdown",
   "metadata": {},
   "source": [
    "#### Read from existing train test split"
   ]
  },
  {
   "cell_type": "code",
   "execution_count": 3,
   "metadata": {},
   "outputs": [
    {
     "name": "stdout",
     "output_type": "stream",
     "text": [
      "Finished: Reading data from Hopsworks, using ArrowFlight (16.55s) \n"
     ]
    }
   ],
   "source": [
    "#flight_fg = fs.get_feature_group(name=\"flight_data\", version=1)\n",
    "#query = flight_fg.select_all()\n",
    "feature_view = fs.get_feature_view(name=\"flight_data_v3\",version=1)\n",
    "# get a training dataset with train and test splits\n",
    "X_train, X_test, y_train, y_test = feature_view.get_train_test_split(training_dataset_version=3)"
   ]
  },
  {
   "cell_type": "code",
   "execution_count": 4,
   "metadata": {},
   "outputs": [
    {
     "data": {
      "text/html": [
       "<div>\n",
       "<style scoped>\n",
       "    .dataframe tbody tr th:only-of-type {\n",
       "        vertical-align: middle;\n",
       "    }\n",
       "\n",
       "    .dataframe tbody tr th {\n",
       "        vertical-align: top;\n",
       "    }\n",
       "\n",
       "    .dataframe thead th {\n",
       "        text-align: right;\n",
       "    }\n",
       "</style>\n",
       "<table border=\"1\" class=\"dataframe\">\n",
       "  <thead>\n",
       "    <tr style=\"text-align: right;\">\n",
       "      <th></th>\n",
       "      <th>month</th>\n",
       "      <th>day_of_month</th>\n",
       "      <th>day_of_week</th>\n",
       "      <th>origin_airport_id</th>\n",
       "      <th>origin_wac</th>\n",
       "      <th>dest_airport_id</th>\n",
       "      <th>dest_wac</th>\n",
       "      <th>crs_dep_time</th>\n",
       "      <th>crs_arr_time</th>\n",
       "      <th>hourlydewpointtemperature</th>\n",
       "      <th>hourlydrybulbtemperature</th>\n",
       "      <th>hourlyprecipitation</th>\n",
       "      <th>hourlyrelativehumidity</th>\n",
       "      <th>hourlystationpressure</th>\n",
       "      <th>hourlyvisibility</th>\n",
       "      <th>hourlywinddirection</th>\n",
       "      <th>hourlywindgustspeed</th>\n",
       "      <th>hourlywindspeed</th>\n",
       "    </tr>\n",
       "  </thead>\n",
       "  <tbody>\n",
       "    <tr>\n",
       "      <th>0</th>\n",
       "      <td>3</td>\n",
       "      <td>5</td>\n",
       "      <td>5</td>\n",
       "      <td>12</td>\n",
       "      <td>33</td>\n",
       "      <td>11</td>\n",
       "      <td>33</td>\n",
       "      <td>1315</td>\n",
       "      <td>1426</td>\n",
       "      <td>12.8</td>\n",
       "      <td>25.6</td>\n",
       "      <td>0.0</td>\n",
       "      <td>45.0</td>\n",
       "      <td>1013.88</td>\n",
       "      <td>16.00</td>\n",
       "      <td>80</td>\n",
       "      <td>0.0</td>\n",
       "      <td>4.0</td>\n",
       "    </tr>\n",
       "    <tr>\n",
       "      <th>1</th>\n",
       "      <td>4</td>\n",
       "      <td>21</td>\n",
       "      <td>3</td>\n",
       "      <td>1</td>\n",
       "      <td>36</td>\n",
       "      <td>11</td>\n",
       "      <td>33</td>\n",
       "      <td>900</td>\n",
       "      <td>1044</td>\n",
       "      <td>6.7</td>\n",
       "      <td>21.7</td>\n",
       "      <td>0.0</td>\n",
       "      <td>38.0</td>\n",
       "      <td>982.39</td>\n",
       "      <td>16.09</td>\n",
       "      <td>270</td>\n",
       "      <td>11.0</td>\n",
       "      <td>6.0</td>\n",
       "    </tr>\n",
       "    <tr>\n",
       "      <th>2</th>\n",
       "      <td>8</td>\n",
       "      <td>30</td>\n",
       "      <td>2</td>\n",
       "      <td>9</td>\n",
       "      <td>85</td>\n",
       "      <td>12</td>\n",
       "      <td>33</td>\n",
       "      <td>2327</td>\n",
       "      <td>715</td>\n",
       "      <td>6.1</td>\n",
       "      <td>33.3</td>\n",
       "      <td>0.0</td>\n",
       "      <td>18.0</td>\n",
       "      <td>936.34</td>\n",
       "      <td>16.09</td>\n",
       "      <td>210</td>\n",
       "      <td>0.0</td>\n",
       "      <td>3.0</td>\n",
       "    </tr>\n",
       "    <tr>\n",
       "      <th>3</th>\n",
       "      <td>7</td>\n",
       "      <td>16</td>\n",
       "      <td>6</td>\n",
       "      <td>16</td>\n",
       "      <td>91</td>\n",
       "      <td>2</td>\n",
       "      <td>82</td>\n",
       "      <td>1100</td>\n",
       "      <td>1445</td>\n",
       "      <td>11.7</td>\n",
       "      <td>22.2</td>\n",
       "      <td>0.0</td>\n",
       "      <td>52.0</td>\n",
       "      <td>1012.53</td>\n",
       "      <td>16.09</td>\n",
       "      <td>310</td>\n",
       "      <td>0.0</td>\n",
       "      <td>8.0</td>\n",
       "    </tr>\n",
       "    <tr>\n",
       "      <th>4</th>\n",
       "      <td>2</td>\n",
       "      <td>2</td>\n",
       "      <td>3</td>\n",
       "      <td>16</td>\n",
       "      <td>91</td>\n",
       "      <td>4</td>\n",
       "      <td>21</td>\n",
       "      <td>1450</td>\n",
       "      <td>2301</td>\n",
       "      <td>1.1</td>\n",
       "      <td>15.6</td>\n",
       "      <td>0.0</td>\n",
       "      <td>38.0</td>\n",
       "      <td>1020.32</td>\n",
       "      <td>16.09</td>\n",
       "      <td>360</td>\n",
       "      <td>0.0</td>\n",
       "      <td>8.0</td>\n",
       "    </tr>\n",
       "    <tr>\n",
       "      <th>...</th>\n",
       "      <td>...</td>\n",
       "      <td>...</td>\n",
       "      <td>...</td>\n",
       "      <td>...</td>\n",
       "      <td>...</td>\n",
       "      <td>...</td>\n",
       "      <td>...</td>\n",
       "      <td>...</td>\n",
       "      <td>...</td>\n",
       "      <td>...</td>\n",
       "      <td>...</td>\n",
       "      <td>...</td>\n",
       "      <td>...</td>\n",
       "      <td>...</td>\n",
       "      <td>...</td>\n",
       "      <td>...</td>\n",
       "      <td>...</td>\n",
       "      <td>...</td>\n",
       "    </tr>\n",
       "    <tr>\n",
       "      <th>1662951</th>\n",
       "      <td>5</td>\n",
       "      <td>16</td>\n",
       "      <td>7</td>\n",
       "      <td>14</td>\n",
       "      <td>23</td>\n",
       "      <td>0</td>\n",
       "      <td>34</td>\n",
       "      <td>1340</td>\n",
       "      <td>1555</td>\n",
       "      <td>3.9</td>\n",
       "      <td>21.1</td>\n",
       "      <td>0.0</td>\n",
       "      <td>32.0</td>\n",
       "      <td>1022.35</td>\n",
       "      <td>16.00</td>\n",
       "      <td>230</td>\n",
       "      <td>0.0</td>\n",
       "      <td>3.0</td>\n",
       "    </tr>\n",
       "    <tr>\n",
       "      <th>1662952</th>\n",
       "      <td>5</td>\n",
       "      <td>18</td>\n",
       "      <td>3</td>\n",
       "      <td>8</td>\n",
       "      <td>22</td>\n",
       "      <td>5</td>\n",
       "      <td>33</td>\n",
       "      <td>2035</td>\n",
       "      <td>2353</td>\n",
       "      <td>10.6</td>\n",
       "      <td>14.4</td>\n",
       "      <td>0.0</td>\n",
       "      <td>78.0</td>\n",
       "      <td>1011.51</td>\n",
       "      <td>16.09</td>\n",
       "      <td>190</td>\n",
       "      <td>0.0</td>\n",
       "      <td>7.0</td>\n",
       "    </tr>\n",
       "    <tr>\n",
       "      <th>1662953</th>\n",
       "      <td>6</td>\n",
       "      <td>30</td>\n",
       "      <td>4</td>\n",
       "      <td>7</td>\n",
       "      <td>74</td>\n",
       "      <td>13</td>\n",
       "      <td>41</td>\n",
       "      <td>630</td>\n",
       "      <td>914</td>\n",
       "      <td>22.2</td>\n",
       "      <td>23.9</td>\n",
       "      <td>0.0</td>\n",
       "      <td>90.0</td>\n",
       "      <td>1012.87</td>\n",
       "      <td>16.00</td>\n",
       "      <td>20</td>\n",
       "      <td>0.0</td>\n",
       "      <td>3.0</td>\n",
       "    </tr>\n",
       "    <tr>\n",
       "      <th>1662954</th>\n",
       "      <td>11</td>\n",
       "      <td>5</td>\n",
       "      <td>6</td>\n",
       "      <td>10</td>\n",
       "      <td>91</td>\n",
       "      <td>16</td>\n",
       "      <td>91</td>\n",
       "      <td>1049</td>\n",
       "      <td>1217</td>\n",
       "      <td>5.0</td>\n",
       "      <td>18.9</td>\n",
       "      <td>0.0</td>\n",
       "      <td>40.0</td>\n",
       "      <td>1006.10</td>\n",
       "      <td>16.09</td>\n",
       "      <td>250</td>\n",
       "      <td>0.0</td>\n",
       "      <td>4.0</td>\n",
       "    </tr>\n",
       "    <tr>\n",
       "      <th>1662955</th>\n",
       "      <td>7</td>\n",
       "      <td>3</td>\n",
       "      <td>6</td>\n",
       "      <td>12</td>\n",
       "      <td>33</td>\n",
       "      <td>7</td>\n",
       "      <td>74</td>\n",
       "      <td>1550</td>\n",
       "      <td>1736</td>\n",
       "      <td>26.1</td>\n",
       "      <td>33.3</td>\n",
       "      <td>0.0</td>\n",
       "      <td>66.0</td>\n",
       "      <td>1013.21</td>\n",
       "      <td>16.09</td>\n",
       "      <td>160</td>\n",
       "      <td>0.0</td>\n",
       "      <td>2.0</td>\n",
       "    </tr>\n",
       "  </tbody>\n",
       "</table>\n",
       "<p>1330364 rows × 18 columns</p>\n",
       "</div>"
      ],
      "text/plain": [
       "         month  day_of_month  day_of_week  origin_airport_id  origin_wac  \\\n",
       "0            3             5            5                 12          33   \n",
       "1            4            21            3                  1          36   \n",
       "2            8            30            2                  9          85   \n",
       "3            7            16            6                 16          91   \n",
       "4            2             2            3                 16          91   \n",
       "...        ...           ...          ...                ...         ...   \n",
       "1662951      5            16            7                 14          23   \n",
       "1662952      5            18            3                  8          22   \n",
       "1662953      6            30            4                  7          74   \n",
       "1662954     11             5            6                 10          91   \n",
       "1662955      7             3            6                 12          33   \n",
       "\n",
       "         dest_airport_id  dest_wac  crs_dep_time  crs_arr_time  \\\n",
       "0                     11        33          1315          1426   \n",
       "1                     11        33           900          1044   \n",
       "2                     12        33          2327           715   \n",
       "3                      2        82          1100          1445   \n",
       "4                      4        21          1450          2301   \n",
       "...                  ...       ...           ...           ...   \n",
       "1662951                0        34          1340          1555   \n",
       "1662952                5        33          2035          2353   \n",
       "1662953               13        41           630           914   \n",
       "1662954               16        91          1049          1217   \n",
       "1662955                7        74          1550          1736   \n",
       "\n",
       "         hourlydewpointtemperature  hourlydrybulbtemperature  \\\n",
       "0                             12.8                      25.6   \n",
       "1                              6.7                      21.7   \n",
       "2                              6.1                      33.3   \n",
       "3                             11.7                      22.2   \n",
       "4                              1.1                      15.6   \n",
       "...                            ...                       ...   \n",
       "1662951                        3.9                      21.1   \n",
       "1662952                       10.6                      14.4   \n",
       "1662953                       22.2                      23.9   \n",
       "1662954                        5.0                      18.9   \n",
       "1662955                       26.1                      33.3   \n",
       "\n",
       "         hourlyprecipitation  hourlyrelativehumidity  hourlystationpressure  \\\n",
       "0                        0.0                    45.0                1013.88   \n",
       "1                        0.0                    38.0                 982.39   \n",
       "2                        0.0                    18.0                 936.34   \n",
       "3                        0.0                    52.0                1012.53   \n",
       "4                        0.0                    38.0                1020.32   \n",
       "...                      ...                     ...                    ...   \n",
       "1662951                  0.0                    32.0                1022.35   \n",
       "1662952                  0.0                    78.0                1011.51   \n",
       "1662953                  0.0                    90.0                1012.87   \n",
       "1662954                  0.0                    40.0                1006.10   \n",
       "1662955                  0.0                    66.0                1013.21   \n",
       "\n",
       "         hourlyvisibility  hourlywinddirection  hourlywindgustspeed  \\\n",
       "0                   16.00                   80                  0.0   \n",
       "1                   16.09                  270                 11.0   \n",
       "2                   16.09                  210                  0.0   \n",
       "3                   16.09                  310                  0.0   \n",
       "4                   16.09                  360                  0.0   \n",
       "...                   ...                  ...                  ...   \n",
       "1662951             16.00                  230                  0.0   \n",
       "1662952             16.09                  190                  0.0   \n",
       "1662953             16.00                   20                  0.0   \n",
       "1662954             16.09                  250                  0.0   \n",
       "1662955             16.09                  160                  0.0   \n",
       "\n",
       "         hourlywindspeed  \n",
       "0                    4.0  \n",
       "1                    6.0  \n",
       "2                    3.0  \n",
       "3                    8.0  \n",
       "4                    8.0  \n",
       "...                  ...  \n",
       "1662951              3.0  \n",
       "1662952              7.0  \n",
       "1662953              3.0  \n",
       "1662954              4.0  \n",
       "1662955              2.0  \n",
       "\n",
       "[1330364 rows x 18 columns]"
      ]
     },
     "execution_count": 4,
     "metadata": {},
     "output_type": "execute_result"
    }
   ],
   "source": [
    "X_train"
   ]
  },
  {
   "cell_type": "code",
   "execution_count": 5,
   "metadata": {},
   "outputs": [
    {
     "name": "stdout",
     "output_type": "stream",
     "text": [
      "<class 'pandas.core.frame.DataFrame'>\n",
      "Index: 1330364 entries, 0 to 1662955\n",
      "Data columns (total 18 columns):\n",
      " #   Column                     Non-Null Count    Dtype  \n",
      "---  ------                     --------------    -----  \n",
      " 0   month                      1330364 non-null  int64  \n",
      " 1   day_of_month               1330364 non-null  int64  \n",
      " 2   day_of_week                1330364 non-null  int64  \n",
      " 3   origin_airport_id          1330364 non-null  int64  \n",
      " 4   origin_wac                 1330364 non-null  int64  \n",
      " 5   dest_airport_id            1330364 non-null  int64  \n",
      " 6   dest_wac                   1330364 non-null  int64  \n",
      " 7   crs_dep_time               1330364 non-null  int64  \n",
      " 8   crs_arr_time               1330364 non-null  int64  \n",
      " 9   hourlydewpointtemperature  1330364 non-null  float64\n",
      " 10  hourlydrybulbtemperature   1330364 non-null  float64\n",
      " 11  hourlyprecipitation        1330364 non-null  float64\n",
      " 12  hourlyrelativehumidity     1330364 non-null  float64\n",
      " 13  hourlystationpressure      1330364 non-null  float64\n",
      " 14  hourlyvisibility           1330364 non-null  float64\n",
      " 15  hourlywinddirection        1330364 non-null  int64  \n",
      " 16  hourlywindgustspeed        1330364 non-null  float64\n",
      " 17  hourlywindspeed            1330364 non-null  float64\n",
      "dtypes: float64(8), int64(10)\n",
      "memory usage: 192.8 MB\n"
     ]
    }
   ],
   "source": [
    "X_train.info()"
   ]
  },
  {
   "cell_type": "code",
   "execution_count": 6,
   "metadata": {},
   "outputs": [
    {
     "data": {
      "text/html": [
       "<div>\n",
       "<style scoped>\n",
       "    .dataframe tbody tr th:only-of-type {\n",
       "        vertical-align: middle;\n",
       "    }\n",
       "\n",
       "    .dataframe tbody tr th {\n",
       "        vertical-align: top;\n",
       "    }\n",
       "\n",
       "    .dataframe thead th {\n",
       "        text-align: right;\n",
       "    }\n",
       "</style>\n",
       "<table border=\"1\" class=\"dataframe\">\n",
       "  <thead>\n",
       "    <tr style=\"text-align: right;\">\n",
       "      <th></th>\n",
       "      <th>dep_delay_new</th>\n",
       "    </tr>\n",
       "  </thead>\n",
       "  <tbody>\n",
       "    <tr>\n",
       "      <th>0</th>\n",
       "      <td>0.0</td>\n",
       "    </tr>\n",
       "    <tr>\n",
       "      <th>1</th>\n",
       "      <td>0.0</td>\n",
       "    </tr>\n",
       "    <tr>\n",
       "      <th>2</th>\n",
       "      <td>0.0</td>\n",
       "    </tr>\n",
       "    <tr>\n",
       "      <th>3</th>\n",
       "      <td>8.0</td>\n",
       "    </tr>\n",
       "    <tr>\n",
       "      <th>4</th>\n",
       "      <td>0.0</td>\n",
       "    </tr>\n",
       "    <tr>\n",
       "      <th>...</th>\n",
       "      <td>...</td>\n",
       "    </tr>\n",
       "    <tr>\n",
       "      <th>1662951</th>\n",
       "      <td>0.0</td>\n",
       "    </tr>\n",
       "    <tr>\n",
       "      <th>1662952</th>\n",
       "      <td>24.0</td>\n",
       "    </tr>\n",
       "    <tr>\n",
       "      <th>1662953</th>\n",
       "      <td>0.0</td>\n",
       "    </tr>\n",
       "    <tr>\n",
       "      <th>1662954</th>\n",
       "      <td>21.0</td>\n",
       "    </tr>\n",
       "    <tr>\n",
       "      <th>1662955</th>\n",
       "      <td>6.0</td>\n",
       "    </tr>\n",
       "  </tbody>\n",
       "</table>\n",
       "<p>1330364 rows × 1 columns</p>\n",
       "</div>"
      ],
      "text/plain": [
       "         dep_delay_new\n",
       "0                  0.0\n",
       "1                  0.0\n",
       "2                  0.0\n",
       "3                  8.0\n",
       "4                  0.0\n",
       "...                ...\n",
       "1662951            0.0\n",
       "1662952           24.0\n",
       "1662953            0.0\n",
       "1662954           21.0\n",
       "1662955            6.0\n",
       "\n",
       "[1330364 rows x 1 columns]"
      ]
     },
     "execution_count": 6,
     "metadata": {},
     "output_type": "execute_result"
    }
   ],
   "source": [
    "y_train"
   ]
  },
  {
   "cell_type": "code",
   "execution_count": 7,
   "metadata": {},
   "outputs": [
    {
     "data": {
      "text/plain": [
       "array([ 0.,  0.,  0., ...,  0., 21.,  6.])"
      ]
     },
     "execution_count": 7,
     "metadata": {},
     "output_type": "execute_result"
    }
   ],
   "source": [
    "y_train.values.ravel()"
   ]
  },
  {
   "cell_type": "markdown",
   "metadata": {},
   "source": [
    "#### Random Forest Regressor Model"
   ]
  },
  {
   "cell_type": "code",
   "execution_count": 9,
   "metadata": {},
   "outputs": [
    {
     "name": "stderr",
     "output_type": "stream",
     "text": [
      "DataConversionWarning: A column-vector y was passed when a 1d array was expected. Please change the shape of y to (n_samples,), for example using ravel().\n"
     ]
    },
    {
     "name": "stdout",
     "output_type": "stream",
     "text": [
      "RMSE: 47.86803916189707\n",
      "MAE: 20.193247826431403\n",
      "R-squared: 0.03870513873153425\n",
      "Mean Squared Error (MSE): 2291.349173204912\n"
     ]
    }
   ],
   "source": [
    "# Initialize the Random Forest classifier\n",
    "model_RF = RandomForestRegressor(max_depth=10,random_state=1)  # You can adjust parameters here\n",
    "\n",
    "# Train the classifier\n",
    "model_RF.fit(X_train, y_train)\n",
    "# Predict labels for the test set\n",
    "y_pred = model_RF.predict(X_test)\n",
    "\n",
    "mse = mean_squared_error(y_test, y_pred)\n",
    "# Calculate RMSE\n",
    "rmse = np.sqrt(mse)\n",
    "\n",
    "# Calculate MAE\n",
    "mae = mean_absolute_error(y_test, y_pred)\n",
    "\n",
    "# Calculate R-squared\n",
    "r2 = r2_score(y_test, y_pred)\n",
    "\n",
    "print(f\"RMSE: {rmse}\")\n",
    "print(f\"MAE: {mae}\")\n",
    "print(f\"R-squared: {r2}\")\n",
    "print(f\"Mean Squared Error (MSE): {mse}\")"
   ]
  },
  {
   "cell_type": "code",
   "execution_count": 11,
   "metadata": {},
   "outputs": [],
   "source": [
    "y_train_np=y_train.values.ravel()\n",
    "X_train_np=X_train.values\n",
    "X_test_np = X_test.values\n",
    "y_test_np=y_test.values.ravel()"
   ]
  },
  {
   "cell_type": "code",
   "execution_count": null,
   "metadata": {},
   "outputs": [],
   "source": [
    "# Initialize the Random Forest classifier\n",
    "model_RF_np = RandomForestRegressor(max_depth=10,random_state=1)  # You can adjust parameters here\n",
    "\n",
    "# Train the classifier\n",
    "model_RF_np.fit(X_train_np, y_train_np)\n",
    "# Predict labels for the test set\n",
    "y_pred_np = model_RF_np.predict(X_test_np)\n",
    "\n",
    "mse = mean_squared_error(y_test_np, y_pred_np)\n",
    "# Calculate RMSE\n",
    "rmse = np.sqrt(mse)\n",
    "\n",
    "# Calculate MAE\n",
    "mae = mean_absolute_error(y_test_np, y_pred_np)\n",
    "\n",
    "# Calculate R-squared\n",
    "r2 = r2_score(y_test_np, y_pred_np)\n",
    "\n",
    "print(f\"RMSE: {rmse}\")\n",
    "print(f\"MAE: {mae}\")\n",
    "print(f\"R-squared: {r2}\")\n",
    "print(f\"Mean Squared Error (MSE): {mse}\")"
   ]
  },
  {
   "cell_type": "markdown",
   "metadata": {},
   "source": [
    "#### Linear Regression"
   ]
  },
  {
   "cell_type": "code",
   "execution_count": 10,
   "metadata": {},
   "outputs": [
    {
     "name": "stdout",
     "output_type": "stream",
     "text": [
      "RMSE: 48.40340106073102\n",
      "MAE: 20.85891488832906\n",
      "R-squared: 0.017082421248044044\n",
      "Mean Squared Error (MSE): 2342.8892342459767\n"
     ]
    }
   ],
   "source": [
    "# Initialize the Linear Regression model\n",
    "model_lin_reg = LinearRegression()\n",
    "\n",
    "# Fit the model on the training data\n",
    "model_lin_reg.fit(X_train, y_train)\n",
    "\n",
    "# Make predictions on the test set\n",
    "y_pred = model_lin_reg.predict(X_test)\n",
    "\n",
    "# Calculate the Mean Squared Error (MSE) on test set\n",
    "\n",
    "mse = mean_squared_error(y_test, y_pred)\n",
    "# Calculate RMSE\n",
    "rmse = np.sqrt(mse)\n",
    "\n",
    "# Calculate MAE\n",
    "mae = mean_absolute_error(y_test, y_pred)\n",
    "\n",
    "# Calculate R-squared\n",
    "r2 = r2_score(y_test, y_pred)\n",
    "\n",
    "print(f\"RMSE: {rmse}\")\n",
    "print(f\"MAE: {mae}\")\n",
    "print(f\"R-squared: {r2}\")\n",
    "print(f\"Mean Squared Error (MSE): {mse}\")"
   ]
  },
  {
   "cell_type": "markdown",
   "metadata": {},
   "source": [
    "#### Neural Network"
   ]
  },
  {
   "cell_type": "code",
   "execution_count": 11,
   "metadata": {},
   "outputs": [],
   "source": [
    "# Convert data to PyTorch tensors\n",
    "X_train_tensor = torch.tensor(X_train.values, dtype=torch.float32)\n",
    "X_test_tensor = torch.tensor(X_test.values, dtype=torch.float32)\n",
    "y_train_tensor = torch.tensor(y_train.values, dtype=torch.float32)\n",
    "y_test_tensor = torch.tensor(y_test.values, dtype=torch.float32)"
   ]
  },
  {
   "cell_type": "code",
   "execution_count": 12,
   "metadata": {},
   "outputs": [],
   "source": [
    "# Normalize features (optional but often recommended for neural networks)\n",
    "# outputs np arrays\n",
    "scaler = StandardScaler()\n",
    "X_train_scaled = scaler.fit_transform(X_train_tensor)\n",
    "X_test_scaled = scaler.transform(X_test_tensor)"
   ]
  },
  {
   "cell_type": "code",
   "execution_count": 13,
   "metadata": {},
   "outputs": [],
   "source": [
    "# Convert the scaled NumPy arrays back to PyTorch tensors\n",
    "X_train_tensor = torch.tensor(X_train_scaled, dtype=torch.float32)\n",
    "X_test_tensor = torch.tensor(X_test_scaled, dtype=torch.float32)"
   ]
  },
  {
   "cell_type": "code",
   "execution_count": 14,
   "metadata": {},
   "outputs": [],
   "source": [
    "# Convert to PyTorch Dataset\n",
    "train_dataset = TensorDataset(X_train_tensor, y_train_tensor)\n",
    "val_dataset = TensorDataset(X_test_tensor, y_test_tensor)"
   ]
  },
  {
   "cell_type": "code",
   "execution_count": 15,
   "metadata": {},
   "outputs": [],
   "source": [
    "class NeuralNetwork(nn.Module):\n",
    "    def __init__(self, input_size):\n",
    "        super(NeuralNetwork, self).__init__()\n",
    "        self.fc1 = nn.Linear(input_size, 128)\n",
    "        self.relu = nn.ReLU()\n",
    "        self.dropout = nn.Dropout(0.2)\n",
    "        self.fc2 = nn.Linear(128, 64)\n",
    "        self.output = nn.Linear(64, 1)\n",
    "\n",
    "    def forward(self, x):\n",
    "        x = self.fc1(x)\n",
    "        x = self.relu(x)\n",
    "        x = self.dropout(x)\n",
    "        x = self.fc2(x)\n",
    "        x = self.relu(x)\n",
    "        x = self.output(x)\n",
    "        return x"
   ]
  },
  {
   "cell_type": "code",
   "execution_count": 16,
   "metadata": {},
   "outputs": [
    {
     "name": "stdout",
     "output_type": "stream",
     "text": [
      "Epoch 1/25, Train Loss MSE: 2433.100953951275, Train Loss RMSE: 49.326473236083984, Val Loss MSE: 2323.2841163372477, Val RMSE: 48.20045852661133\n",
      "Epoch 2/25, Train Loss MSE: 2421.3151343273107, Train Loss RMSE: 49.20686340332031, Val Loss MSE: 2318.397365316098, Val RMSE: 48.149742126464844\n",
      "Epoch 3/25, Train Loss MSE: 2416.8709936761784, Train Loss RMSE: 49.16168212890625, Val Loss MSE: 2313.8421561736795, Val RMSE: 48.102413177490234\n",
      "Epoch 4/25, Train Loss MSE: 2413.977709303665, Train Loss RMSE: 49.13224792480469, Val Loss MSE: 2310.6134170765645, Val RMSE: 48.068843841552734\n",
      "Epoch 5/25, Train Loss MSE: 2411.705824176247, Train Loss RMSE: 49.10912322998047, Val Loss MSE: 2308.5503592359946, Val RMSE: 48.0473747253418\n",
      "Epoch 6/25, Train Loss MSE: 2409.2337814639723, Train Loss RMSE: 49.083946228027344, Val Loss MSE: 2306.2230318402335, Val RMSE: 48.02315139770508\n",
      "Epoch 7/25, Train Loss MSE: 2407.0550793993552, Train Loss RMSE: 49.06174850463867, Val Loss MSE: 2303.5158503805646, Val RMSE: 47.994956970214844\n",
      "Epoch 8/25, Train Loss MSE: 2405.276924572265, Train Loss RMSE: 49.04362106323242, Val Loss MSE: 2302.4228561904906, Val RMSE: 47.98357009887695\n",
      "Epoch 9/25, Train Loss MSE: 2403.111122802824, Train Loss RMSE: 49.02153778076172, Val Loss MSE: 2299.8893828312202, Val RMSE: 47.95716094970703\n",
      "Epoch 10/25, Train Loss MSE: 2401.36560854217, Train Loss RMSE: 49.00373077392578, Val Loss MSE: 2298.8345780892855, Val RMSE: 47.946163177490234\n",
      "Epoch 11/25, Train Loss MSE: 2399.2866681780188, Train Loss RMSE: 48.982513427734375, Val Loss MSE: 2296.112409567819, Val RMSE: 47.91776657104492\n",
      "Epoch 12/25, Train Loss MSE: 2398.1178439457753, Train Loss RMSE: 48.9705810546875, Val Loss MSE: 2294.2703947808986, Val RMSE: 47.89854431152344\n",
      "Epoch 13/25, Train Loss MSE: 2396.425296997975, Train Loss RMSE: 48.95329666137695, Val Loss MSE: 2293.2772700698965, Val RMSE: 47.88817596435547\n",
      "Epoch 14/25, Train Loss MSE: 2394.188116000295, Train Loss RMSE: 48.930442810058594, Val Loss MSE: 2291.7118825789526, Val RMSE: 47.871829986572266\n",
      "Epoch 15/25, Train Loss MSE: 2393.3438287021945, Train Loss RMSE: 48.92181396484375, Val Loss MSE: 2291.4560108195824, Val RMSE: 47.86915588378906\n",
      "Epoch 16/25, Train Loss MSE: 2392.0867820118, Train Loss RMSE: 48.90896224975586, Val Loss MSE: 2288.806369663317, Val RMSE: 47.84147262573242\n",
      "Epoch 17/25, Train Loss MSE: 2390.8634822893355, Train Loss RMSE: 48.89645767211914, Val Loss MSE: 2287.606342424309, Val RMSE: 47.82892990112305\n",
      "Epoch 18/25, Train Loss MSE: 2389.557188845463, Train Loss RMSE: 48.883094787597656, Val Loss MSE: 2287.721488896117, Val RMSE: 47.83013153076172\n",
      "Epoch 19/25, Train Loss MSE: 2388.2457227034793, Train Loss RMSE: 48.86968231201172, Val Loss MSE: 2287.3739600483445, Val RMSE: 47.826499938964844\n",
      "Epoch 20/25, Train Loss MSE: 2387.8181335350855, Train Loss RMSE: 48.86530685424805, Val Loss MSE: 2284.816698810929, Val RMSE: 47.79975509643555\n",
      "Epoch 21/25, Train Loss MSE: 2386.9111125173636, Train Loss RMSE: 48.85602569580078, Val Loss MSE: 2283.619084247195, Val RMSE: 47.787227630615234\n",
      "Epoch 22/25, Train Loss MSE: 2385.9086614452685, Train Loss RMSE: 48.84576416015625, Val Loss MSE: 2283.1977975950667, Val RMSE: 47.78281784057617\n",
      "Epoch 23/25, Train Loss MSE: 2385.7454849834444, Train Loss RMSE: 48.84409713745117, Val Loss MSE: 2282.926736903232, Val RMSE: 47.77998352050781\n",
      "Epoch 24/25, Train Loss MSE: 2384.6058361594646, Train Loss RMSE: 48.832427978515625, Val Loss MSE: 2282.2326089441717, Val RMSE: 47.77272033691406\n",
      "Epoch 25/25, Train Loss MSE: 2384.711660541761, Train Loss RMSE: 48.83351135253906, Val Loss MSE: 2280.453517799311, Val RMSE: 47.75409698486328\n"
     ]
    }
   ],
   "source": [
    "# Initialize the model\n",
    "input_size = X_train_tensor.shape[1]\n",
    "model = NeuralNetwork(input_size)\n",
    "\n",
    "# Define loss function and optimizer\n",
    "criterion = nn.MSELoss()\n",
    "optimizer = optim.Adam(model.parameters(), lr=0.0001)\n",
    "\n",
    "# Define data loaders\n",
    "train_loader = DataLoader(train_dataset, batch_size=32, shuffle=True)\n",
    "val_loader = DataLoader(val_dataset, batch_size=32)\n",
    "\n",
    "# Train the model\n",
    "num_epochs = 25\n",
    "for epoch in range(num_epochs):\n",
    "    model.train()\n",
    "    running_loss = 0.0\n",
    "    for inputs, targets in train_loader:\n",
    "        optimizer.zero_grad()\n",
    "        outputs = model(inputs)\n",
    "        loss = criterion(outputs, targets)\n",
    "        loss.backward()\n",
    "        optimizer.step()\n",
    "        running_loss += loss.item()\n",
    "    \n",
    "    #convert to rmse\n",
    "    train_loss = running_loss / len(train_loader)\n",
    "    train_rmse = torch.sqrt(torch.tensor(train_loss))\n",
    "    \n",
    "    # Calculate validation loss\n",
    "    model.eval()\n",
    "    val_loss = 0.0\n",
    "    with torch.no_grad():\n",
    "        for inputs, targets in val_loader:\n",
    "            outputs = model(inputs)\n",
    "            val_loss += criterion(outputs, targets).item()\n",
    "        val_loss /= len(val_loader)\n",
    "\n",
    "    val_rmse = torch.sqrt(torch.tensor(val_loss))\n",
    "\n",
    "    print(f\"Epoch {epoch+1}/{num_epochs}, Train Loss MSE: {train_loss}, Train Loss RMSE: {train_rmse}, Val Loss MSE: {val_loss}, Val RMSE: {val_rmse}\")"
   ]
  },
  {
   "cell_type": "markdown",
   "metadata": {},
   "source": [
    "#### Save to Hopsworks Model Registry "
   ]
  },
  {
   "cell_type": "code",
   "execution_count": 17,
   "metadata": {},
   "outputs": [
    {
     "name": "stdout",
     "output_type": "stream",
     "text": [
      "Connected. Call `.close()` to terminate connection gracefully.\n"
     ]
    },
    {
     "name": "stderr",
     "output_type": "stream",
     "text": [
      "Uploading: 100.000%|██████████| 46277/46277 elapsed<00:03 remaining<00:001,  3.02it/s]\n",
      "Model export complete: 100%|██████████| 6/6 [00:09<00:00,  1.61s/it]                   "
     ]
    },
    {
     "name": "stdout",
     "output_type": "stream",
     "text": [
      "Model created, explore it at https://c.app.hopsworks.ai:443/p/194714/models/flight_delay_model/2\n"
     ]
    },
    {
     "name": "stderr",
     "output_type": "stream",
     "text": [
      "\n"
     ]
    },
    {
     "data": {
      "text/plain": [
       "Model(name: 'flight_delay_model', version: 2)"
      ]
     },
     "execution_count": 17,
     "metadata": {},
     "output_type": "execute_result"
    }
   ],
   "source": [
    "# We will now upload our model to the Hopsworks Model Registry. First get an object for the model registry.\n",
    "mr = project.get_model_registry()\n",
    "\n",
    "# The contents of the 'iris_model' directory will be saved to the model registry. Create the dir, first.\n",
    "model_dir=\"flight delay model\"\n",
    "if os.path.isdir(model_dir) == False:\n",
    "    os.mkdir(model_dir)\n",
    "\n",
    "# Save both our model and the confusion matrix to 'model_dir', whose contents will be uploaded to the model registry\n",
    "joblib.dump(model, model_dir + \"/flight_delay_model.pkl\")\n",
    "#fig.savefig(model_dir + \"/confusion_matrix.png\")    \n",
    "\n",
    "# Specify the schema of the model's input/output using the features (X_train) and labels (y_train)\n",
    "#input_schema = Schema(X_train_tensor)\n",
    "#output_schema = Schema(y_train_tensor)\n",
    "#model_schema = ModelSchema(input_schema, output_schema)\n",
    "\n",
    "# Create an entry in the model registry that includes the model's name, desc, metrics\n",
    "fligt_delay_model = mr.python.create_model(\n",
    "    name=\"flight_delay_model\", \n",
    "    #metrics={\"accuracy\" : metrics['accuracy']},\n",
    "    metrics={\"val RMSE\" : val_rmse.item()},\n",
    "    #model_schema=model_schema,\n",
    "    description=\"Flight Delay Predictor no schema\"\n",
    ")\n",
    "\n",
    "# Upload the model to the model registry, including all files in 'model_dir'\n",
    "fligt_delay_model.save(model_dir + \"/flight_delay_model.pkl\")"
   ]
  },
  {
   "cell_type": "markdown",
   "metadata": {},
   "source": [
    "### Example showing how to load the NN model from Model Registry and how to use it for inference"
   ]
  },
  {
   "cell_type": "markdown",
   "metadata": {},
   "source": [
    "Class definition needed due to how python loads saved pytorch models. The class definition is used to load the pickle model. If the pytorch model was saved as a state dict it could also be loaded using state_dict without defining class definition"
   ]
  },
  {
   "cell_type": "code",
   "execution_count": 18,
   "metadata": {},
   "outputs": [
    {
     "name": "stdout",
     "output_type": "stream",
     "text": [
      "Connected. Call `.close()` to terminate connection gracefully.\n",
      "Downloading model artifact (0 dirs, 1 files)... DONE\r"
     ]
    }
   ],
   "source": [
    "class NeuralNetwork(nn.Module):\n",
    "    def __init__(self, input_size):\n",
    "        super(NeuralNetwork, self).__init__()\n",
    "        self.fc1 = nn.Linear(input_size, 128)\n",
    "        self.relu = nn.ReLU()\n",
    "        self.dropout = nn.Dropout(0.2)\n",
    "        self.fc2 = nn.Linear(128, 64)\n",
    "        self.output = nn.Linear(64, 1)\n",
    "\n",
    "    def forward(self, x):\n",
    "        x = self.fc1(x)\n",
    "        x = self.relu(x)\n",
    "        x = self.dropout(x)\n",
    "        x = self.fc2(x)\n",
    "        x = self.relu(x)\n",
    "        x = self.output(x)\n",
    "        return x\n",
    "\n",
    "mr = project.get_model_registry()\n",
    "model = mr.get_model(\"flight_delay_model\", version=2)\n",
    "model_dir = model.download()\n",
    "model = joblib.load(model_dir + \"/flight_delay_model.pkl\")\n"
   ]
  },
  {
   "cell_type": "code",
   "execution_count": 22,
   "metadata": {},
   "outputs": [
    {
     "name": "stdout",
     "output_type": "stream",
     "text": [
      "[[ 0.06875949  0.02368773  1.0026548   1.61362846  1.38625815 -1.17068383\n",
      "   1.04279966 -0.47209716 -0.08938165  0.26542597  0.43838145 -0.10021307\n",
      "  -0.40318245  0.50681242  0.33170667  1.22564572 -0.35572269  1.58065028]]\n",
      "tensor([ 0.0688,  0.0237,  1.0027,  1.6136,  1.3863, -1.1707,  1.0428, -0.4721,\n",
      "        -0.0894,  0.2654,  0.4384, -0.1002, -0.4032,  0.5068,  0.3317,  1.2256,\n",
      "        -0.3557,  1.5807])\n",
      "tensor([[ 0.0688,  0.0237,  1.0027,  1.6136,  1.3863, -1.1707,  1.0428, -0.4721,\n",
      "         -0.0894,  0.2654,  0.4384, -0.1002, -0.4032,  0.5068,  0.3317,  1.2256,\n",
      "         -0.3557,  1.5807]])\n",
      "tensor([[11.6275]], grad_fn=<AddmmBackward0>)\n",
      "dep_delay_new    8.0\n",
      "Name: 3, dtype: float64\n"
     ]
    }
   ],
   "source": [
    "#Data sample used for inference\n",
    "i_test=3\n",
    "a=X_train.iloc[i_test]\n",
    "a=torch.tensor(a, dtype=torch.float32)\n",
    "\n",
    "#Fit scaler to how it was fitted during training\n",
    "scaler = StandardScaler()\n",
    "X_train_tensor = torch.tensor(X_train.values, dtype=torch.float32)\n",
    "X_train_scaled = scaler.fit_transform(X_train_tensor)\n",
    "X_train_tensor = torch.tensor(X_train_scaled, dtype=torch.float32)\n",
    "\n",
    "#transform data sample\n",
    "a=scaler.transform(a.reshape(1, -1))\n",
    "print(a)\n",
    "print(X_train_tensor[i_test])\n",
    "\n",
    "# transform np array to torch tensor\n",
    "a_tensor=torch.tensor(a, dtype=torch.float32)\n",
    "\n",
    "print(a_tensor)\n",
    "print(model(a_tensor))\n",
    "print(y_train.iloc[i_test])"
   ]
  },
  {
   "cell_type": "code",
   "execution_count": null,
   "metadata": {},
   "outputs": [],
   "source": []
  }
 ],
 "metadata": {
  "kernelspec": {
   "display_name": "Python 3",
   "language": "python",
   "name": "python3"
  },
  "language_info": {
   "codemirror_mode": {
    "name": "ipython",
    "version": 3
   },
   "file_extension": ".py",
   "mimetype": "text/x-python",
   "name": "python",
   "nbconvert_exporter": "python",
   "pygments_lexer": "ipython3",
   "version": "3.10.13"
  }
 },
 "nbformat": 4,
 "nbformat_minor": 2
}
