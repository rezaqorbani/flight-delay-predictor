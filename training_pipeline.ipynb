{
 "cells": [
  {
   "cell_type": "code",
   "execution_count": 22,
   "metadata": {},
   "outputs": [],
   "source": [
    "import hopsworks\n",
    "import pandas as pd\n",
    "from sklearn.neighbors import KNeighborsClassifier\n",
    "from sklearn.metrics import r2_score\n",
    "from sklearn.metrics import mean_absolute_error\n",
    "from sklearn.metrics import mean_squared_error\n",
    "from sklearn.linear_model import LinearRegression\n",
    "import numpy as np\n",
    "import seaborn as sns\n",
    "from matplotlib import pyplot\n",
    "from hsml.schema import Schema\n",
    "from hsml.model_schema import ModelSchema\n",
    "import joblib\n",
    "import os\n",
    "from sklearn.ensemble import RandomForestRegressor"
   ]
  },
  {
   "cell_type": "code",
   "execution_count": 2,
   "metadata": {},
   "outputs": [
    {
     "name": "stdout",
     "output_type": "stream",
     "text": [
      "Connected. Call `.close()` to terminate connection gracefully.\n",
      "\n",
      "Logged in to project, explore it here https://c.app.hopsworks.ai:443/p/194714\n",
      "Connected. Call `.close()` to terminate connection gracefully.\n"
     ]
    }
   ],
   "source": [
    "# You have to set the environment variable 'HOPSWORKS_API_KEY' for login to succeed\n",
    "project = hopsworks.login()\n",
    "fs = project.get_feature_store()"
   ]
  },
  {
   "cell_type": "code",
   "execution_count": 4,
   "metadata": {},
   "outputs": [
    {
     "name": "stdout",
     "output_type": "stream",
     "text": [
      "Feature view created successfully, explore it at \n",
      "https://c.app.hopsworks.ai:443/p/194714/fs/194633/fv/flight_data/version/1\n"
     ]
    }
   ],
   "source": [
    "# The feature view is the input set of features for your model. The features can come from different feature groups.    \n",
    "# You can select features from different feature groups and join them together to create a feature view\n",
    "flight_fg = fs.get_feature_group(name=\"flight_data\", version=1)\n",
    "query = flight_fg.select_all()\n",
    "feature_view = fs.get_or_create_feature_view(name=\"flight_data\",\n",
    "                                  version=1,\n",
    "                                  description=\"Read from Flight Delay dataset\",\n",
    "                                  labels=[\"dep_delay_new\"],\n",
    "                                  query=query)"
   ]
  },
  {
   "cell_type": "code",
   "execution_count": 5,
   "metadata": {},
   "outputs": [
    {
     "name": "stdout",
     "output_type": "stream",
     "text": [
      "Finished: Reading data from Hopsworks, using ArrowFlight (20.13s) \n"
     ]
    },
    {
     "name": "stderr",
     "output_type": "stream",
     "text": [
      "VersionWarning: Incremented version to `1`.\n"
     ]
    }
   ],
   "source": [
    "# You can read training data, randomly split into train/test sets of features (X) and labels (y)        \n",
    "X_train, X_test, y_train, y_test = feature_view.train_test_split(test_size=0.2)"
   ]
  },
  {
   "cell_type": "markdown",
   "metadata": {},
   "source": [
    "#### Random Forest Regressor Model"
   ]
  },
  {
   "cell_type": "code",
   "execution_count": null,
   "metadata": {},
   "outputs": [],
   "source": [
    "# Initialize the Random Forest classifier\n",
    "model_RF = RandomForestRegressor(n_estimators=100, max_depth=10,random_state=1)  # You can adjust parameters here\n",
    "\n",
    "# Train the classifier\n",
    "model_RF.fit(X_train, y_train)\n",
    "# Predict labels for the test set\n",
    "y_pred = model_RF.predict(X_test)\n",
    "\n",
    "mse = mean_squared_error(y_test, y_pred)\n",
    "# Calculate RMSE\n",
    "rmse = np.sqrt(mse)\n",
    "\n",
    "# Calculate MAE\n",
    "mae = mean_absolute_error(y_test, y_pred)\n",
    "\n",
    "# Calculate R-squared\n",
    "r2 = r2_score(y_test, y_pred)\n",
    "\n",
    "print(f\"RMSE: {rmse}\")\n",
    "print(f\"MAE: {mae}\")\n",
    "print(f\"R-squared: {r2}\")\n",
    "print(f\"Mean Squared Error (MSE): {mse}\")"
   ]
  },
  {
   "cell_type": "markdown",
   "metadata": {},
   "source": [
    "#### Linear Regression"
   ]
  },
  {
   "cell_type": "code",
   "execution_count": 26,
   "metadata": {},
   "outputs": [
    {
     "name": "stdout",
     "output_type": "stream",
     "text": [
      "RMSE: 50.6310994154544\n",
      "MAE: 21.002474888964223\n",
      "R-squared: 0.017153131048727288\n",
      "Mean Squared Error (MSE): 2563.5082280176266\n"
     ]
    }
   ],
   "source": [
    "# Initialize the Linear Regression model\n",
    "model_lin_reg = LinearRegression()\n",
    "\n",
    "# Fit the model on the training data\n",
    "model_lin_reg.fit(X_train, y_train)\n",
    "\n",
    "# Make predictions on the test set\n",
    "y_pred = model_lin_reg.predict(X_test)\n",
    "\n",
    "# Calculate the Mean Squared Error (MSE) on test set\n",
    "\n",
    "mse = mean_squared_error(y_test, y_pred)\n",
    "# Calculate RMSE\n",
    "rmse = np.sqrt(mse)\n",
    "\n",
    "# Calculate MAE\n",
    "mae = mean_absolute_error(y_test, y_pred)\n",
    "\n",
    "# Calculate R-squared\n",
    "r2 = r2_score(y_test, y_pred)\n",
    "\n",
    "print(f\"RMSE: {rmse}\")\n",
    "print(f\"MAE: {mae}\")\n",
    "print(f\"R-squared: {r2}\")\n",
    "print(f\"Mean Squared Error (MSE): {mse}\")"
   ]
  },
  {
   "cell_type": "code",
   "execution_count": 11,
   "metadata": {},
   "outputs": [
    {
     "name": "stdout",
     "output_type": "stream",
     "text": [
      "1            0.0\n",
      "2           27.0\n",
      "3            0.0\n",
      "4           13.0\n",
      "6            0.0\n",
      "           ...  \n",
      "1663626      0.0\n",
      "1663627     17.0\n",
      "1663628      7.0\n",
      "1663629      0.0\n",
      "1663630    119.0\n",
      "Name: dep_delay_new, Length: 1330904, dtype: float64\n"
     ]
    }
   ],
   "source": [
    "print(y_train['dep_delay_new'])"
   ]
  },
  {
   "cell_type": "code",
   "execution_count": 12,
   "metadata": {},
   "outputs": [
    {
     "name": "stdout",
     "output_type": "stream",
     "text": [
      "         year  quarter  month  day_of_month  day_of_week  origin_airport_id  \\\n",
      "1        2022        2      5            27            5              13930   \n",
      "2        2021        4     11            10            3              13930   \n",
      "3        2022        3      9            16            5              14100   \n",
      "4        2021        1      1            20            3              11433   \n",
      "6        2022        4     10            27            4              12892   \n",
      "...       ...      ...    ...           ...          ...                ...   \n",
      "1663626  2022        1      2            10            4              12892   \n",
      "1663627  2021        2      5             4            2              11292   \n",
      "1663628  2022        3      9            24            6              12478   \n",
      "1663629  2022        4     12            10            6              12478   \n",
      "1663630  2022        1      2            28            1              13204   \n",
      "\n",
      "         origin_wac  dest_airport_id  dest_wac  crs_dep_time  ...  distance  \\\n",
      "1                41            12478        22           730  ...     740.0   \n",
      "2                41            11057        36          1040  ...     599.0   \n",
      "3                23            10397        34           610  ...     666.0   \n",
      "4                43            14747        93          1946  ...    1927.0   \n",
      "6                91            11618        21           605  ...    2454.0   \n",
      "...             ...              ...       ...           ...  ...       ...   \n",
      "1663626          91            12478        22          1135  ...    2475.0   \n",
      "1663627          82            12889        85          2245  ...     628.0   \n",
      "1663628          22            11057        36          1455  ...     541.0   \n",
      "1663629          22            10397        34          1530  ...     760.0   \n",
      "1663630          33            12478        22          1355  ...     944.0   \n",
      "\n",
      "         hourlydewpointtemperature  hourlydrybulbtemperature  \\\n",
      "1                              9.4                      12.8   \n",
      "2                              7.2                      12.8   \n",
      "3                             10.0                      15.6   \n",
      "4                             -8.3                      -3.9   \n",
      "6                             11.1                      15.0   \n",
      "...                            ...                       ...   \n",
      "1663626                        2.2                      27.2   \n",
      "1663627                        3.9                       7.8   \n",
      "1663628                        4.4                      21.7   \n",
      "1663629                       -2.8                       3.3   \n",
      "1663630                       15.6                      26.1   \n",
      "\n",
      "         hourlyprecipitation  hourlyrelativehumidity  hourlystationpressure  \\\n",
      "1                       0.07                    80.0                 984.08   \n",
      "2                       0.00                    69.0                 995.94   \n",
      "3                       0.00                    70.0                1022.69   \n",
      "4                       0.00                    72.0                 991.87   \n",
      "6                       0.00                    78.0                1004.06   \n",
      "...                      ...                     ...                    ...   \n",
      "1663626                 0.00                    20.0                1006.10   \n",
      "1663627                 0.00                    77.0                 834.74   \n",
      "1663628                 0.00                    32.0                1012.87   \n",
      "1663629                 0.00                    65.0                1028.45   \n",
      "1663630                 0.00                    52.0                1011.85   \n",
      "\n",
      "         hourlyvisibility  hourlywinddirection  hourlywindgustspeed  \\\n",
      "1                   16.09                   10                 13.0   \n",
      "2                   14.48                  100                  0.0   \n",
      "3                   16.09                  360                  0.0   \n",
      "4                   12.01                  210                  0.0   \n",
      "6                   16.09                   60                  0.0   \n",
      "...                   ...                  ...                  ...   \n",
      "1663626             16.09                  260                  0.0   \n",
      "1663627             16.09                  240                  0.0   \n",
      "1663628             16.09                  310                  0.0   \n",
      "1663629             16.09                   50                  0.0   \n",
      "1663630             16.09                  280                  0.0   \n",
      "\n",
      "         hourlywindspeed  \n",
      "1                    8.0  \n",
      "2                    7.0  \n",
      "3                    3.0  \n",
      "4                    8.0  \n",
      "6                    2.0  \n",
      "...                  ...  \n",
      "1663626              4.0  \n",
      "1663627              4.0  \n",
      "1663628              5.0  \n",
      "1663629              4.0  \n",
      "1663630              4.0  \n",
      "\n",
      "[1330904 rows x 21 columns]\n"
     ]
    }
   ],
   "source": [
    "print(X_train)"
   ]
  },
  {
   "cell_type": "code",
   "execution_count": 14,
   "metadata": {},
   "outputs": [],
   "source": [
    "y_train = np.array(y_train['dep_delay_new'])  "
   ]
  },
  {
   "cell_type": "markdown",
   "metadata": {},
   "source": [
    "#### Save to Hopsworks Model Registry "
   ]
  },
  {
   "cell_type": "code",
   "execution_count": 15,
   "metadata": {},
   "outputs": [
    {
     "name": "stdout",
     "output_type": "stream",
     "text": [
      "[  0.  27.   0. ...   7.   0. 119.]\n"
     ]
    }
   ],
   "source": []
  },
  {
   "cell_type": "code",
   "execution_count": null,
   "metadata": {},
   "outputs": [],
   "source": [
    "# We will now upload our model to the Hopsworks Model Registry. First get an object for the model registry.\n",
    "mr = project.get_model_registry()\n",
    "\n",
    "# The contents of the 'iris_model' directory will be saved to the model registry. Create the dir, first.\n",
    "model_dir=\"flight delay model\"\n",
    "if os.path.isdir(model_dir) == False:\n",
    "    os.mkdir(model_dir)\n",
    "\n",
    "# Save both our model and the confusion matrix to 'model_dir', whose contents will be uploaded to the model registry\n",
    "#joblib.dump(model, model_dir + \"/flight_delay_model.pkl\")\n",
    "#fig.savefig(model_dir + \"/confusion_matrix.png\")    \n",
    "\n",
    "# Specify the schema of the model's input/output using the features (X_train) and labels (y_train)\n",
    "input_schema = Schema(X_train)\n",
    "output_schema = Schema(y_train)\n",
    "model_schema = ModelSchema(input_schema, output_schema)\n",
    "\n",
    "# Create an entry in the model registry that includes the model's name, desc, metrics\n",
    "fligt_delay_model = mr.python.create_model(\n",
    "    name=\"fligt_delay_model\", \n",
    "    metrics={\"accuracy\" : metrics['accuracy']},\n",
    "    model_schema=model_schema,\n",
    "    description=\"Flight Delay Predictor\"\n",
    ")\n",
    "\n",
    "# Upload the model to the model registry, including all files in 'model_dir'\n",
    "fligt_delay_model.save(model_dir)"
   ]
  },
  {
   "cell_type": "code",
   "execution_count": null,
   "metadata": {},
   "outputs": [],
   "source": []
  },
  {
   "cell_type": "code",
   "execution_count": null,
   "metadata": {},
   "outputs": [],
   "source": []
  },
  {
   "cell_type": "code",
   "execution_count": null,
   "metadata": {},
   "outputs": [],
   "source": []
  }
 ],
 "metadata": {
  "kernelspec": {
   "display_name": "Python 3",
   "language": "python",
   "name": "python3"
  },
  "language_info": {
   "codemirror_mode": {
    "name": "ipython",
    "version": 3
   },
   "file_extension": ".py",
   "mimetype": "text/x-python",
   "name": "python",
   "nbconvert_exporter": "python",
   "pygments_lexer": "ipython3",
   "version": "3.10.13"
  }
 },
 "nbformat": 4,
 "nbformat_minor": 2
}
