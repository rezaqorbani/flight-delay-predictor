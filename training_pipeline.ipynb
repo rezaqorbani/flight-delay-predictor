{
 "cells": [
  {
   "cell_type": "code",
   "execution_count": 1,
   "metadata": {},
   "outputs": [
    {
     "name": "stderr",
     "output_type": "stream",
     "text": [
      "/home/reza/dev/repos/flight-delay-predictor/.venv/lib/python3.10/site-packages/tqdm/auto.py:21: TqdmWarning: IProgress not found. Please update jupyter and ipywidgets. See https://ipywidgets.readthedocs.io/en/stable/user_install.html\n",
      "  from .autonotebook import tqdm as notebook_tqdm\n"
     ]
    }
   ],
   "source": [
    "import hopsworks\n",
    "import pandas as pd\n",
    "#from sklearn.neighbors import KNeighborsClassifier\n",
    "from sklearn.metrics import r2_score\n",
    "from sklearn.metrics import mean_absolute_error\n",
    "from sklearn.metrics import mean_squared_error\n",
    "from sklearn.linear_model import LinearRegression\n",
    "import numpy as np\n",
    "import seaborn as sns\n",
    "from matplotlib import pyplot\n",
    "from hsml.schema import Schema\n",
    "from hsml.model_schema import ModelSchema\n",
    "import joblib\n",
    "import os\n",
    "from sklearn.ensemble import RandomForestRegressor\n",
    "\n",
    "import torch\n",
    "import torch.nn as nn\n",
    "import torch.optim as optim\n",
    "from torch.utils.data import DataLoader, TensorDataset\n",
    "from sklearn.preprocessing import StandardScaler\n",
    "from sklearn.model_selection import train_test_split\n"
   ]
  },
  {
   "cell_type": "code",
   "execution_count": 2,
   "metadata": {},
   "outputs": [
    {
     "name": "stdout",
     "output_type": "stream",
     "text": [
      "Connected. Call `.close()` to terminate connection gracefully.\n",
      "\n",
      "Logged in to project, explore it here https://c.app.hopsworks.ai:443/p/197786\n",
      "Connected. Call `.close()` to terminate connection gracefully.\n"
     ]
    }
   ],
   "source": [
    "# You have to set the environment variable 'HOPSWORKS_API_KEY' for login to succeed\n",
    "project = hopsworks.login()\n",
    "fs = project.get_feature_store()"
   ]
  },
  {
   "cell_type": "markdown",
   "metadata": {},
   "source": [
    "#### Get or Create a new feature view"
   ]
  },
  {
   "cell_type": "code",
   "execution_count": 3,
   "metadata": {},
   "outputs": [],
   "source": [
    "# The feature view is the input set of features for your model. The features can come from different feature groups.    \n",
    "# You can select features from different feature groups and join them together to create a feature view\n",
    "flight_fg = fs.get_feature_group(name=\"flight_data_v3\", version=1)\n",
    "query = flight_fg.select_all()\n",
    "feature_view = fs.get_or_create_feature_view(name=\"flight_data_v3\",\n",
    "                                  version=1,\n",
    "                                  description=\"Read from Flight Delay dataset\",\n",
    "                                  labels=[\"dep_delay_new\"],\n",
    "                                  query=query)"
   ]
  },
  {
   "cell_type": "markdown",
   "metadata": {},
   "source": [
    "#### Create a new train test split"
   ]
  },
  {
   "cell_type": "code",
   "execution_count": 4,
   "metadata": {},
   "outputs": [
    {
     "name": "stdout",
     "output_type": "stream",
     "text": [
      "Finished: Reading data from Hopsworks, using ArrowFlight (102.18s) \n"
     ]
    },
    {
     "name": "stderr",
     "output_type": "stream",
     "text": [
      "VersionWarning: Incremented version to `4`.\n"
     ]
    }
   ],
   "source": [
    "# You can read training data, randomly split into train/test sets of features (X) and labels (y)        \n",
    "X_train, X_test, y_train, y_test = feature_view.train_test_split(test_size=0.2)"
   ]
  },
  {
   "cell_type": "markdown",
   "metadata": {},
   "source": [
    "#### Read from existing train test split"
   ]
  },
  {
   "cell_type": "code",
   "execution_count": 5,
   "metadata": {},
   "outputs": [
    {
     "name": "stdout",
     "output_type": "stream",
     "text": [
      "Finished: Reading data from Hopsworks, using ArrowFlight (34.50s) \n"
     ]
    }
   ],
   "source": [
    "#flight_fg = fs.get_feature_group(name=\"flight_data\", version=1)\n",
    "#query = flight_fg.select_all()\n",
    "feature_view = fs.get_feature_view(name=\"flight_data_v3\",version=1)\n",
    "# get a training dataset with train and test splits\n",
    "X_train, X_test, y_train, y_test = feature_view.get_train_test_split(training_dataset_version=1)"
   ]
  },
  {
   "cell_type": "code",
   "execution_count": 6,
   "metadata": {},
   "outputs": [
    {
     "data": {
      "text/html": [
       "<div>\n",
       "<style scoped>\n",
       "    .dataframe tbody tr th:only-of-type {\n",
       "        vertical-align: middle;\n",
       "    }\n",
       "\n",
       "    .dataframe tbody tr th {\n",
       "        vertical-align: top;\n",
       "    }\n",
       "\n",
       "    .dataframe thead th {\n",
       "        text-align: right;\n",
       "    }\n",
       "</style>\n",
       "<table border=\"1\" class=\"dataframe\">\n",
       "  <thead>\n",
       "    <tr style=\"text-align: right;\">\n",
       "      <th></th>\n",
       "      <th>month</th>\n",
       "      <th>day_of_month</th>\n",
       "      <th>day_of_week</th>\n",
       "      <th>origin_airport_id</th>\n",
       "      <th>origin_wac</th>\n",
       "      <th>dest_airport_id</th>\n",
       "      <th>dest_wac</th>\n",
       "      <th>crs_dep_time</th>\n",
       "      <th>crs_arr_time</th>\n",
       "      <th>hourlydewpointtemperature</th>\n",
       "      <th>hourlydrybulbtemperature</th>\n",
       "      <th>hourlyprecipitation</th>\n",
       "      <th>hourlyrelativehumidity</th>\n",
       "      <th>hourlystationpressure</th>\n",
       "      <th>hourlyvisibility</th>\n",
       "      <th>hourlywinddirection</th>\n",
       "      <th>hourlywindgustspeed</th>\n",
       "      <th>hourlywindspeed</th>\n",
       "    </tr>\n",
       "  </thead>\n",
       "  <tbody>\n",
       "    <tr>\n",
       "      <th>5</th>\n",
       "      <td>5</td>\n",
       "      <td>19</td>\n",
       "      <td>4</td>\n",
       "      <td>16</td>\n",
       "      <td>91</td>\n",
       "      <td>10</td>\n",
       "      <td>91</td>\n",
       "      <td>600</td>\n",
       "      <td>733</td>\n",
       "      <td>8.9</td>\n",
       "      <td>14.4</td>\n",
       "      <td>0.00</td>\n",
       "      <td>70.0</td>\n",
       "      <td>1015.58</td>\n",
       "      <td>16.09</td>\n",
       "      <td>300</td>\n",
       "      <td>0.0</td>\n",
       "      <td>7.0</td>\n",
       "    </tr>\n",
       "    <tr>\n",
       "      <th>6</th>\n",
       "      <td>5</td>\n",
       "      <td>13</td>\n",
       "      <td>5</td>\n",
       "      <td>4</td>\n",
       "      <td>21</td>\n",
       "      <td>0</td>\n",
       "      <td>34</td>\n",
       "      <td>1444</td>\n",
       "      <td>1707</td>\n",
       "      <td>16.7</td>\n",
       "      <td>20.0</td>\n",
       "      <td>0.07</td>\n",
       "      <td>81.0</td>\n",
       "      <td>1022.01</td>\n",
       "      <td>16.09</td>\n",
       "      <td>160</td>\n",
       "      <td>0.0</td>\n",
       "      <td>3.0</td>\n",
       "    </tr>\n",
       "    <tr>\n",
       "      <th>8</th>\n",
       "      <td>6</td>\n",
       "      <td>14</td>\n",
       "      <td>1</td>\n",
       "      <td>7</td>\n",
       "      <td>74</td>\n",
       "      <td>9</td>\n",
       "      <td>85</td>\n",
       "      <td>1529</td>\n",
       "      <td>1646</td>\n",
       "      <td>21.7</td>\n",
       "      <td>36.1</td>\n",
       "      <td>0.00</td>\n",
       "      <td>43.0</td>\n",
       "      <td>1008.47</td>\n",
       "      <td>16.09</td>\n",
       "      <td>70</td>\n",
       "      <td>0.0</td>\n",
       "      <td>4.0</td>\n",
       "    </tr>\n",
       "    <tr>\n",
       "      <th>12</th>\n",
       "      <td>10</td>\n",
       "      <td>20</td>\n",
       "      <td>3</td>\n",
       "      <td>13</td>\n",
       "      <td>41</td>\n",
       "      <td>14</td>\n",
       "      <td>23</td>\n",
       "      <td>1141</td>\n",
       "      <td>1435</td>\n",
       "      <td>10.6</td>\n",
       "      <td>20.0</td>\n",
       "      <td>0.00</td>\n",
       "      <td>55.0</td>\n",
       "      <td>991.20</td>\n",
       "      <td>16.09</td>\n",
       "      <td>180</td>\n",
       "      <td>0.0</td>\n",
       "      <td>4.0</td>\n",
       "    </tr>\n",
       "    <tr>\n",
       "      <th>13</th>\n",
       "      <td>4</td>\n",
       "      <td>5</td>\n",
       "      <td>2</td>\n",
       "      <td>16</td>\n",
       "      <td>91</td>\n",
       "      <td>15</td>\n",
       "      <td>93</td>\n",
       "      <td>1645</td>\n",
       "      <td>1902</td>\n",
       "      <td>5.6</td>\n",
       "      <td>16.7</td>\n",
       "      <td>0.00</td>\n",
       "      <td>48.0</td>\n",
       "      <td>1016.93</td>\n",
       "      <td>16.00</td>\n",
       "      <td>280</td>\n",
       "      <td>0.0</td>\n",
       "      <td>10.0</td>\n",
       "    </tr>\n",
       "    <tr>\n",
       "      <th>...</th>\n",
       "      <td>...</td>\n",
       "      <td>...</td>\n",
       "      <td>...</td>\n",
       "      <td>...</td>\n",
       "      <td>...</td>\n",
       "      <td>...</td>\n",
       "      <td>...</td>\n",
       "      <td>...</td>\n",
       "      <td>...</td>\n",
       "      <td>...</td>\n",
       "      <td>...</td>\n",
       "      <td>...</td>\n",
       "      <td>...</td>\n",
       "      <td>...</td>\n",
       "      <td>...</td>\n",
       "      <td>...</td>\n",
       "      <td>...</td>\n",
       "      <td>...</td>\n",
       "    </tr>\n",
       "    <tr>\n",
       "      <th>1597375</th>\n",
       "      <td>8</td>\n",
       "      <td>28</td>\n",
       "      <td>6</td>\n",
       "      <td>13</td>\n",
       "      <td>41</td>\n",
       "      <td>9</td>\n",
       "      <td>85</td>\n",
       "      <td>900</td>\n",
       "      <td>1053</td>\n",
       "      <td>22.8</td>\n",
       "      <td>28.9</td>\n",
       "      <td>0.00</td>\n",
       "      <td>70.0</td>\n",
       "      <td>993.91</td>\n",
       "      <td>16.09</td>\n",
       "      <td>220</td>\n",
       "      <td>0.0</td>\n",
       "      <td>4.0</td>\n",
       "    </tr>\n",
       "    <tr>\n",
       "      <th>1597377</th>\n",
       "      <td>6</td>\n",
       "      <td>11</td>\n",
       "      <td>6</td>\n",
       "      <td>0</td>\n",
       "      <td>34</td>\n",
       "      <td>7</td>\n",
       "      <td>74</td>\n",
       "      <td>1724</td>\n",
       "      <td>1838</td>\n",
       "      <td>17.8</td>\n",
       "      <td>30.6</td>\n",
       "      <td>0.00</td>\n",
       "      <td>46.0</td>\n",
       "      <td>974.26</td>\n",
       "      <td>16.09</td>\n",
       "      <td>210</td>\n",
       "      <td>0.0</td>\n",
       "      <td>2.0</td>\n",
       "    </tr>\n",
       "    <tr>\n",
       "      <th>1597379</th>\n",
       "      <td>12</td>\n",
       "      <td>3</td>\n",
       "      <td>6</td>\n",
       "      <td>12</td>\n",
       "      <td>33</td>\n",
       "      <td>0</td>\n",
       "      <td>34</td>\n",
       "      <td>800</td>\n",
       "      <td>1001</td>\n",
       "      <td>17.8</td>\n",
       "      <td>26.7</td>\n",
       "      <td>0.00</td>\n",
       "      <td>58.0</td>\n",
       "      <td>1024.38</td>\n",
       "      <td>16.09</td>\n",
       "      <td>70</td>\n",
       "      <td>10.0</td>\n",
       "      <td>7.0</td>\n",
       "    </tr>\n",
       "    <tr>\n",
       "      <th>1597380</th>\n",
       "      <td>11</td>\n",
       "      <td>20</td>\n",
       "      <td>7</td>\n",
       "      <td>11</td>\n",
       "      <td>33</td>\n",
       "      <td>10</td>\n",
       "      <td>91</td>\n",
       "      <td>700</td>\n",
       "      <td>932</td>\n",
       "      <td>7.8</td>\n",
       "      <td>15.0</td>\n",
       "      <td>0.00</td>\n",
       "      <td>62.0</td>\n",
       "      <td>1019.64</td>\n",
       "      <td>16.00</td>\n",
       "      <td>10</td>\n",
       "      <td>0.0</td>\n",
       "      <td>6.0</td>\n",
       "    </tr>\n",
       "    <tr>\n",
       "      <th>1597381</th>\n",
       "      <td>9</td>\n",
       "      <td>7</td>\n",
       "      <td>3</td>\n",
       "      <td>8</td>\n",
       "      <td>22</td>\n",
       "      <td>16</td>\n",
       "      <td>91</td>\n",
       "      <td>745</td>\n",
       "      <td>1110</td>\n",
       "      <td>17.8</td>\n",
       "      <td>19.4</td>\n",
       "      <td>0.00</td>\n",
       "      <td>91.0</td>\n",
       "      <td>1014.90</td>\n",
       "      <td>16.00</td>\n",
       "      <td>50</td>\n",
       "      <td>0.0</td>\n",
       "      <td>5.0</td>\n",
       "    </tr>\n",
       "  </tbody>\n",
       "</table>\n",
       "<p>1277905 rows × 18 columns</p>\n",
       "</div>"
      ],
      "text/plain": [
       "         month  day_of_month  day_of_week  origin_airport_id  origin_wac  \\\n",
       "5            5            19            4                 16          91   \n",
       "6            5            13            5                  4          21   \n",
       "8            6            14            1                  7          74   \n",
       "12          10            20            3                 13          41   \n",
       "13           4             5            2                 16          91   \n",
       "...        ...           ...          ...                ...         ...   \n",
       "1597375      8            28            6                 13          41   \n",
       "1597377      6            11            6                  0          34   \n",
       "1597379     12             3            6                 12          33   \n",
       "1597380     11            20            7                 11          33   \n",
       "1597381      9             7            3                  8          22   \n",
       "\n",
       "         dest_airport_id  dest_wac  crs_dep_time  crs_arr_time  \\\n",
       "5                     10        91           600           733   \n",
       "6                      0        34          1444          1707   \n",
       "8                      9        85          1529          1646   \n",
       "12                    14        23          1141          1435   \n",
       "13                    15        93          1645          1902   \n",
       "...                  ...       ...           ...           ...   \n",
       "1597375                9        85           900          1053   \n",
       "1597377                7        74          1724          1838   \n",
       "1597379                0        34           800          1001   \n",
       "1597380               10        91           700           932   \n",
       "1597381               16        91           745          1110   \n",
       "\n",
       "         hourlydewpointtemperature  hourlydrybulbtemperature  \\\n",
       "5                              8.9                      14.4   \n",
       "6                             16.7                      20.0   \n",
       "8                             21.7                      36.1   \n",
       "12                            10.6                      20.0   \n",
       "13                             5.6                      16.7   \n",
       "...                            ...                       ...   \n",
       "1597375                       22.8                      28.9   \n",
       "1597377                       17.8                      30.6   \n",
       "1597379                       17.8                      26.7   \n",
       "1597380                        7.8                      15.0   \n",
       "1597381                       17.8                      19.4   \n",
       "\n",
       "         hourlyprecipitation  hourlyrelativehumidity  hourlystationpressure  \\\n",
       "5                       0.00                    70.0                1015.58   \n",
       "6                       0.07                    81.0                1022.01   \n",
       "8                       0.00                    43.0                1008.47   \n",
       "12                      0.00                    55.0                 991.20   \n",
       "13                      0.00                    48.0                1016.93   \n",
       "...                      ...                     ...                    ...   \n",
       "1597375                 0.00                    70.0                 993.91   \n",
       "1597377                 0.00                    46.0                 974.26   \n",
       "1597379                 0.00                    58.0                1024.38   \n",
       "1597380                 0.00                    62.0                1019.64   \n",
       "1597381                 0.00                    91.0                1014.90   \n",
       "\n",
       "         hourlyvisibility  hourlywinddirection  hourlywindgustspeed  \\\n",
       "5                   16.09                  300                  0.0   \n",
       "6                   16.09                  160                  0.0   \n",
       "8                   16.09                   70                  0.0   \n",
       "12                  16.09                  180                  0.0   \n",
       "13                  16.00                  280                  0.0   \n",
       "...                   ...                  ...                  ...   \n",
       "1597375             16.09                  220                  0.0   \n",
       "1597377             16.09                  210                  0.0   \n",
       "1597379             16.09                   70                 10.0   \n",
       "1597380             16.00                   10                  0.0   \n",
       "1597381             16.00                   50                  0.0   \n",
       "\n",
       "         hourlywindspeed  \n",
       "5                    7.0  \n",
       "6                    3.0  \n",
       "8                    4.0  \n",
       "12                   4.0  \n",
       "13                  10.0  \n",
       "...                  ...  \n",
       "1597375              4.0  \n",
       "1597377              2.0  \n",
       "1597379              7.0  \n",
       "1597380              6.0  \n",
       "1597381              5.0  \n",
       "\n",
       "[1277905 rows x 18 columns]"
      ]
     },
     "execution_count": 6,
     "metadata": {},
     "output_type": "execute_result"
    }
   ],
   "source": [
    "X_train"
   ]
  },
  {
   "cell_type": "code",
   "execution_count": 7,
   "metadata": {},
   "outputs": [
    {
     "name": "stdout",
     "output_type": "stream",
     "text": [
      "<class 'pandas.core.frame.DataFrame'>\n",
      "Index: 1277905 entries, 5 to 1597381\n",
      "Data columns (total 18 columns):\n",
      " #   Column                     Non-Null Count    Dtype  \n",
      "---  ------                     --------------    -----  \n",
      " 0   month                      1277905 non-null  int64  \n",
      " 1   day_of_month               1277905 non-null  int64  \n",
      " 2   day_of_week                1277905 non-null  int64  \n",
      " 3   origin_airport_id          1277905 non-null  int64  \n",
      " 4   origin_wac                 1277905 non-null  int64  \n",
      " 5   dest_airport_id            1277905 non-null  int64  \n",
      " 6   dest_wac                   1277905 non-null  int64  \n",
      " 7   crs_dep_time               1277905 non-null  int64  \n",
      " 8   crs_arr_time               1277905 non-null  int64  \n",
      " 9   hourlydewpointtemperature  1277905 non-null  float64\n",
      " 10  hourlydrybulbtemperature   1277905 non-null  float64\n",
      " 11  hourlyprecipitation        1277905 non-null  float64\n",
      " 12  hourlyrelativehumidity     1277905 non-null  float64\n",
      " 13  hourlystationpressure      1277905 non-null  float64\n",
      " 14  hourlyvisibility           1277905 non-null  float64\n",
      " 15  hourlywinddirection        1277905 non-null  int64  \n",
      " 16  hourlywindgustspeed        1277905 non-null  float64\n",
      " 17  hourlywindspeed            1277905 non-null  float64\n",
      "dtypes: float64(8), int64(10)\n",
      "memory usage: 185.2 MB\n"
     ]
    }
   ],
   "source": [
    "X_train.info()"
   ]
  },
  {
   "cell_type": "code",
   "execution_count": 8,
   "metadata": {},
   "outputs": [
    {
     "data": {
      "text/html": [
       "<div>\n",
       "<style scoped>\n",
       "    .dataframe tbody tr th:only-of-type {\n",
       "        vertical-align: middle;\n",
       "    }\n",
       "\n",
       "    .dataframe tbody tr th {\n",
       "        vertical-align: top;\n",
       "    }\n",
       "\n",
       "    .dataframe thead th {\n",
       "        text-align: right;\n",
       "    }\n",
       "</style>\n",
       "<table border=\"1\" class=\"dataframe\">\n",
       "  <thead>\n",
       "    <tr style=\"text-align: right;\">\n",
       "      <th></th>\n",
       "      <th>dep_delay_new</th>\n",
       "    </tr>\n",
       "  </thead>\n",
       "  <tbody>\n",
       "    <tr>\n",
       "      <th>5</th>\n",
       "      <td>0.0</td>\n",
       "    </tr>\n",
       "    <tr>\n",
       "      <th>6</th>\n",
       "      <td>3.0</td>\n",
       "    </tr>\n",
       "    <tr>\n",
       "      <th>8</th>\n",
       "      <td>0.0</td>\n",
       "    </tr>\n",
       "    <tr>\n",
       "      <th>12</th>\n",
       "      <td>0.0</td>\n",
       "    </tr>\n",
       "    <tr>\n",
       "      <th>13</th>\n",
       "      <td>15.0</td>\n",
       "    </tr>\n",
       "    <tr>\n",
       "      <th>...</th>\n",
       "      <td>...</td>\n",
       "    </tr>\n",
       "    <tr>\n",
       "      <th>1597375</th>\n",
       "      <td>0.0</td>\n",
       "    </tr>\n",
       "    <tr>\n",
       "      <th>1597377</th>\n",
       "      <td>0.0</td>\n",
       "    </tr>\n",
       "    <tr>\n",
       "      <th>1597379</th>\n",
       "      <td>0.0</td>\n",
       "    </tr>\n",
       "    <tr>\n",
       "      <th>1597380</th>\n",
       "      <td>0.0</td>\n",
       "    </tr>\n",
       "    <tr>\n",
       "      <th>1597381</th>\n",
       "      <td>0.0</td>\n",
       "    </tr>\n",
       "  </tbody>\n",
       "</table>\n",
       "<p>1277905 rows × 1 columns</p>\n",
       "</div>"
      ],
      "text/plain": [
       "         dep_delay_new\n",
       "5                  0.0\n",
       "6                  3.0\n",
       "8                  0.0\n",
       "12                 0.0\n",
       "13                15.0\n",
       "...                ...\n",
       "1597375            0.0\n",
       "1597377            0.0\n",
       "1597379            0.0\n",
       "1597380            0.0\n",
       "1597381            0.0\n",
       "\n",
       "[1277905 rows x 1 columns]"
      ]
     },
     "execution_count": 8,
     "metadata": {},
     "output_type": "execute_result"
    }
   ],
   "source": [
    "y_train"
   ]
  },
  {
   "cell_type": "code",
   "execution_count": 9,
   "metadata": {},
   "outputs": [
    {
     "data": {
      "text/plain": [
       "array([0., 3., 0., ..., 0., 0., 0.])"
      ]
     },
     "execution_count": 9,
     "metadata": {},
     "output_type": "execute_result"
    }
   ],
   "source": [
    "y_train.values.ravel()"
   ]
  },
  {
   "cell_type": "markdown",
   "metadata": {},
   "source": [
    "#### Random Forest Regressor Model"
   ]
  },
  {
   "cell_type": "code",
   "execution_count": 10,
   "metadata": {},
   "outputs": [
    {
     "name": "stderr",
     "output_type": "stream",
     "text": [
      "DataConversionWarning: A column-vector y was passed when a 1d array was expected. Please change the shape of y to (n_samples,), for example using ravel().\n"
     ]
    },
    {
     "name": "stdout",
     "output_type": "stream",
     "text": [
      "RMSE: 48.709187931086795\n",
      "MAE: 20.532364744325477\n",
      "R-squared: 0.04508392314535847\n",
      "Mean Squared Error (MSE): 2372.5849889059314\n"
     ]
    }
   ],
   "source": [
    "# Initialize the Random Forest classifier\n",
    "model_RF = RandomForestRegressor(max_depth=10,random_state=1)  # You can adjust parameters here\n",
    "\n",
    "# Train the classifier\n",
    "model_RF.fit(X_train, y_train)\n",
    "# Predict labels for the test set\n",
    "y_pred = model_RF.predict(X_test)\n",
    "\n",
    "mse = mean_squared_error(y_test, y_pred)\n",
    "# Calculate RMSE\n",
    "rmse = np.sqrt(mse)\n",
    "\n",
    "# Calculate MAE\n",
    "mae = mean_absolute_error(y_test, y_pred)\n",
    "\n",
    "# Calculate R-squared\n",
    "r2 = r2_score(y_test, y_pred)\n",
    "\n",
    "print(f\"RMSE: {rmse}\")\n",
    "print(f\"MAE: {mae}\")\n",
    "print(f\"R-squared: {r2}\")\n",
    "print(f\"Mean Squared Error (MSE): {mse}\")"
   ]
  },
  {
   "cell_type": "code",
   "execution_count": 11,
   "metadata": {},
   "outputs": [],
   "source": [
    "y_train_np=y_train.values.ravel()\n",
    "X_train_np=X_train.values\n",
    "X_test_np = X_test.values\n",
    "y_test_np=y_test.values.ravel()"
   ]
  },
  {
   "cell_type": "code",
   "execution_count": 12,
   "metadata": {},
   "outputs": [
    {
     "name": "stdout",
     "output_type": "stream",
     "text": [
      "RMSE: 48.709187931086795\n",
      "MAE: 20.532364744325477\n",
      "R-squared: 0.04508392314535847\n",
      "Mean Squared Error (MSE): 2372.5849889059314\n"
     ]
    }
   ],
   "source": [
    "# Initialize the Random Forest classifier\n",
    "model_RF_np = RandomForestRegressor(max_depth=10,random_state=1)  # You can adjust parameters here\n",
    "\n",
    "# Train the classifier\n",
    "model_RF_np.fit(X_train_np, y_train_np)\n",
    "# Predict labels for the test set\n",
    "y_pred_np = model_RF_np.predict(X_test_np)\n",
    "\n",
    "mse = mean_squared_error(y_test_np, y_pred_np)\n",
    "# Calculate RMSE\n",
    "rmse = np.sqrt(mse)\n",
    "\n",
    "# Calculate MAE\n",
    "mae = mean_absolute_error(y_test_np, y_pred_np)\n",
    "\n",
    "# Calculate R-squared\n",
    "r2 = r2_score(y_test_np, y_pred_np)\n",
    "\n",
    "print(f\"RMSE: {rmse}\")\n",
    "print(f\"MAE: {mae}\")\n",
    "print(f\"R-squared: {r2}\")\n",
    "print(f\"Mean Squared Error (MSE): {mse}\")"
   ]
  },
  {
   "cell_type": "markdown",
   "metadata": {},
   "source": [
    "#### Linear Regression"
   ]
  },
  {
   "cell_type": "code",
   "execution_count": 13,
   "metadata": {},
   "outputs": [
    {
     "name": "stdout",
     "output_type": "stream",
     "text": [
      "RMSE: 49.3797988511361\n",
      "MAE: 21.26723084662274\n",
      "R-squared: 0.01860902509753326\n",
      "Mean Squared Error (MSE): 2438.364534578662\n"
     ]
    }
   ],
   "source": [
    "# Initialize the Linear Regression model\n",
    "model_lin_reg = LinearRegression()\n",
    "\n",
    "# Fit the model on the training data\n",
    "model_lin_reg.fit(X_train, y_train)\n",
    "\n",
    "# Make predictions on the test set\n",
    "y_pred = model_lin_reg.predict(X_test)\n",
    "\n",
    "# Calculate the Mean Squared Error (MSE) on test set\n",
    "\n",
    "mse = mean_squared_error(y_test, y_pred)\n",
    "# Calculate RMSE\n",
    "rmse = np.sqrt(mse)\n",
    "\n",
    "# Calculate MAE\n",
    "mae = mean_absolute_error(y_test, y_pred)\n",
    "\n",
    "# Calculate R-squared\n",
    "r2 = r2_score(y_test, y_pred)\n",
    "\n",
    "print(f\"RMSE: {rmse}\")\n",
    "print(f\"MAE: {mae}\")\n",
    "print(f\"R-squared: {r2}\")\n",
    "print(f\"Mean Squared Error (MSE): {mse}\")"
   ]
  },
  {
   "cell_type": "markdown",
   "metadata": {},
   "source": [
    "#### Neural Network"
   ]
  },
  {
   "cell_type": "code",
   "execution_count": 14,
   "metadata": {},
   "outputs": [],
   "source": [
    "# Convert data to PyTorch tensors\n",
    "X_train_tensor = torch.tensor(X_train.values, dtype=torch.float32)\n",
    "X_test_tensor = torch.tensor(X_test.values, dtype=torch.float32)\n",
    "y_train_tensor = torch.tensor(y_train.values, dtype=torch.float32)\n",
    "y_test_tensor = torch.tensor(y_test.values, dtype=torch.float32)"
   ]
  },
  {
   "cell_type": "code",
   "execution_count": 15,
   "metadata": {},
   "outputs": [],
   "source": [
    "# Normalize features (optional but often recommended for neural networks)\n",
    "# outputs np arrays\n",
    "scaler = StandardScaler()\n",
    "X_train_scaled = scaler.fit_transform(X_train_tensor)\n",
    "X_test_scaled = scaler.transform(X_test_tensor)"
   ]
  },
  {
   "cell_type": "code",
   "execution_count": 16,
   "metadata": {},
   "outputs": [],
   "source": [
    "# Convert the scaled NumPy arrays back to PyTorch tensors\n",
    "X_train_tensor = torch.tensor(X_train_scaled, dtype=torch.float32)\n",
    "X_test_tensor = torch.tensor(X_test_scaled, dtype=torch.float32)"
   ]
  },
  {
   "cell_type": "code",
   "execution_count": 17,
   "metadata": {},
   "outputs": [],
   "source": [
    "# Convert to PyTorch Dataset\n",
    "train_dataset = TensorDataset(X_train_tensor, y_train_tensor)\n",
    "val_dataset = TensorDataset(X_test_tensor, y_test_tensor)"
   ]
  },
  {
   "cell_type": "code",
   "execution_count": 18,
   "metadata": {},
   "outputs": [],
   "source": [
    "class NeuralNetwork(nn.Module):\n",
    "    def __init__(self, input_size):\n",
    "        super(NeuralNetwork, self).__init__()\n",
    "        self.fc1 = nn.Linear(input_size, 128)\n",
    "        self.relu = nn.ReLU()\n",
    "        self.dropout = nn.Dropout(0.2)\n",
    "        self.fc2 = nn.Linear(128, 64)\n",
    "        self.output = nn.Linear(64, 1)\n",
    "\n",
    "    def forward(self, x):\n",
    "        x = self.fc1(x)\n",
    "        x = self.relu(x)\n",
    "        x = self.dropout(x)\n",
    "        x = self.fc2(x)\n",
    "        x = self.relu(x)\n",
    "        x = self.output(x)\n",
    "        return x"
   ]
  },
  {
   "cell_type": "code",
   "execution_count": 19,
   "metadata": {},
   "outputs": [
    {
     "name": "stdout",
     "output_type": "stream",
     "text": [
      "Epoch 1/25, Train Loss MSE: 2436.0096353200615, Train Loss RMSE: 49.3559455871582, Val Loss MSE: 2401.695124341127, Val RMSE: 49.0070915222168\n",
      "Epoch 2/25, Train Loss MSE: 2420.243494720478, Train Loss RMSE: 49.19596862792969, Val Loss MSE: 2390.8402726405707, Val RMSE: 48.89622116088867\n",
      "Epoch 3/25, Train Loss MSE: 2413.670301604495, Train Loss RMSE: 49.129119873046875, Val Loss MSE: 2391.7753815735, Val RMSE: 48.90578079223633\n",
      "Epoch 4/25, Train Loss MSE: 2409.703164114044, Train Loss RMSE: 49.08872604370117, Val Loss MSE: 2388.125718478973, Val RMSE: 48.86845397949219\n",
      "Epoch 5/25, Train Loss MSE: 2405.956850065492, Train Loss RMSE: 49.05055236816406, Val Loss MSE: 2381.561928323446, Val RMSE: 48.80125045776367\n",
      "Epoch 6/25, Train Loss MSE: 2403.989859775454, Train Loss RMSE: 49.03049850463867, Val Loss MSE: 2378.9665459432663, Val RMSE: 48.77465057373047\n",
      "Epoch 7/25, Train Loss MSE: 2402.566209946548, Train Loss RMSE: 49.0159797668457, Val Loss MSE: 2376.9631312848664, Val RMSE: 48.75410842895508\n",
      "Epoch 8/25, Train Loss MSE: 2400.5200744418757, Train Loss RMSE: 48.99510192871094, Val Loss MSE: 2375.5145716201037, Val RMSE: 48.73925018310547\n",
      "Epoch 9/25, Train Loss MSE: 2399.2949467794756, Train Loss RMSE: 48.98259735107422, Val Loss MSE: 2379.329460911262, Val RMSE: 48.77836990356445\n",
      "Epoch 10/25, Train Loss MSE: 2397.8071560623857, Train Loss RMSE: 48.9674072265625, Val Loss MSE: 2373.751459418199, Val RMSE: 48.721160888671875\n",
      "Epoch 11/25, Train Loss MSE: 2397.565374523548, Train Loss RMSE: 48.96493911743164, Val Loss MSE: 2372.3683461241235, Val RMSE: 48.706966400146484\n",
      "Epoch 12/25, Train Loss MSE: 2396.6204621012794, Train Loss RMSE: 48.95528793334961, Val Loss MSE: 2371.700423973493, Val RMSE: 48.70010757446289\n",
      "Epoch 13/25, Train Loss MSE: 2396.5379883586234, Train Loss RMSE: 48.95444869995117, Val Loss MSE: 2371.485318173965, Val RMSE: 48.697898864746094\n",
      "Epoch 14/25, Train Loss MSE: 2394.9462058231024, Train Loss RMSE: 48.93818664550781, Val Loss MSE: 2371.1899803724045, Val RMSE: 48.69486618041992\n",
      "Epoch 15/25, Train Loss MSE: 2394.964228700633, Train Loss RMSE: 48.93836975097656, Val Loss MSE: 2370.094613842475, Val RMSE: 48.68362045288086\n",
      "Epoch 16/25, Train Loss MSE: 2394.0752490493433, Train Loss RMSE: 48.92928695678711, Val Loss MSE: 2369.848976914699, Val RMSE: 48.681095123291016\n",
      "Epoch 17/25, Train Loss MSE: 2393.410895278986, Train Loss RMSE: 48.92250061035156, Val Loss MSE: 2371.0753659583056, Val RMSE: 48.69369125366211\n",
      "Epoch 18/25, Train Loss MSE: 2391.8441338763246, Train Loss RMSE: 48.9064826965332, Val Loss MSE: 2368.6366790502498, Val RMSE: 48.66864013671875\n",
      "Epoch 19/25, Train Loss MSE: 2391.712187118311, Train Loss RMSE: 48.90513229370117, Val Loss MSE: 2370.367958945342, Val RMSE: 48.686424255371094\n",
      "Epoch 20/25, Train Loss MSE: 2392.3603446495254, Train Loss RMSE: 48.91176223754883, Val Loss MSE: 2368.669866120968, Val RMSE: 48.668983459472656\n",
      "Epoch 21/25, Train Loss MSE: 2390.8596875102016, Train Loss RMSE: 48.89641571044922, Val Loss MSE: 2369.8304511751885, Val RMSE: 48.680904388427734\n",
      "Epoch 22/25, Train Loss MSE: 2390.9673201066526, Train Loss RMSE: 48.897518157958984, Val Loss MSE: 2364.766970307399, Val RMSE: 48.62887191772461\n",
      "Epoch 23/25, Train Loss MSE: 2390.418673889076, Train Loss RMSE: 48.89190673828125, Val Loss MSE: 2368.232000425076, Val RMSE: 48.66448211669922\n",
      "Epoch 24/25, Train Loss MSE: 2390.5230318458475, Train Loss RMSE: 48.892974853515625, Val Loss MSE: 2367.5882139351124, Val RMSE: 48.657867431640625\n",
      "Epoch 25/25, Train Loss MSE: 2389.816586932823, Train Loss RMSE: 48.88574981689453, Val Loss MSE: 2367.199210056892, Val RMSE: 48.65386962890625\n"
     ]
    }
   ],
   "source": [
    "# Initialize the model\n",
    "input_size = X_train_tensor.shape[1]\n",
    "model = NeuralNetwork(input_size)\n",
    "\n",
    "# Define loss function and optimizer\n",
    "criterion = nn.MSELoss()\n",
    "optimizer = optim.Adam(model.parameters(), lr=0.001)\n",
    "\n",
    "# Define data loaders\n",
    "train_loader = DataLoader(train_dataset, batch_size=32, shuffle=True)\n",
    "val_loader = DataLoader(val_dataset, batch_size=32)\n",
    "\n",
    "# Train the model\n",
    "num_epochs = 25\n",
    "for epoch in range(num_epochs):\n",
    "    model.train()\n",
    "    running_loss = 0.0\n",
    "    for inputs, targets in train_loader:\n",
    "        optimizer.zero_grad()\n",
    "        outputs = model(inputs)\n",
    "        loss = criterion(outputs, targets)\n",
    "        loss.backward()\n",
    "        optimizer.step()\n",
    "        running_loss += loss.item()\n",
    "    \n",
    "    #convert to rmse\n",
    "    train_loss = running_loss / len(train_loader)\n",
    "    train_rmse = torch.sqrt(torch.tensor(train_loss))\n",
    "    \n",
    "    # Calculate validation loss\n",
    "    model.eval()\n",
    "    val_loss = 0.0\n",
    "    with torch.no_grad():\n",
    "        for inputs, targets in val_loader:\n",
    "            outputs = model(inputs)\n",
    "            val_loss += criterion(outputs, targets).item()\n",
    "        val_loss /= len(val_loader)\n",
    "\n",
    "    val_rmse = torch.sqrt(torch.tensor(val_loss))\n",
    "\n",
    "    print(f\"Epoch {epoch+1}/{num_epochs}, Train Loss MSE: {train_loss}, Train Loss RMSE: {train_rmse}, Val Loss MSE: {val_loss}, Val RMSE: {val_rmse}\")"
   ]
  },
  {
   "cell_type": "markdown",
   "metadata": {},
   "source": [
    "#### Save to Hopsworks Model Registry "
   ]
  },
  {
   "cell_type": "code",
   "execution_count": 25,
   "metadata": {},
   "outputs": [
    {
     "name": "stdout",
     "output_type": "stream",
     "text": [
      "Connected. Call `.close()` to terminate connection gracefully.\n"
     ]
    },
    {
     "name": "stderr",
     "output_type": "stream",
     "text": [
      "Uploading: 100.000%|██████████| 46277/46277 elapsed<00:01 remaining<00:001,  2.92it/s]\n",
      "Model export complete: 100%|██████████| 6/6 [00:08<00:00,  1.34s/it]                   "
     ]
    },
    {
     "name": "stdout",
     "output_type": "stream",
     "text": [
      "Model created, explore it at https://c.app.hopsworks.ai:443/p/197786/models/flight_delay_model/2\n"
     ]
    },
    {
     "name": "stderr",
     "output_type": "stream",
     "text": [
      "\n"
     ]
    },
    {
     "data": {
      "text/plain": [
       "Model(name: 'flight_delay_model', version: 2)"
      ]
     },
     "execution_count": 25,
     "metadata": {},
     "output_type": "execute_result"
    }
   ],
   "source": [
    "# We will now upload our model to the Hopsworks Model Registry. First get an object for the model registry.\n",
    "mr = project.get_model_registry()\n",
    "\n",
    "# The contents of the 'iris_model' directory will be saved to the model registry. Create the dir, first.\n",
    "model_dir=\"flight delay model\"\n",
    "if os.path.isdir(model_dir) == False:\n",
    "    os.mkdir(model_dir)\n",
    "\n",
    "# Save both our model and the confusion matrix to 'model_dir', whose contents will be uploaded to the model registry\n",
    "joblib.dump(model, model_dir + \"/flight_delay_model.pkl\")\n",
    "#fig.savefig(model_dir + \"/confusion_matrix.png\")    \n",
    "\n",
    "# Specify the schema of the model's input/output using the features (X_train) and labels (y_train)\n",
    "#input_schema = Schema(X_train_tensor)\n",
    "#output_schema = Schema(y_train_tensor)\n",
    "#model_schema = ModelSchema(input_schema, output_schema)\n",
    "\n",
    "# Create an entry in the model registry that includes the model's name, desc, metrics\n",
    "fligt_delay_model = mr.python.create_model(\n",
    "    name=\"flight_delay_model\", \n",
    "    #metrics={\"accuracy\" : metrics['accuracy']},\n",
    "    metrics={\"val RMSE\" : val_rmse.item()},\n",
    "    #model_schema=model_schema,\n",
    "    description=\"Flight Delay Predictor no schema\"\n",
    ")\n",
    "\n",
    "# Upload the model to the model registry, including all files in 'model_dir'\n",
    "fligt_delay_model.save(model_dir + \"/flight_delay_model.pkl\")"
   ]
  },
  {
   "cell_type": "markdown",
   "metadata": {},
   "source": [
    "### Example showing how to load the NN model from Model Registry and how to use it for inference"
   ]
  },
  {
   "cell_type": "markdown",
   "metadata": {},
   "source": [
    "Class definition needed due to how python loads saved pytorch models. The class definition is used to load the pickle model. If the pytorch model was saved as a state dict it could also be loaded using state_dict without defining class definition"
   ]
  },
  {
   "cell_type": "code",
   "execution_count": 28,
   "metadata": {},
   "outputs": [
    {
     "name": "stdout",
     "output_type": "stream",
     "text": [
      "Connected. Call `.close()` to terminate connection gracefully.\n",
      "Downloading model artifact (0 dirs, 1 files)... DONE\r"
     ]
    }
   ],
   "source": [
    "class NeuralNetwork(nn.Module):\n",
    "    def __init__(self, input_size):\n",
    "        super(NeuralNetwork, self).__init__()\n",
    "        self.fc1 = nn.Linear(input_size, 128)\n",
    "        self.relu = nn.ReLU()\n",
    "        self.dropout = nn.Dropout(0.2)\n",
    "        self.fc2 = nn.Linear(128, 64)\n",
    "        self.output = nn.Linear(64, 1)\n",
    "\n",
    "    def forward(self, x):\n",
    "        x = self.fc1(x)\n",
    "        x = self.relu(x)\n",
    "        x = self.dropout(x)\n",
    "        x = self.fc2(x)\n",
    "        x = self.relu(x)\n",
    "        x = self.output(x)\n",
    "        return x\n",
    "\n",
    "mr = project.get_model_registry()\n",
    "model = mr.get_model(\"flight_delay_model\", version=2)\n",
    "model_dir = model.download()\n",
    "model = joblib.load(model_dir + \"/flight_delay_model.pkl\")\n"
   ]
  },
  {
   "cell_type": "code",
   "execution_count": 29,
   "metadata": {},
   "outputs": [
    {
     "name": "stdout",
     "output_type": "stream",
     "text": [
      "[[-0.52922551  0.36525144  0.0032831   1.5751317   1.34140484  0.43369134\n",
      "   1.35978058 -1.44706085 -1.37389841 -0.0266942  -0.40259642 -0.10026567\n",
      "   0.42778787  0.5549998   0.31664326  1.13461926 -0.35559528  1.17732389]]\n",
      "tensor([-0.5292,  0.3653,  0.0033,  1.5751,  1.3414,  0.4337,  1.3598, -1.4471,\n",
      "        -1.3739, -0.0267, -0.4026, -0.1003,  0.4278,  0.5550,  0.3166,  1.1346,\n",
      "        -0.3556,  1.1773])\n",
      "tensor([[-0.5292,  0.3653,  0.0033,  1.5751,  1.3414,  0.4337,  1.3598, -1.4471,\n",
      "         -1.3739, -0.0267, -0.4026, -0.1003,  0.4278,  0.5550,  0.3166,  1.1346,\n",
      "         -0.3556,  1.1773]])\n",
      "tensor([[3.6024]], grad_fn=<AddmmBackward0>)\n",
      "dep_delay_new    0.0\n",
      "Name: 5, dtype: float64\n"
     ]
    }
   ],
   "source": [
    "#Data sample used for inference\n",
    "i_test=0\n",
    "a=X_train.iloc[i_test]\n",
    "a=torch.tensor(a, dtype=torch.float32)\n",
    "\n",
    "#Fit scaler to how it was fitted during training\n",
    "scaler = StandardScaler()\n",
    "X_train_tensor = torch.tensor(X_train.values, dtype=torch.float32)\n",
    "X_train_scaled = scaler.fit_transform(X_train_tensor)\n",
    "X_train_tensor = torch.tensor(X_train_scaled, dtype=torch.float32)\n",
    "\n",
    "#transform data sample\n",
    "a=scaler.transform(a.reshape(1, -1))\n",
    "print(a)\n",
    "print(X_train_tensor[i_test])\n",
    "\n",
    "# transform np array to torch tensor\n",
    "a_tensor=torch.tensor(a, dtype=torch.float32)\n",
    "\n",
    "print(a_tensor)\n",
    "print(model(a_tensor))\n",
    "print(y_train.iloc[i_test])"
   ]
  }
 ],
 "metadata": {
  "kernelspec": {
   "display_name": "Python 3",
   "language": "python",
   "name": "python3"
  },
  "language_info": {
   "codemirror_mode": {
    "name": "ipython",
    "version": 3
   },
   "file_extension": ".py",
   "mimetype": "text/x-python",
   "name": "python",
   "nbconvert_exporter": "python",
   "pygments_lexer": "ipython3",
   "version": "3.10.12"
  }
 },
 "nbformat": 4,
 "nbformat_minor": 2
}
