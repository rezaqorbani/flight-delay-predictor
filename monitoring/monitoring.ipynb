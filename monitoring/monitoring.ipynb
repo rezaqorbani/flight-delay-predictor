{
 "cells": [
  {
   "cell_type": "code",
   "execution_count": 10,
   "metadata": {},
   "outputs": [],
   "source": [
    "import pandas as pd\n",
    "import hopsworks\n",
    "import joblib\n",
    "import datetime\n",
    "from datetime import datetime\n",
    "import numpy as np\n",
    "\n",
    "import dataframe_image as dfi\n",
    "import torch\n",
    "import torch.nn as nn\n",
    "from sklearn.preprocessing import StandardScaler\n",
    "from sklearn.metrics import mean_squared_error"
   ]
  },
  {
   "cell_type": "code",
   "execution_count": 11,
   "metadata": {},
   "outputs": [],
   "source": [
    "class NeuralNetwork(nn.Module):\n",
    "    def __init__(self, input_size):\n",
    "        super(NeuralNetwork, self).__init__()\n",
    "        self.fc1 = nn.Linear(input_size, 128)\n",
    "        self.relu = nn.ReLU()\n",
    "        self.dropout = nn.Dropout(0.2)\n",
    "        self.fc2 = nn.Linear(128, 64)\n",
    "        self.output = nn.Linear(64, 1)\n",
    "\n",
    "    def forward(self, x):\n",
    "        x = self.fc1(x)\n",
    "        x = self.relu(x)\n",
    "        x = self.dropout(x)\n",
    "        x = self.fc2(x)\n",
    "        x = self.relu(x)\n",
    "        x = self.output(x)\n",
    "        return x"
   ]
  },
  {
   "cell_type": "code",
   "execution_count": 12,
   "metadata": {},
   "outputs": [
    {
     "name": "stdout",
     "output_type": "stream",
     "text": [
      "Connection closed.\n",
      "Connected. Call `.close()` to terminate connection gracefully.\n",
      "\n",
      "Logged in to project, explore it here https://c.app.hopsworks.ai:443/p/197786\n",
      "Connected. Call `.close()` to terminate connection gracefully.\n",
      "Connected. Call `.close()` to terminate connection gracefully.\n",
      "Downloading model artifact (0 dirs, 1 files)... DONE\r"
     ]
    },
    {
     "name": "stderr",
     "output_type": "stream",
     "text": [
      "VersionWarning: No version provided for getting feature group `flight_data_v3`, defaulting to `1`.\n",
      "VersionWarning: No version provided for getting feature view `flight_data_v3`, defaulting to `1`.\n"
     ]
    }
   ],
   "source": [
    "project = hopsworks.login()\n",
    "fs = project.get_feature_store()\n",
    "\n",
    "dataset_api = project.get_dataset_api()\n",
    "\n",
    "mr = project.get_model_registry()\n",
    "model = mr.get_model(\"flight_delay_model\", version=2)\n",
    "model_dir = model.download()\n",
    "model = joblib.load(model_dir + \"/flight_delay_model.pkl\")\n",
    "\n",
    "feature_group = fs.get_feature_group(name=\"flight_data_v3\")\n",
    "feature_view = fs.get_feature_view(name=\"flight_data_v3\")"
   ]
  },
  {
   "cell_type": "markdown",
   "metadata": {},
   "source": [
    "## Fitting the scaler to the training data"
   ]
  },
  {
   "cell_type": "code",
   "execution_count": 14,
   "metadata": {},
   "outputs": [
    {
     "name": "stdout",
     "output_type": "stream",
     "text": [
      "Finished: Reading data from Hopsworks, using ArrowFlight (48.07s) \n"
     ]
    }
   ],
   "source": [
    "# fit the scaler\n",
    "X_train, X_test, y_train, y_test = feature_view.get_train_test_split(training_dataset_version=1)\n",
    "scaler = StandardScaler()\n",
    "X_train_tensor = torch.tensor(X_train.values, dtype=torch.float32)\n",
    "X_train_scaled = scaler.fit_transform(X_train_tensor)"
   ]
  },
  {
   "cell_type": "markdown",
   "metadata": {},
   "source": [
    "## Monitoring"
   ]
  },
  {
   "cell_type": "code",
   "execution_count": 15,
   "metadata": {},
   "outputs": [
    {
     "name": "stdout",
     "output_type": "stream",
     "text": [
      "Finished: Reading data from Hopsworks, using ArrowFlight (46.14s) \n"
     ]
    },
    {
     "name": "stderr",
     "output_type": "stream",
     "text": [
      "DeprecationWarning: Conversion of an array with ndim > 0 to a scalar is deprecated, and will error in future. Ensure you extract a single element from your array before performing this operation. (Deprecated NumPy 1.25.)\n"
     ]
    },
    {
     "name": "stdout",
     "output_type": "stream",
     "text": [
      "Delay_predicted: 7.680978775024414\n",
      "Finished: Reading data from Hopsworks, using ArrowFlight (47.50s) \n",
      "[48.  0.  0.  4. 44. 34.  0.  0.  0. 96.  0.  0.  0.  0.  0.]\n",
      "Delay_actual: 0.0\n",
      "Running MSE (n = 15): 13003.942971068702\n"
     ]
    }
   ],
   "source": [
    "\n",
    "batch_data = feature_view.get_batch_data()\n",
    "batch_data = torch.tensor(batch_data.values, dtype=torch.float32)\n",
    "batch_data = scaler.transform(batch_data)\n",
    "batch_data = torch.tensor(batch_data, dtype=torch.float32)\n",
    "\n",
    "preds = model(batch_data)\n",
    "\n",
    "window_length = 15\n",
    "latest_preds = preds[-window_length:]\n",
    "latest_preds = latest_preds.detach().numpy()\n",
    "latest_preds.ravel()\n",
    "latest_pred = float(latest_preds[-1])\n",
    "\n",
    "print(\"Delay_predicted: \" + str(latest_pred))\n",
    "\n",
    "df = feature_group.read()\n",
    "\n",
    "latest_labels = df[-window_length:][\"dep_delay_new\"]\n",
    "latest_labels = latest_labels.to_numpy()\n",
    "latest_label = float(latest_labels[-1])\n",
    "\n",
    "print(latest_labels)\n",
    "print(\"Delay_actual: \" + str(latest_label))\n",
    "\n",
    "\n",
    "loss = mean_squared_error(latest_labels, latest_preds)\n",
    "print(\"Running MSE (n = 15): \" + str(loss))\n"
   ]
  },
  {
   "cell_type": "code",
   "execution_count": 16,
   "metadata": {},
   "outputs": [
    {
     "data": {
      "application/vnd.jupyter.widget-view+json": {
       "model_id": "393e506581ed4aa7a0a161d501811482",
       "version_major": 2,
       "version_minor": 0
      },
      "text/plain": [
       "Uploading Dataframe: 0.00% |          | Rows 0/1 | Elapsed Time: 00:00 | Remaining Time: ?"
      ]
     },
     "metadata": {},
     "output_type": "display_data"
    },
    {
     "name": "stdout",
     "output_type": "stream",
     "text": [
      "Launching job: flight_delay_predictions_1_offline_fg_materialization\n",
      "Job started successfully, you can follow the progress at \n",
      "https://c.app.hopsworks.ai/p/197786/jobs/named/flight_delay_predictions_1_offline_fg_materialization/executions\n"
     ]
    },
    {
     "data": {
      "text/plain": [
       "(<hsfs.core.job.Job at 0x7f8313b8c370>, None)"
      ]
     },
     "execution_count": 16,
     "metadata": {},
     "output_type": "execute_result"
    }
   ],
   "source": [
    "monitor_fg = fs.get_or_create_feature_group(\n",
    "    name=\"flight_delay_predictions\",\n",
    "    version=1,\n",
    "    primary_key=[\n",
    "        \"datetime\",\n",
    "    ],\n",
    "    description=\"Flight delay Prediction/Outcome Monitoring\",\n",
    ")\n",
    "now = datetime.now().strftime(\"%m/%d/%Y, %H:%M:%S\")\n",
    "data = {\n",
    "    \"datetime\": [now],\n",
    "    \"prediction\": [latest_pred],\n",
    "    \"label\": [latest_label],\n",
    "    \"mse\": [loss],\n",
    "}\n",
    "\n",
    "monitor_df = pd.DataFrame(data)\n",
    "monitor_fg.insert(monitor_df, write_options={\"wait_for_job\": False}) # set this to True if you want to run it faster (async) but you will not be able to run the next cell"
   ]
  },
  {
   "cell_type": "markdown",
   "metadata": {},
   "source": [
    "## Add to history"
   ]
  },
  {
   "cell_type": "code",
   "execution_count": 31,
   "metadata": {},
   "outputs": [
    {
     "name": "stdout",
     "output_type": "stream",
     "text": [
      "Finished: Reading data from Hopsworks, using ArrowFlight (2.57s) \n"
     ]
    },
    {
     "data": {
      "application/vnd.jupyter.widget-view+json": {
       "model_id": "c303744908cd459fabc3f5c8ca62de9a",
       "version_major": 2,
       "version_minor": 0
      },
      "text/plain": [
       "Uploading: 0.000%|          | 0/20703 elapsed<00:00 remaining<?"
      ]
     },
     "metadata": {},
     "output_type": "display_data"
    },
    {
     "data": {
      "text/plain": [
       "'Resources/images/recent_delay_performance.png'"
      ]
     },
     "execution_count": 31,
     "metadata": {},
     "output_type": "execute_result"
    }
   ],
   "source": [
    "history_df = monitor_fg.read()\n",
    "history_df = pd.concat([history_df, monitor_df])\n",
    "\n",
    "df_recent = history_df.tail(5)\n",
    "dfi.export(df_recent, \"./recent_delay_performance.png\", table_conversion=\"matplotlib\")\n",
    "dataset_api.upload(\"./recent_delay_performance.png\", \"Resources/images\", overwrite=True)\n",
    "\n"
   ]
  }
 ],
 "metadata": {
  "kernelspec": {
   "display_name": ".venv",
   "language": "python",
   "name": "python3"
  },
  "language_info": {
   "codemirror_mode": {
    "name": "ipython",
    "version": 3
   },
   "file_extension": ".py",
   "mimetype": "text/x-python",
   "name": "python",
   "nbconvert_exporter": "python",
   "pygments_lexer": "ipython3",
   "version": "3.10.12"
  }
 },
 "nbformat": 4,
 "nbformat_minor": 2
}
